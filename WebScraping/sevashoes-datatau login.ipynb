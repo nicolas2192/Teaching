{
 "cells": [
  {
   "cell_type": "code",
   "execution_count": 233,
   "metadata": {},
   "outputs": [],
   "source": [
    "import requests\n",
    "import bs4\n",
    "import hashlib\n",
    "# from config import username, password # vendermercadolibrenico@gmail.com, sevashoesmorodo21N"
   ]
  },
  {
   "cell_type": "markdown",
   "metadata": {},
   "source": [
    "# SevaShoes.com"
   ]
  },
  {
   "cell_type": "code",
   "execution_count": 234,
   "metadata": {},
   "outputs": [],
   "source": [
    "url = \"https://sevashoes.com/login\""
   ]
  },
  {
   "cell_type": "code",
   "execution_count": 235,
   "metadata": {},
   "outputs": [],
   "source": [
    "def to_md5(s):\n",
    "    \"\"\"\n",
    "    Turn any string into a md5 hash string.\n",
    "    \"\"\"\n",
    "    h = hashlib.md5(bytes(s, encoding=\"utf8\")).hexdigest()\n",
    "    return h"
   ]
  },
  {
   "cell_type": "code",
   "execution_count": 236,
   "metadata": {},
   "outputs": [
    {
     "name": "stdout",
     "output_type": "stream",
     "text": [
      "vendermercadolibrenico@gmail.com\n",
      "sevashoesmorodo21N\n"
     ]
    }
   ],
   "source": [
    "username = \"vendermercadolibrenico@gmail.com\"\n",
    "password = \"sevashoesmorodo21N\""
   ]
  },
  {
   "cell_type": "code",
   "execution_count": 237,
   "metadata": {},
   "outputs": [
    {
     "name": "stdout",
     "output_type": "stream",
     "text": [
      "Challenge: 95a0fd99def3da86bef6ed3876150532\n",
      "Password: 1c0182d5fe436565ba494b05702bc2f1\n",
      "Secret Key: 24e611ad828cadfc739b1808131f12eb\n"
     ]
    },
    {
     "data": {
      "text/plain": [
       "'https://sevashoes.com/catalogo'"
      ]
     },
     "execution_count": 237,
     "metadata": {},
     "output_type": "execute_result"
    }
   ],
   "source": [
    "session = requests.Session()\n",
    "    \n",
    "# Getting the challenge value\n",
    "r = session.get(url)\n",
    "soup = bs4.BeautifulSoup(r.content)\n",
    "challenge = soup.find(\"input\", attrs={\"id\": \"challenge\"})[\"value\"]\n",
    "print(\"Challenge:\", challenge)\n",
    "\n",
    "md5_pass = to_md5(password)\n",
    "print(\"Password:\", md5_pass)\n",
    "\n",
    "secret_key = to_md5(username + \":\" + md5_pass + \":\" + challenge)\n",
    "print(\"Secret Key:\", secret_key)\n",
    "\n",
    "data = {\"username\": username, \"password\": \"\", \"challenge\": \"\", \"response\": secret_key}\n",
    "\n",
    "r_post = session.post(url, data)\n",
    "r_post.url"
   ]
  },
  {
   "cell_type": "code",
   "execution_count": null,
   "metadata": {},
   "outputs": [],
   "source": []
  },
  {
   "cell_type": "code",
   "execution_count": null,
   "metadata": {},
   "outputs": [],
   "source": []
  },
  {
   "cell_type": "markdown",
   "metadata": {},
   "source": [
    "# DataTau.com"
   ]
  },
  {
   "cell_type": "code",
   "execution_count": 230,
   "metadata": {},
   "outputs": [],
   "source": [
    "url1 = \"http://www.datatau.com\"\n",
    "url3 = \"http://www.datatau.com/y\""
   ]
  },
  {
   "cell_type": "code",
   "execution_count": 231,
   "metadata": {},
   "outputs": [],
   "source": [
    "username = \"nicotest21\"\n",
    "password = \"testtest21\""
   ]
  },
  {
   "cell_type": "code",
   "execution_count": 232,
   "metadata": {},
   "outputs": [
    {
     "name": "stdout",
     "output_type": "stream",
     "text": [
      "<a href=\"/x?fnid=NPUtkqh4Zk\">login</a>\n",
      "1st hidden element. Query: /x?fnid=NPUtkqh4Zk\n",
      "2nd hidden element. fnid: Sg58EMjotE\n",
      "{'fnid': 'Sg58EMjotE', 'u': 'nicotest21', 'p': 'testtest21'}\n",
      "<a href=\"user?id=nicotest21\">nicotest21</a>\n"
     ]
    }
   ],
   "source": [
    "session = requests.Session()\n",
    "\n",
    "# Retrieving login code from hidden text\n",
    "r_get1 = session.get(url1)\n",
    "soup = bs4.BeautifulSoup(r_get1.content)\n",
    "query = soup.find(\"a\", string=\"login\")[\"href\"]\n",
    "\n",
    "spans = soup.find_all(\"span\", attrs={\"class\": \"pagetop\"})\n",
    "print(spans[1].a)\n",
    "print(\"1st hidden element. Query:\", query)\n",
    "\n",
    "# Retrieving fnid from hidden text\n",
    "url2 = url1 + query\n",
    "r_get2 = session.get(url2)\n",
    "soup = bs4.BeautifulSoup(r_get2.content)\n",
    "fnids = soup.find_all(\"input\", attrs={\"name\": \"fnid\"})\n",
    "fnid = fnids[0][\"value\"]\n",
    "print(\"2nd hidden element. fnid:\", fnid)\n",
    "\n",
    "# Sending post request\n",
    "data = {\"fnid\": fnid, \"u\": username, \"p\": password}\n",
    "print(data)\n",
    "r_post = session.post(url3, data=data)\n",
    "\n",
    "soup = bs4.BeautifulSoup(r_post.content)\n",
    "spans = soup.find_all(\"span\", attrs={\"class\": \"pagetop\"})\n",
    "print(spans[1].a)"
   ]
  },
  {
   "cell_type": "code",
   "execution_count": null,
   "metadata": {},
   "outputs": [],
   "source": []
  },
  {
   "cell_type": "code",
   "execution_count": null,
   "metadata": {},
   "outputs": [],
   "source": []
  },
  {
   "cell_type": "code",
   "execution_count": null,
   "metadata": {},
   "outputs": [],
   "source": []
  },
  {
   "cell_type": "code",
   "execution_count": null,
   "metadata": {},
   "outputs": [],
   "source": []
  }
 ],
 "metadata": {
  "kernelspec": {
   "display_name": "Python 3",
   "language": "python",
   "name": "python3"
  },
  "language_info": {
   "codemirror_mode": {
    "name": "ipython",
    "version": 3
   },
   "file_extension": ".py",
   "mimetype": "text/x-python",
   "name": "python",
   "nbconvert_exporter": "python",
   "pygments_lexer": "ipython3",
   "version": "3.7.7"
  }
 },
 "nbformat": 4,
 "nbformat_minor": 4
}
