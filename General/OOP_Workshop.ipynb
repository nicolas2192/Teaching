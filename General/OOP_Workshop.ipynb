{
 "cells": [
  {
   "cell_type": "markdown",
   "id": "287385eb-cb7a-43c6-b517-f58a12512598",
   "metadata": {},
   "source": [
    "# Understanding Classes"
   ]
  },
  {
   "cell_type": "markdown",
   "id": "1dbe6774-6918-4edd-b691-dcf81d6335c4",
   "metadata": {},
   "source": [
    "Video https://youtu.be/Ej_02ICOIgs\n",
    "\n",
    "Documentation: http://openbookproject.net/thinkcs/python/english3e/classes_and_objects_I.html"
   ]
  },
  {
   "cell_type": "markdown",
   "id": "79f278d3-1968-498e-9af5-fae69b81fc11",
   "metadata": {},
   "source": [
    "Instance attributes are linked to a specific instance, while class attributes when changed, modify all instances of the class."
   ]
  },
  {
   "cell_type": "code",
   "execution_count": 1,
   "id": "8fad16ea-7543-4d0b-a30b-1d084e2d7171",
   "metadata": {},
   "outputs": [],
   "source": [
    "class Item():\n",
    "    \n",
    "    # Class attributes\n",
    "    pay_rate = 0.8\n",
    "    all_items = []\n",
    "    \n",
    "    def __init__(self, name: str, price: float, quantity=0):\n",
    "        # Run checks\n",
    "        assert price >= 0, f'{price} should be equal or greater than 0'\n",
    "        assert quantity >= 0, f'{quantity} should be equal or greater than 0'\n",
    "        \n",
    "        # Assign attributes\n",
    "        self.name = name\n",
    "        self.price = price\n",
    "        self.quantity = quantity\n",
    "        \n",
    "        # Add new instance to all items list\n",
    "        Item.all_items.append(self)\n",
    "\n",
    "    def calculate_total_price(self):\n",
    "        return self.price * self.quantity\n",
    "    \n",
    "    def apply_discount(self):\n",
    "        self.price = self.price * self.pay_rate # if we keep Item.pay_rate it will always apply the class attribute\n",
    "        \n",
    "    @classmethod\n",
    "    def list_of_items(cls):\n",
    "        return cls.all_items\n",
    "    \n",
    "    @staticmethod\n",
    "    def low_stock_check(num):\n",
    "        return 'LOW' if num < 5 else 'OK'\n",
    "        \n",
    "    def __repr__(self):\n",
    "        # As a best practice, you should always add the class name (Item in this case)\n",
    "        # {self.__class__.__name__} = Dynamic way of returning the class name\n",
    "        return f'{self.__class__.__name__}({self.name}, {self.price}, {self.quantity})' \n",
    "    \n",
    "        # Dynamically fetching attributes\n",
    "        # atts = tuple([v for v in self.__dict__.values()])\n",
    "        # return f'{self.__class__.__name__}{atts}'\n",
    "\n",
    "    "
   ]
  },
  {
   "cell_type": "code",
   "execution_count": 5,
   "id": "39ebb97e-8d61-4870-9dd2-74fda31e87e4",
   "metadata": {},
   "outputs": [
    {
     "name": "stdout",
     "output_type": "stream",
     "text": [
      "500\n",
      "0\n",
      "0.8\n",
      "0.8\n"
     ]
    }
   ],
   "source": [
    "item1 = Item('Phone', 100, 5)\n",
    "item2 = Item('Laptop', 1000, 0)\n",
    "item3 = Item('Cable', 10, 5)\n",
    "item4 = Item('Mouse', 50, 0)\n",
    "item5 = Item('Keyboard', 75, 5)\n",
    "\n",
    "print(item1.calculate_total_price())\n",
    "print(item2.calculate_total_price())\n",
    "\n",
    "print(Item.pay_rate)\n",
    "print(item1.pay_rate)"
   ]
  },
  {
   "cell_type": "code",
   "execution_count": null,
   "id": "576cc878-1776-4ac0-ad3c-57a258d884e6",
   "metadata": {},
   "outputs": [],
   "source": [
    "# Print all attributes using the __dict__ magic attribute\n",
    "\n",
    "print(Item.__dict__) # All class attributes\n",
    "print()\n",
    "print(item1.__dict__) # All instance attributes"
   ]
  },
  {
   "cell_type": "code",
   "execution_count": null,
   "id": "d61ab477-e511-4884-8d56-dd0cef878361",
   "metadata": {},
   "outputs": [],
   "source": [
    "# Using class attributes\n",
    "\n",
    "print(item1.price)\n",
    "item1.apply_discount()\n",
    "print(item1.price)"
   ]
  },
  {
   "cell_type": "code",
   "execution_count": null,
   "id": "77c5416c-ec4e-41b6-82e5-fa1aa245c51f",
   "metadata": {},
   "outputs": [],
   "source": [
    "# Since we are creating the pay_rate attribute within the instance, the code dont look for this value in the class attributes section (it was found in the instance)\n",
    "\n",
    "print(item2.price)\n",
    "item2.pay_rate = 0.7\n",
    "#item2.apply_discount()\n",
    "print(item2.price)"
   ]
  },
  {
   "cell_type": "code",
   "execution_count": null,
   "id": "346ef1e7-4e94-44fb-ac7a-d194fccb6d24",
   "metadata": {},
   "outputs": [],
   "source": [
    "# Printing all created instances\n",
    "\n",
    "print(Item.all_items)"
   ]
  },
  {
   "cell_type": "markdown",
   "id": "182e197d-d563-4b99-b472-9c13a465aed2",
   "metadata": {
    "tags": []
   },
   "source": [
    "### Class and Static Methods"
   ]
  },
  {
   "cell_type": "code",
   "execution_count": null,
   "id": "d7fd7fdb-4a96-462e-8bf8-b18f97696118",
   "metadata": {},
   "outputs": [],
   "source": [
    "# Both Class Method and Statics Method can be called from the instance but the best practice and what you should be doing is calling them from the class object."
   ]
  },
  {
   "cell_type": "code",
   "execution_count": null,
   "id": "64e38108-1800-4128-8c86-8d146265b6ff",
   "metadata": {},
   "outputs": [],
   "source": [
    "# Class method. This decorator creates a method that will be executed using the class object, not the instance.\n",
    "\n",
    "# item1.list_of_items() # will work but it is frown upon, use the class object to call class and static method ALWAYS.\n",
    "\n",
    "Item.list_of_items()"
   ]
  },
  {
   "cell_type": "code",
   "execution_count": null,
   "id": "4c1a1437-345d-4240-b665-e469c457b100",
   "metadata": {},
   "outputs": [],
   "source": [
    "# Static method. This decorator creates a normal function, you wont need to use self here be because it behaves as if it were an isolated function.\n",
    "\n",
    "print(Item.low_stock_check(item1.quantity))\n",
    "print(Item.low_stock_check(item2.quantity))"
   ]
  },
  {
   "cell_type": "markdown",
   "id": "3ae26b0e-b6b0-41f2-bef8-ecb8fe7f6fff",
   "metadata": {
    "tags": []
   },
   "source": [
    "**When to use methods and when to use statics methods?**\n",
    "\n",
    "As a rule of thumb you will be using static method with actions that have something to do with the class but are not unique per instance."
   ]
  },
  {
   "cell_type": "markdown",
   "id": "b1f2db1d-a11b-4aac-ba62-22600a08e060",
   "metadata": {},
   "source": [
    "### Inheritance"
   ]
  },
  {
   "cell_type": "code",
   "execution_count": 11,
   "id": "7160b769-1234-4bbb-b008-243202829b9c",
   "metadata": {},
   "outputs": [],
   "source": [
    "class Phone(Item):\n",
    "    \n",
    "    # Class attributes\n",
    "    all_phones = []\n",
    "    \n",
    "    def __init__(self, name: str, price: float, quantity=0, broken_phone=0):\n",
    "        \n",
    "        # Call to super function to have access to all attributes/methods from the parent _init_ magic method\n",
    "        super().__init__(name, price, quantity)\n",
    "    \n",
    "        # Run checks\n",
    "        assert broken_phone >= 0, f'{broken_phone} should be equal or greater than 0'\n",
    "\n",
    "        # Assign attributes\n",
    "        self.broken_phone = broken_phone\n",
    "\n",
    "        # Add new instance to all items list\n",
    "        Phone.all_phones.append(self)\n",
    "\n",
    "    def ring(self):\n",
    "        print('Ringing...')"
   ]
  },
  {
   "cell_type": "code",
   "execution_count": 12,
   "id": "39a5ff08-03fa-40da-b8c9-ad0943927a12",
   "metadata": {},
   "outputs": [],
   "source": [
    "phone1 = Phone('nico1', 500, 5)\n",
    "phone2 = Phone('nico2', 500, 5)"
   ]
  },
  {
   "cell_type": "code",
   "execution_count": 13,
   "id": "46d57d97-9380-44e0-bb01-ed83973d36c1",
   "metadata": {},
   "outputs": [
    {
     "name": "stdout",
     "output_type": "stream",
     "text": [
      "Phone(nico1, 500, 5)\n",
      "Ringing...\n"
     ]
    }
   ],
   "source": [
    "print(phone1)\n",
    "phone1.ring()"
   ]
  },
  {
   "cell_type": "code",
   "execution_count": 7,
   "id": "e812cd9b-30d9-4a51-892d-f2d0dd24d327",
   "metadata": {},
   "outputs": [
    {
     "name": "stdout",
     "output_type": "stream",
     "text": [
      "[Phone(nico1, 500, 5), Phone(nico2, 500, 5)]\n"
     ]
    }
   ],
   "source": [
    "print(Phone.all_phones)"
   ]
  },
  {
   "cell_type": "code",
   "execution_count": 8,
   "id": "36553ca1-3299-4cb2-949e-449519caf796",
   "metadata": {},
   "outputs": [
    {
     "name": "stdout",
     "output_type": "stream",
     "text": [
      "[Phone(nico1, 500, 5), Phone(nico2, 500, 5), Item(Phone, 100, 5), Item(Laptop, 1000, 0), Item(Cable, 10, 5), Item(Mouse, 50, 0), Item(Keyboard, 75, 5)]\n"
     ]
    }
   ],
   "source": [
    "print(Item.all_items)"
   ]
  },
  {
   "cell_type": "markdown",
   "id": "b399b864-a4ed-495f-82b3-01dd39ff2334",
   "metadata": {},
   "source": [
    "### Getters and Setters"
   ]
  },
  {
   "cell_type": "markdown",
   "id": "7a1b228d-beba-446a-b17d-04ccdc2fd802",
   "metadata": {},
   "source": [
    "One underscore **_** means that the attribute or method is used within the class but the user does not need to know about it or use it.\n",
    "\n",
    "Two underscores **__** hides the attribute or method completely, converting it into a private attribute. \n",
    "\n",
    "The `@property` decorator sets the attribute read only. The function's name should be the name the attibute should have. "
   ]
  },
  {
   "cell_type": "code",
   "execution_count": 36,
   "id": "e0a5b50f-160e-440c-9ef9-53da82ca6f30",
   "metadata": {},
   "outputs": [],
   "source": [
    "class ItemTest():\n",
    "    \n",
    "    def __init__(self, name: str, price: float, quantity=0, usb_ports=0):\n",
    "        # Run checks\n",
    "        assert price >= 0, f'{price} should be equal or greater than 0'\n",
    "        assert quantity >= 0, f'{quantity} should be equal or greater than 0'\n",
    "        \n",
    "        # Assign attributes\n",
    "        self.__name = name # adding the name the private attribute \n",
    "        self.__not_visible_temp_attribute = usb_ports\n",
    "        self.price = price\n",
    "        self.quantity = quantity\n",
    "    \n",
    "    @property\n",
    "    def name(self):\n",
    "        # Setting name attribute as read only. Cannot be modified once instantiated\n",
    "        return self.__name\n",
    "    \n",
    "    @property\n",
    "    def number_of_usd_ports(self):\n",
    "        # the class name will be the attribute name (number_of_usd_ports)\n",
    "        return self.__not_visible_temp_attribute\n",
    "    \n",
    "    def print_it(self):\n",
    "        print(self.__not_visible_temp_attribute)\n",
    "    \n",
    "    # this overrides the property getter decorator allowing the user being able to once more change the attribute value by usigning something else to it\n",
    "    @name.setter\n",
    "    def name(self, value):\n",
    "        self.__name = value\n",
    "    \n",
    "    def __repr__(self):\n",
    "        return f'{self.__class__.__name__}({self.name}, {self.price}, {self.quantity}, {self.number_of_usd_ports})'"
   ]
  },
  {
   "cell_type": "code",
   "execution_count": 37,
   "id": "47f4c640-a77b-43ed-ac42-049e71cb4c22",
   "metadata": {},
   "outputs": [],
   "source": [
    "t = ItemTest('test1', 100, 20, 3)"
   ]
  },
  {
   "cell_type": "code",
   "execution_count": 38,
   "id": "037c5377-8984-42f6-aada-9388c9b52080",
   "metadata": {},
   "outputs": [
    {
     "name": "stdout",
     "output_type": "stream",
     "text": [
      "test1 3\n"
     ]
    }
   ],
   "source": [
    "print(t.name, t.number_of_usd_ports)"
   ]
  },
  {
   "cell_type": "code",
   "execution_count": 39,
   "id": "0488016b-e0d4-486b-9d6c-a808e5ecfb44",
   "metadata": {},
   "outputs": [
    {
     "name": "stdout",
     "output_type": "stream",
     "text": [
      "can't set attribute\n"
     ]
    }
   ],
   "source": [
    "# Error arises, cannot change read only attributes\n",
    "try:\n",
    "    t.number_of_usd_ports = 5\n",
    "except Exception as e0:\n",
    "    print(str(e0))"
   ]
  },
  {
   "cell_type": "code",
   "execution_count": 41,
   "id": "7e17a5ca-a551-4832-9e56-5eb315c1fdf5",
   "metadata": {},
   "outputs": [
    {
     "name": "stdout",
     "output_type": "stream",
     "text": [
      "new_name\n"
     ]
    }
   ],
   "source": [
    "# Although we have the @property decorator set in place, this will work because @name.setter overrides it, allowing changes to take place. \n",
    "t.name = 'new_name'\n",
    "print(t.name)"
   ]
  },
  {
   "cell_type": "code",
   "execution_count": 42,
   "id": "254e13c8-08a1-4145-b4da-e1765593832c",
   "metadata": {},
   "outputs": [
    {
     "name": "stdout",
     "output_type": "stream",
     "text": [
      "3\n"
     ]
    }
   ],
   "source": [
    "t.print_it()"
   ]
  },
  {
   "cell_type": "code",
   "execution_count": null,
   "id": "cc44b0e3-f0c1-4c38-9aae-53e4ff54d3e8",
   "metadata": {},
   "outputs": [],
   "source": []
  }
 ],
 "metadata": {
  "kernelspec": {
   "display_name": "Python [conda env:snake]",
   "language": "python",
   "name": "conda-env-snake-py"
  },
  "language_info": {
   "codemirror_mode": {
    "name": "ipython",
    "version": 3
   },
   "file_extension": ".py",
   "mimetype": "text/x-python",
   "name": "python",
   "nbconvert_exporter": "python",
   "pygments_lexer": "ipython3",
   "version": "3.9.13"
  }
 },
 "nbformat": 4,
 "nbformat_minor": 5
}
