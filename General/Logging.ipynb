{
 "cells": [
  {
   "cell_type": "markdown",
   "metadata": {
    "application/vnd.databricks.v1+cell": {
     "cellMetadata": {},
     "inputWidgets": {},
     "nuid": "c9eada11-e03e-4740-9c54-10e19783fdb7",
     "showTitle": false,
     "title": ""
    }
   },
   "source": [
    "# Logging\n",
    "\n",
    "#### Upskill your debuging from print() to Logs.\n",
    "\n",
    "By default, there are 5 standard levels indicating the severity of events. Each has a corresponding method that can be used to log events at that level of severity. The defined levels, in order of increasing severity, are the following:\n",
    "\n",
    "- DEBUG\n",
    "- INFO\n",
    "- WARNING\n",
    "- ERROR\n",
    "- CRITICAL\n",
    "\n",
    "https://realpython.com/python-logging/#the-logging-module"
   ]
  },
  {
   "cell_type": "code",
   "execution_count": null,
   "metadata": {
    "application/vnd.databricks.v1+cell": {
     "cellMetadata": {
      "byteLimit": 2048000,
      "rowLimit": 10000
     },
     "inputWidgets": {},
     "nuid": "ad6ee371-d099-417f-ba4d-6a0ea8f9c2d9",
     "showTitle": false,
     "title": ""
    }
   },
   "outputs": [],
   "source": [
    "import logging\n",
    "\n",
    "logging.debug('This is a debug message')\n",
    "logging.info('This is an info message')\n",
    "logging.warning('This is a warning message')\n",
    "logging.error('This is an error message')\n",
    "logging.critical('This is a critical message')"
   ]
  },
  {
   "cell_type": "markdown",
   "metadata": {
    "application/vnd.databricks.v1+cell": {
     "cellMetadata": {},
     "inputWidgets": {},
     "nuid": "01616126-4640-474f-bd28-27124edef219",
     "showTitle": false,
     "title": ""
    }
   },
   "source": [
    "Some common parameters for the basicConfig class are:\n",
    "- level: The root logger will be set to the specified severity level. By default debug and info are not logged. By setting it to debug you will be logging all messages since default has the lowest priority level in the hierarchy.\n",
    "- filename: This specifies the file where the log will be stored. if empty, logs will be printed on console only.\n",
    "- filemode: If filename is given, the file is opened in this mode. The default is a, which means append.\n",
    "- format: This is the format of the log message, how it will look like. There are multiple things that could be added to the format, such as process ID, timestamp, etc. [Check it out here](https://docs.python.org/3/library/logging.html#logrecord-attributes)"
   ]
  },
  {
   "cell_type": "code",
   "execution_count": null,
   "metadata": {
    "application/vnd.databricks.v1+cell": {
     "cellMetadata": {
      "byteLimit": 2048000,
      "rowLimit": 10000
     },
     "inputWidgets": {},
     "nuid": "1f584d02-5446-442e-bbe3-0774782c6ae2",
     "showTitle": false,
     "title": ""
    }
   },
   "outputs": [],
   "source": [
    "# creates a log object, sets level to debug (everything will be logged), and stores the log in a file named app.log\n",
    "\n",
    "logging.basicConfig(level=logging.DEBUG,\n",
    "                    filename='app.log', \n",
    "                    filemode='w', \n",
    "                    format='%(name)s - %(levelname)s - %(message)s')\n",
    "\n",
    "logging.debug('This is a debug message')"
   ]
  },
  {
   "cell_type": "code",
   "execution_count": null,
   "metadata": {
    "application/vnd.databricks.v1+cell": {
     "cellMetadata": {
      "byteLimit": 2048000,
      "rowLimit": 10000
     },
     "inputWidgets": {},
     "nuid": "0c95e047-9157-4e63-ba7d-1c66329d9441",
     "showTitle": false,
     "title": ""
    }
   },
   "outputs": [],
   "source": [
    "# creates a log object. Only warning is coming because debug and info are not excluded by default.\n",
    "# the format parameter enables formatting options.\n",
    "# asctime enables date/time log details\n",
    "\n",
    "logging.basicConfig(format='%(asctime)s - %(name)s - %(levelname)s - %(message)s', datefmt='%d-%b-%y %H:%M:%S')\n",
    "\n",
    "logging.debug('This is a debug message')\n",
    "logging.warning('This is a warning')"
   ]
  },
  {
   "cell_type": "code",
   "execution_count": null,
   "metadata": {
    "application/vnd.databricks.v1+cell": {
     "cellMetadata": {
      "byteLimit": 2048000,
      "rowLimit": 10000
     },
     "inputWidgets": {},
     "nuid": "14b1008c-dc60-47f0-822f-e2795d1698e0",
     "showTitle": false,
     "title": ""
    }
   },
   "outputs": [],
   "source": [
    "### Logging Errors"
   ]
  },
  {
   "cell_type": "code",
   "execution_count": null,
   "metadata": {
    "application/vnd.databricks.v1+cell": {
     "cellMetadata": {
      "byteLimit": 2048000,
      "rowLimit": 10000
     },
     "inputWidgets": {},
     "nuid": "c80d9444-5510-4af9-b193-5fa5c27a6289",
     "showTitle": false,
     "title": ""
    }
   },
   "outputs": [],
   "source": [
    "#logging.exception() works as logging.error(exc_info=True)\n",
    "\n",
    "a, b = 5, 0\n",
    "\n",
    "try:\n",
    "    c = a / b # This return a Zero Division Exception\n",
    "except Exception as e:\n",
    "    logging.error('Exception occurred', exc_info=True) \n",
    "    logging.exception('Exception occurred')"
   ]
  },
  {
   "cell_type": "markdown",
   "metadata": {
    "application/vnd.databricks.v1+cell": {
     "cellMetadata": {
      "byteLimit": 2048000,
      "rowLimit": 10000
     },
     "inputWidgets": {},
     "nuid": "947ba93d-483a-4b40-a67f-4a4686b0d718",
     "showTitle": false,
     "title": ""
    }
   },
   "source": [
    "### Instantiate the class. Log the right way\n",
    "\n",
    "The most commonly used classes defined in the logging module are the following:\n",
    "- Logger: This is the class whose objects will be used in the application code directly to call the functions.\n",
    "- LogRecord: Loggers automatically create LogRecord objects that have all the information related to the event being logged, like the name of the logger, the function, the line number, the message, and more.\n",
    "- Handler: Handlers send the LogRecord to the required output destination, like the console or a file. Handler is a base for subclasses like StreamHandler, FileHandler, SMTPHandler, HTTPHandler, and more. These subclasses send the logging outputs to corresponding destinations, like sys.stdout or a disk file.\n",
    "- Formatter: This is where you specify the format of the output by specifying a string format that lists out the attributes that the output should contain.\n",
    "\n",
    "This approach is preferable over using basicConfig because it gives more freedom. You can have have different formats and handler for the same log.\n",
    "\n",
    "**In short, every log will have these 4 things:**\n",
    "- Logger is the Log class.\n",
    "- LogRecords is an object that keeps the logs.\n",
    "- Handler sends the LogRecords information to the output destination, such as a file or terminal.\n",
    "- Formatter formats the output string."
   ]
  },
  {
   "cell_type": "code",
   "execution_count": null,
   "metadata": {
    "application/vnd.databricks.v1+cell": {
     "cellMetadata": {
      "byteLimit": 2048000,
      "rowLimit": 10000
     },
     "inputWidgets": {},
     "nuid": "1f3c0e22-55fc-454b-9532-7e941314f94d",
     "showTitle": false,
     "title": ""
    }
   },
   "outputs": [],
   "source": [
    "import logging\n",
    "\n",
    "log = logging.getLogger('My Log')\n",
    "log.warning('Warning!')"
   ]
  },
  {
   "cell_type": "code",
   "execution_count": null,
   "metadata": {
    "application/vnd.databricks.v1+cell": {
     "cellMetadata": {
      "byteLimit": 2048000,
      "rowLimit": 10000
     },
     "inputWidgets": {},
     "nuid": "b94a9606-e2a6-4d27-9cc0-29090a29f4c6",
     "showTitle": false,
     "title": ""
    }
   },
   "outputs": [],
   "source": [
    "# Create a full fledged log and save it into a file.\n",
    "\n",
    "import logging\n",
    "\n",
    "# Step 1 - Instantiate the logger object.\n",
    "# By adding __name__ here, we set the log's name to the module's name which is evoking the function.\n",
    "logger = logging.getLogger(__name__)\n",
    "\n",
    "# Step 2 - Instantiate handlers and set their error message levels.\n",
    "c_handler = logging.StreamHandler() # initiate the handler that sends logs to the console.\n",
    "f_handler = logging.FileHandler('file.log') # initiate the handler that saves logs to a file.\n",
    "c_handler.setLevel(logging.WARNING) # setting what logs will be shown in the console (warning and above).\n",
    "f_handler.setLevel(logging.ERROR) # setting whay logs will be kept in the file (error and above).\n",
    "\n",
    "# Step 3 - Instantiate formatters, format the log strings, and assign them to the handler.\n",
    "# datefmt formats the date while -8s sets the levelname string length to 8 characters always.c\n",
    "# Other useful parameters are: %(module)s - %(funcName)s - %(pathname)s - %(process)d - %(thread)d\n",
    "c_format = logging.Formatter('%(asctime)s - %(name)s - %(levelname)-8s - %(message)s', datefmt='%Y-%m-%d %H:%M:%S')\n",
    "f_format = logging.Formatter('%(asctime)s - %(name)s - %(levelname)-8s - %(message)s')\n",
    "c_handler.setFormatter(c_format) # assigning the format to the handler\n",
    "f_handler.setFormatter(f_format) # assigning the format to the handler\n",
    "\n",
    "# Step 4 - Assign the handlers to the logger object.\n",
    "logger.addHandler(c_handler)\n",
    "logger.addHandler(f_handler)\n"
   ]
  },
  {
   "cell_type": "code",
   "execution_count": null,
   "metadata": {
    "application/vnd.databricks.v1+cell": {
     "cellMetadata": {
      "byteLimit": 2048000,
      "rowLimit": 10000
     },
     "inputWidgets": {},
     "nuid": "0bdb3deb-a936-424b-b5ce-1aa10667e8ee",
     "showTitle": false,
     "title": ""
    }
   },
   "outputs": [],
   "source": [
    "logger.warning('This is a warning, shows up on the console only.')\n",
    "logger.error('This is an error, shows up on the console and its added to the log file.')"
   ]
  },
  {
   "cell_type": "code",
   "execution_count": null,
   "metadata": {
    "application/vnd.databricks.v1+cell": {
     "cellMetadata": {},
     "inputWidgets": {},
     "nuid": "0aed2d7f-2fb1-436e-8a38-cd8b9b6698e3",
     "showTitle": false,
     "title": ""
    }
   },
   "outputs": [],
   "source": []
  }
 ],
 "metadata": {
  "application/vnd.databricks.v1+notebook": {
   "dashboards": [],
   "language": "python",
   "notebookMetadata": {
    "pythonIndentUnit": 4
   },
   "notebookName": "Logging",
   "widgets": {}
  },
  "kernelspec": {
   "display_name": "Python 3 (ipykernel)",
   "language": "python",
   "name": "python3"
  },
  "language_info": {
   "codemirror_mode": {
    "name": "ipython",
    "version": 3
   },
   "file_extension": ".py",
   "mimetype": "text/x-python",
   "name": "python",
   "nbconvert_exporter": "python",
   "pygments_lexer": "ipython3",
   "version": "3.9.17"
  }
 },
 "nbformat": 4,
 "nbformat_minor": 4
}
