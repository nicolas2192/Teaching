{
 "cells": [
  {
   "cell_type": "markdown",
   "metadata": {
    "application/vnd.databricks.v1+cell": {
     "cellMetadata": {},
     "inputWidgets": {},
     "nuid": "1659c8d2-a792-46b1-bd05-019af4cfb845",
     "showTitle": false,
     "title": ""
    },
    "tags": []
   },
   "source": [
    "# map()\n",
    "https://realpython.com/python-map-function/"
   ]
  },
  {
   "cell_type": "markdown",
   "metadata": {
    "application/vnd.databricks.v1+cell": {
     "cellMetadata": {
      "byteLimit": 2048000,
      "rowLimit": 10000
     },
     "inputWidgets": {},
     "nuid": "c6ba06f4-606a-4ad7-9e45-d90b5a957922",
     "showTitle": false,
     "title": ""
    }
   },
   "source": [
    "map() applies function to each item in iterable in a loop and returns a new iterator that yields transformed items on demand. function can be any Python function that takes a number of arguments equal to the number of iterables you pass to map(). The first argument to map() is a transformation function. In other words, it’s the function that transforms each original item into a new (transformed) item. \n",
    "\n",
    "map(function, iterable[, iterable1, iterable2,..., iterableN])\n",
    "\n",
    "Since map() is written in C and is highly optimized, its internal implied loop can be more efficient than a regular Python for loop. This is one advantage of using map().\n",
    "\n",
    "A second advantage of using map() is related to memory consumption. With a for loop, you need to store the whole list in your system’s memory. With map(), you get items on demand, and only one item is in your system’s memory at a given time."
   ]
  },
  {
   "cell_type": "code",
   "execution_count": 2,
   "metadata": {
    "application/vnd.databricks.v1+cell": {
     "cellMetadata": {
      "byteLimit": 2048000,
      "rowLimit": 10000
     },
     "inputWidgets": {},
     "nuid": "cd28b80a-6e67-43f4-8188-d68cbfec80c9",
     "showTitle": false,
     "title": ""
    },
    "tags": []
   },
   "outputs": [
    {
     "name": "stdout",
     "output_type": "stream",
     "text": [
      "[1, 4, 9, 16] <-> [1, 4, 9, 16]\n"
     ]
    }
   ],
   "source": [
    "numbers = [1,2,3,4]\n",
    "\n",
    "squared_loop = [num ** 2 for num in numbers]\n",
    "squared_map = list(map(lambda x: x ** 2, numbers))\n",
    "\n",
    "print(squared_loop, '<->', squared_map)"
   ]
  },
  {
   "cell_type": "markdown",
   "metadata": {
    "application/vnd.databricks.v1+cell": {
     "cellMetadata": {},
     "inputWidgets": {},
     "nuid": "40664fc0-419f-4ac9-af67-c175b3000d81",
     "showTitle": false,
     "title": ""
    },
    "tags": []
   },
   "source": [
    "Map with two or more iterables\n",
    "\n",
    "if you supply multiple iterables to map(), then the transformation function must take as many arguments as iterables you pass in. Each iteration of map() will pass one value from each iterable as an argument to function. The iteration stops at the end of the shortest iterable."
   ]
  },
  {
   "cell_type": "code",
   "execution_count": 4,
   "metadata": {
    "application/vnd.databricks.v1+cell": {
     "cellMetadata": {
      "byteLimit": 2048000,
      "rowLimit": 10000
     },
     "inputWidgets": {},
     "nuid": "fe4022fa-b37e-4f5a-a830-0bdcb52fce31",
     "showTitle": false,
     "title": ""
    },
    "tags": []
   },
   "outputs": [
    {
     "name": "stdout",
     "output_type": "stream",
     "text": [
      "[1, 32, 729]\n",
      "[5, 7, 9]\n"
     ]
    }
   ],
   "source": [
    "first_it = [1, 2, 3]\n",
    "second_it = [4, 5, 6, 7]\n",
    "\n",
    "# pow() takes two arguments, x and y, and returns x to the power of y. \n",
    "print(list(map(pow, first_it, second_it)))\n",
    "\n",
    "def add_two(num1, num2):\n",
    "    return num1 + num2\n",
    "\n",
    "# add_two() is a user defined function that takes two arguments, returning the addition of both values. \n",
    "print(list(map(add_two, first_it, second_it)))"
   ]
  },
  {
   "cell_type": "markdown",
   "metadata": {
    "application/vnd.databricks.v1+cell": {
     "cellMetadata": {},
     "inputWidgets": {},
     "nuid": "14b05941-dd05-4550-8fc4-1df9b6ec2595",
     "showTitle": false,
     "title": ""
    },
    "tags": []
   },
   "source": [
    "## map() with filter() and reduce()"
   ]
  },
  {
   "cell_type": "markdown",
   "metadata": {
    "application/vnd.databricks.v1+cell": {
     "cellMetadata": {},
     "inputWidgets": {},
     "nuid": "b59a014a-ae92-45b5-b7c5-4eb909f206cd",
     "showTitle": false,
     "title": ""
    },
    "tags": []
   },
   "source": [
    "### filter()\n",
    "\n",
    "filter() yields the items of the input iterable for which function returns True. If you pass None to function, then filter() uses the identity function. This means that filter() will check the truth value of each item in iterable and filter out all of the items that are falsy."
   ]
  },
  {
   "cell_type": "code",
   "execution_count": 7,
   "metadata": {
    "application/vnd.databricks.v1+cell": {
     "cellMetadata": {
      "byteLimit": 2048000,
      "rowLimit": 10000
     },
     "inputWidgets": {},
     "nuid": "df656792-afae-4b97-a268-c51b3c780b3a",
     "showTitle": false,
     "title": ""
    },
    "tags": []
   },
   "outputs": [
    {
     "name": "stdout",
     "output_type": "stream",
     "text": [
      "[6, 7, 8]\n"
     ]
    }
   ],
   "source": [
    "numbers = [4,5,6,7,8]\n",
    "\n",
    "def higher_than_5(x):\n",
    "    return True if x > 5 else False\n",
    "\n",
    "print(list(filter(higher_than_5, numbers)))"
   ]
  },
  {
   "cell_type": "code",
   "execution_count": 8,
   "metadata": {
    "application/vnd.databricks.v1+cell": {
     "cellMetadata": {
      "byteLimit": 2048000,
      "rowLimit": 10000
     },
     "inputWidgets": {},
     "nuid": "0c7de76e-3fdb-49b5-87c6-642b9a8a4757",
     "showTitle": false,
     "title": ""
    },
    "tags": []
   },
   "outputs": [
    {
     "data": {
      "text/plain": [
       "[5.0, 3.0]"
      ]
     },
     "execution_count": 8,
     "metadata": {},
     "output_type": "execute_result"
    }
   ],
   "source": [
    "# Filtering negative values since sqrt() returns an error\n",
    "import math\n",
    "\n",
    "numbers = [-4, 25, -16, 9]\n",
    "\n",
    "list(map(math.sqrt, filter(lambda x: x>0, numbers)))"
   ]
  },
  {
   "cell_type": "markdown",
   "metadata": {
    "application/vnd.databricks.v1+cell": {
     "cellMetadata": {},
     "inputWidgets": {},
     "nuid": "15255fa7-8bf5-4927-92ec-a98f0111241b",
     "showTitle": false,
     "title": ""
    },
    "tags": []
   },
   "source": [
    "### reduce()\n",
    "\n",
    "Python’s reduce() is a function that lives in a module called functools in the Python standard library. reduce() is another core functional tool in Python that is useful when you need to apply a function to an iterable and reduce it to a single cumulative value. This kind of operation is commonly known as reduction or folding."
   ]
  },
  {
   "cell_type": "code",
   "execution_count": 10,
   "metadata": {
    "application/vnd.databricks.v1+cell": {
     "cellMetadata": {
      "byteLimit": 2048000,
      "rowLimit": 10000
     },
     "inputWidgets": {},
     "nuid": "60d0d031-2496-48c9-9160-268e30235295",
     "showTitle": false,
     "title": ""
    },
    "tags": []
   },
   "outputs": [
    {
     "name": "stdout",
     "output_type": "stream",
     "text": [
      "70\n"
     ]
    }
   ],
   "source": [
    "import pandas as pd\n",
    "import functools\n",
    "import operator\n",
    "\n",
    "df = pd.DataFrame(data=[['a', 19], ['b', 21], ['c', 30], ['z', 1]], columns=['let', 'num'])\n",
    "\n",
    "# Filters out num < 10 and adds up the result: 19 + 21 + 30\n",
    "val = functools.reduce(operator.add, map(lambda x: x.num, filter(lambda x: x.num > 10, df.itertuples())))\n",
    "print(val)"
   ]
  },
  {
   "cell_type": "code",
   "execution_count": 13,
   "metadata": {
    "application/vnd.databricks.v1+cell": {
     "cellMetadata": {
      "byteLimit": 2048000,
      "rowLimit": 10000
     },
     "inputWidgets": {},
     "nuid": "dee668da-351b-4082-8faf-680b41c1820c",
     "showTitle": false,
     "title": ""
    },
    "tags": []
   },
   "outputs": [
    {
     "name": "stdout",
     "output_type": "stream",
     "text": [
      "<map object at 0x7fee240efaf0>\n",
      "<generator object <genexpr> at 0x7fede75eccf0>\n",
      "[1, 4, 9, 16, 25, 36]\n"
     ]
    }
   ],
   "source": [
    "# List comprehensions and generator expressions are a more pythonic way of writing map() code. Generators should perfom as good as map() since they call items on demand\n",
    "\n",
    "numbers = [1,2,3,4,5,6]\n",
    "\n",
    "print(map(lambda x: x ** 2, numbers))\n",
    "\n",
    "print((x ** 2 for x in numbers))\n",
    "\n",
    "print([x ** 2 for x in numbers])"
   ]
  },
  {
   "cell_type": "code",
   "execution_count": null,
   "metadata": {},
   "outputs": [],
   "source": []
  }
 ],
 "metadata": {
  "application/vnd.databricks.v1+notebook": {
   "dashboards": [],
   "language": "python",
   "notebookMetadata": {
    "pythonIndentUnit": 4
   },
   "notebookName": "map()",
   "widgets": {}
  },
  "kernelspec": {
   "display_name": "Python 3 (ipykernel)",
   "language": "python",
   "name": "python3"
  },
  "language_info": {
   "codemirror_mode": {
    "name": "ipython",
    "version": 3
   },
   "file_extension": ".py",
   "mimetype": "text/x-python",
   "name": "python",
   "nbconvert_exporter": "python",
   "pygments_lexer": "ipython3",
   "version": "3.9.17"
  }
 },
 "nbformat": 4,
 "nbformat_minor": 4
}
