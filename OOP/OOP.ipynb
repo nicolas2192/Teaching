{
 "cells": [
  {
   "cell_type": "markdown",
   "metadata": {},
   "source": [
    "# Object Oriented Programming - Exercise"
   ]
  },
  {
   "cell_type": "markdown",
   "metadata": {},
   "source": [
    "---"
   ]
  },
  {
   "cell_type": "markdown",
   "metadata": {},
   "source": [
    "The following exercise attemps to give the student additional insights about python classes. \n",
    "\n",
    "In this exercise we will creating a class named 'Logger' which could be used to keep track of any process' execution."
   ]
  },
  {
   "cell_type": "markdown",
   "metadata": {},
   "source": [
    "<img src=\"https://miro.medium.com/max/2400/1*xiYI_rl-_pX_27BAjxBL3g.png\" width=500 height=500/>"
   ]
  },
  {
   "cell_type": "markdown",
   "metadata": {},
   "source": [
    "Before jumping into the actual coding, we should have a basic idea of what the class will do and how it will achieve it. Why? Because classes requiere a higher level of abstraction and you shouldn't start coding things from the top of your head without having thought it thoroughly. Each method should be able to perform independently and be easily modifieable. Think of it like lego bricks, each method is a brick and the whole figure is your class. \n",
    "\n",
    "In short, our class appends texts to a list and saves its content into a file.\n",
    "\n",
    "To do so, the class will make use of two methods:\n",
    "- add_text() -> Adds strings to a list.\n",
    "- save_log() -> Saves list's content into a file.\n",
    "\n",
    "Now that we already have an idea of what the class is about and its methods, we will proceed to the next step and code methods like if they were independent functions."
   ]
  },
  {
   "cell_type": "markdown",
   "metadata": {},
   "source": [
    "### add_text()\n",
    "\n",
    "This function/method takes two variables; __lst__ and __text__, the former is the list where text will be stored while the latter is the text that will be added to the list using the append() method."
   ]
  },
  {
   "cell_type": "code",
   "execution_count": 34,
   "metadata": {},
   "outputs": [],
   "source": [
    "def add_text(lst, text):\n",
    "    \"\"\"\n",
    "    Add text to a list. Appends the string using the append() method, each text will be a new element in the list.\n",
    "    \n",
    "    Parameters:\n",
    "        lst: List. List where the text will be added to. Log.\n",
    "        text: String. Text to add.\n",
    "    \n",
    "    Returns:\n",
    "        None. Appends text to a list.\n",
    "    \"\"\"\n",
    "\n",
    "    # your code here\n",
    "    lst.append(text)\n",
    "    \n",
    "    return None"
   ]
  },
  {
   "cell_type": "code",
   "execution_count": 3,
   "metadata": {},
   "outputs": [
    {
     "name": "stdout",
     "output_type": "stream",
     "text": [
      "['We', 'love', 'python']\n"
     ]
    }
   ],
   "source": [
    "# test\n",
    "list_test = []\n",
    "add_text(list_test, \"We\")\n",
    "add_text(list_test, \"love\")\n",
    "add_text(list_test, \"python\")\n",
    "print(list_test) \n",
    "\n",
    "# should return:\n",
    "# ['We', 'love', 'python']"
   ]
  },
  {
   "cell_type": "markdown",
   "metadata": {},
   "source": [
    "### save_log()\n",
    "\n",
    "Now, let's define our next function. This function will take the list and save its content into a file. It will take two variables; __lst__ and __path__. The first one is the list with the data to be saved while the second is the filepath the data will be stored at."
   ]
  },
  {
   "cell_type": "code",
   "execution_count": 32,
   "metadata": {},
   "outputs": [],
   "source": [
    "def save_log(lst, path):\n",
    "    \"\"\"\n",
    "    Save log into a file.\n",
    "    \n",
    "    Parameters:\n",
    "        lst: List. List where the text will be added to. Log.\n",
    "        path: String. File path. E.g.: log.txt\n",
    "        \n",
    "    Returns:\n",
    "        None. Save log to a file.\n",
    "    \"\"\"\n",
    "    \n",
    "    with open(path, \"w\") as new_file:\n",
    "        for element in lst:\n",
    "            new_file.write(f\"{element}\\n\")\n",
    "            \n",
    "    print(\"Log file created successfully.\")"
   ]
  },
  {
   "cell_type": "code",
   "execution_count": 33,
   "metadata": {},
   "outputs": [
    {
     "name": "stdout",
     "output_type": "stream",
     "text": [
      "Log file created successfully.\n"
     ]
    }
   ],
   "source": [
    "# test\n",
    "save_log(list_test, \"log.txt\")\n",
    "\n",
    "# A new file named log.txt with the same content that of list_test should have appeared in the given path."
   ]
  },
  {
   "cell_type": "markdown",
   "metadata": {},
   "source": [
    "### Logger Class\n",
    "\n",
    "Once we have already defined our two functions (they will become methods when placed within a class) we will proceed to create our class. \n",
    "\n",
    "1 - The __ __init__ __ method. Every class should have one of this. This method is called whenever the class is instantiated creating a new class object with specific attributes. Here we should place our \"variables\" or common elements that every Logger object should have.\n",
    "\n",
    "Regarding to our specific example, add an attribute within the init method named \"log\" and assing an empty list to it. Remember to use add the 'self' keyword.\n",
    "\n",
    "2 - The __ __repr__ __ method. Is a visual representation. If this method is not define, Python will print where the object is allocated in memory."
   ]
  },
  {
   "cell_type": "code",
   "execution_count": 86,
   "metadata": {},
   "outputs": [],
   "source": [
    "class Logger(object):\n",
    "    \"\"\"\n",
    "    Log class.\n",
    "    \"\"\"\n",
    "    \n",
    "    def __init__(self):\n",
    "        \"\"\"\n",
    "        Init method.\n",
    "        \"\"\"\n",
    "        # your code here\n",
    "        self.log = []\n",
    "        return None\n",
    "        \n",
    "    def __repr__(self):\n",
    "        \"\"\"\n",
    "        Visual representation method.\n",
    "        \"\"\"\n",
    "        # your code here\n",
    "        return \"\\n\".join(self.log)"
   ]
  },
  {
   "cell_type": "code",
   "execution_count": 87,
   "metadata": {},
   "outputs": [
    {
     "data": {
      "text/plain": [
       "[]"
      ]
     },
     "execution_count": 87,
     "metadata": {},
     "output_type": "execute_result"
    }
   ],
   "source": [
    "# test\n",
    "my_log = Logger()\n",
    "my_log.log\n",
    "\n",
    "# should return:\n",
    "[]"
   ]
  },
  {
   "cell_type": "markdown",
   "metadata": {},
   "source": [
    "Our class is already created, or at least the first part of it... Now its time to turn our independent functions into class methods. To do so, copy them within the class and swap independent variables such as __lst__ for 'self' whenever is needed."
   ]
  },
  {
   "cell_type": "code",
   "execution_count": 74,
   "metadata": {},
   "outputs": [],
   "source": [
    "class Logger(object):\n",
    "    \"\"\"\n",
    "    Log class.\n",
    "    \"\"\"\n",
    "    \n",
    "    def __init__(self):\n",
    "        \"\"\"\n",
    "        Init method.\n",
    "        \"\"\"\n",
    "        # your code here\n",
    "        self.log = []\n",
    "        return None\n",
    "    \n",
    "        \n",
    "    def __repr__(self):\n",
    "        \"\"\"\n",
    "        Visual representation method.\n",
    "        \"\"\"\n",
    "        return \"\\n\".join(self.log)\n",
    "    \n",
    "        \n",
    "    def add_text(self, text):\n",
    "        \"\"\"\n",
    "        Add text to a list. Appends the string using the append() method, each text will be a new element in the list.\n",
    "\n",
    "        Parameters:\n",
    "            text: String. Text to add.\n",
    "\n",
    "        Returns:\n",
    "            None. Appends text to a list.\n",
    "        \"\"\"\n",
    "\n",
    "        # your code here\n",
    "        self.log.append(text)\n",
    "\n",
    "        return None\n",
    "    \n",
    "    def save_log(self, path):\n",
    "        \"\"\"\n",
    "        Save log into a file.\n",
    "\n",
    "        Parameters:\n",
    "            path: String. File path. E.g.: log.txt\n",
    "\n",
    "        Returns:\n",
    "            None. Save log to a file.\n",
    "        \"\"\"\n",
    "\n",
    "        with open(path, \"w\") as new_file:\n",
    "            for element in self.log:\n",
    "                new_file.write(f\"{element}\\n\")\n",
    "\n",
    "        print(\"Log file created successfully.\")"
   ]
  },
  {
   "cell_type": "code",
   "execution_count": 88,
   "metadata": {},
   "outputs": [],
   "source": [
    "# Tests"
   ]
  },
  {
   "cell_type": "code",
   "execution_count": 75,
   "metadata": {},
   "outputs": [],
   "source": [
    "# Instantiate the object\n",
    "log = Logger()"
   ]
  },
  {
   "cell_type": "code",
   "execution_count": 76,
   "metadata": {},
   "outputs": [],
   "source": [
    "# Add text to the log\n",
    "log.add_text(\"Mi\")\n",
    "log.add_text(\"proyecto\")\n",
    "log.add_text(\"final\")\n",
    "log.add_text(\"será\")\n",
    "log.add_text(\"el\")\n",
    "log.add_text(\"mejor\")"
   ]
  },
  {
   "cell_type": "code",
   "execution_count": 77,
   "metadata": {},
   "outputs": [
    {
     "data": {
      "text/plain": [
       "Mi\n",
       "proyecto\n",
       "final\n",
       "será\n",
       "el\n",
       "mejor"
      ]
     },
     "execution_count": 77,
     "metadata": {},
     "output_type": "execute_result"
    }
   ],
   "source": [
    "# Print log's content\n",
    "log"
   ]
  },
  {
   "cell_type": "code",
   "execution_count": 89,
   "metadata": {},
   "outputs": [
    {
     "name": "stdout",
     "output_type": "stream",
     "text": [
      "Log file created successfully.\n"
     ]
    }
   ],
   "source": [
    "# Save it into a file\n",
    "log.save_log(\"my_log.txt\")"
   ]
  }
 ],
 "metadata": {
  "kernelspec": {
   "display_name": "Python 3",
   "language": "python",
   "name": "python3"
  },
  "language_info": {
   "codemirror_mode": {
    "name": "ipython",
    "version": 3
   },
   "file_extension": ".py",
   "mimetype": "text/x-python",
   "name": "python",
   "nbconvert_exporter": "python",
   "pygments_lexer": "ipython3",
   "version": "3.7.7"
  }
 },
 "nbformat": 4,
 "nbformat_minor": 4
}
