{
 "cells": [
  {
   "cell_type": "markdown",
   "metadata": {
    "application/vnd.databricks.v1+cell": {
     "cellMetadata": {
      "byteLimit": 2048000,
      "rowLimit": 10000
     },
     "inputWidgets": {},
     "nuid": "b8b33297-806e-4a55-9a4b-c28b6afde17e",
     "showTitle": false,
     "title": ""
    }
   },
   "source": [
    "# Polars\n",
    "---\n",
    "Practical Intorduction\n",
    "\n",
    "https://towardsdatascience.com/practical-introduction-to-polars-8d9cdca350f1\n",
    "\n",
    "Further reading:\n",
    "How to use LazyFrames and Pipe method."
   ]
  },
  {
   "cell_type": "code",
   "execution_count": 0,
   "metadata": {
    "application/vnd.databricks.v1+cell": {
     "cellMetadata": {
      "byteLimit": 2048000,
      "rowLimit": 10000
     },
     "inputWidgets": {},
     "nuid": "d65731a8-d37a-47ed-853d-a8017da18357",
     "showTitle": false,
     "title": ""
    }
   },
   "outputs": [
    {
     "output_type": "display_data",
     "data": {
      "text/html": [
       "<style scoped>\n",
       "  .ansiout {\n",
       "    display: block;\n",
       "    unicode-bidi: embed;\n",
       "    white-space: pre-wrap;\n",
       "    word-wrap: break-word;\n",
       "    word-break: break-all;\n",
       "    font-family: \"Menlo\", \"Monaco\", \"Consolas\", \"Ubuntu Mono\", \"Source Code Pro\", monospace;\n",
       "    font-size: 13px;\n",
       "    color: #555;\n",
       "    margin-left: 4px;\n",
       "    line-height: 19px;\n",
       "  }\n",
       "</style>\n",
       "<div class=\"ansiout\"></div>"
      ]
     },
     "metadata": {
      "application/vnd.databricks.v1+output": {
       "addedWidgets": {},
       "arguments": {},
       "data": "<div class=\"ansiout\"></div>",
       "datasetInfos": [],
       "metadata": {},
       "removedWidgets": [],
       "type": "html"
      }
     },
     "output_type": "display_data"
    }
   ],
   "source": [
    "from dataclasses import dataclass\n",
    "from datetime import datetime, timedelta\n",
    "from random import choice, gauss, randrange, seed\n",
    "from typing import Any, Dict\n",
    "import sys\n",
    "\n",
    "import polars as pl\n",
    "import pandas as pd\n",
    "import numpy as np"
   ]
  },
  {
   "cell_type": "markdown",
   "metadata": {
    "application/vnd.databricks.v1+cell": {
     "cellMetadata": {
      "byteLimit": 2048000,
      "rowLimit": 10000
     },
     "inputWidgets": {},
     "nuid": "b6ed04de-ad5c-438c-b1b7-713a0a014e8b",
     "showTitle": false,
     "title": ""
    }
   },
   "source": [
    "#### Generating dummy data"
   ]
  },
  {
   "cell_type": "code",
   "execution_count": 0,
   "metadata": {
    "application/vnd.databricks.v1+cell": {
     "cellMetadata": {
      "byteLimit": 2048000,
      "rowLimit": 10000
     },
     "inputWidgets": {},
     "nuid": "c83c1c10-a906-488a-bec8-352a65c0e76b",
     "showTitle": false,
     "title": ""
    }
   },
   "outputs": [
    {
     "output_type": "display_data",
     "data": {
      "text/html": [
       "<style scoped>\n",
       "  .ansiout {\n",
       "    display: block;\n",
       "    unicode-bidi: embed;\n",
       "    white-space: pre-wrap;\n",
       "    word-wrap: break-word;\n",
       "    word-break: break-all;\n",
       "    font-family: \"Menlo\", \"Monaco\", \"Consolas\", \"Ubuntu Mono\", \"Source Code Pro\", monospace;\n",
       "    font-size: 13px;\n",
       "    color: #555;\n",
       "    margin-left: 4px;\n",
       "    line-height: 19px;\n",
       "  }\n",
       "</style>\n",
       "<div class=\"ansiout\"></div>"
      ]
     },
     "metadata": {
      "application/vnd.databricks.v1+output": {
       "addedWidgets": {},
       "arguments": {},
       "data": "<div class=\"ansiout\"></div>",
       "datasetInfos": [],
       "metadata": {},
       "removedWidgets": [],
       "type": "html"
      }
     },
     "output_type": "display_data"
    }
   ],
   "source": [
    "seed(42)\n",
    "base_time = datetime(2024, 8, 31, 0, 0, 0, 0)\n",
    "\n",
    "user_actions_data = [\n",
    "    {\n",
    "        \"OnlineStore\": choice([\"Shop1\", \"Shop2\", \"Shop3\"]),\n",
    "        \"product\": choice([\"0001\", \"0002\", \"0003\"]),\n",
    "        \"quantity\": choice([1.0, 2.0, 3.0]),\n",
    "        \"Action type\": (\"purchase\" if gauss(0,1) > 0.6 else \"view\"),\n",
    "        \"Action_time\": base_time - timedelta(minutes=randrange(1_000_000)),\n",
    "    }\n",
    "    for x in range(1_000_000)\n",
    "]\n",
    "\n",
    "corrupted_data = [\n",
    "    {\n",
    "        \"OnlineStore\": choice([\"Shop1\", \"Shop2\", \"Shop3\"]),\n",
    "        \"product\": choice([\"0001\", None]),\n",
    "        \"quantity\": choice([1.0, None]),\n",
    "        \"Action type\": (\"purchase\" if gauss(0,1) > 0.6 else \"view\"),\n",
    "        \"Action_time\": base_time - timedelta(minutes=randrange(1_000)),\n",
    "    }\n",
    "    for x in range(1_000)\n",
    "]\n",
    "\n",
    "product_catalog_data = {\"product_id\": [\"0001\", \"0002\", \"0003\"], \"price\": [100, 25, 80]}\n"
   ]
  },
  {
   "cell_type": "markdown",
   "metadata": {
    "application/vnd.databricks.v1+cell": {
     "cellMetadata": {
      "byteLimit": 2048000,
      "rowLimit": 10000
     },
     "inputWidgets": {},
     "nuid": "e9b251a7-25bd-48b8-ab6b-6c9d64bdf974",
     "showTitle": false,
     "title": ""
    }
   },
   "source": [
    "#### Loading data into a dataframe"
   ]
  },
  {
   "cell_type": "code",
   "execution_count": 0,
   "metadata": {
    "application/vnd.databricks.v1+cell": {
     "cellMetadata": {
      "byteLimit": 2048000,
      "rowLimit": 10000
     },
     "inputWidgets": {},
     "nuid": "c684e3a2-bb72-49be-ac99-e7d7dcabcd5d",
     "showTitle": false,
     "title": ""
    }
   },
   "outputs": [
    {
     "output_type": "display_data",
     "data": {
      "text/html": [
       "<style scoped>\n",
       "  .ansiout {\n",
       "    display: block;\n",
       "    unicode-bidi: embed;\n",
       "    white-space: pre-wrap;\n",
       "    word-wrap: break-word;\n",
       "    word-break: break-all;\n",
       "    font-family: \"Menlo\", \"Monaco\", \"Consolas\", \"Ubuntu Mono\", \"Source Code Pro\", monospace;\n",
       "    font-size: 13px;\n",
       "    color: #555;\n",
       "    margin-left: 4px;\n",
       "    line-height: 19px;\n",
       "  }\n",
       "</style>\n",
       "<div class=\"ansiout\"></div>"
      ]
     },
     "metadata": {
      "application/vnd.databricks.v1+output": {
       "addedWidgets": {},
       "arguments": {},
       "data": "<div class=\"ansiout\"></div>",
       "datasetInfos": [],
       "metadata": {},
       "removedWidgets": [],
       "type": "html"
      }
     },
     "output_type": "display_data"
    }
   ],
   "source": [
    "# Pandas\n",
    "user_actions_pd_df = pd.DataFrame(user_actions_data)\n",
    "corrupted_pd_df = pd.DataFrame(corrupted_data)\n",
    "product_catalog_pd_df = pd.DataFrame(product_catalog_data)\n",
    "\n",
    "# Polars\n",
    "user_actions_pl_df = pl.DataFrame(user_actions_data)\n",
    "corrupted_pl_df = pl.DataFrame(corrupted_data)\n",
    "product_catalog_pl_df = pl.DataFrame(product_catalog_data)"
   ]
  },
  {
   "cell_type": "code",
   "execution_count": 0,
   "metadata": {
    "application/vnd.databricks.v1+cell": {
     "cellMetadata": {
      "byteLimit": 2048000,
      "rowLimit": 10000
     },
     "inputWidgets": {},
     "nuid": "5d970af9-b156-47a0-ada8-059d14011948",
     "showTitle": false,
     "title": ""
    }
   },
   "outputs": [
    {
     "output_type": "display_data",
     "data": {
      "text/html": [
       "<style scoped>\n",
       "  .ansiout {\n",
       "    display: block;\n",
       "    unicode-bidi: embed;\n",
       "    white-space: pre-wrap;\n",
       "    word-wrap: break-word;\n",
       "    word-break: break-all;\n",
       "    font-family: \"Menlo\", \"Monaco\", \"Consolas\", \"Ubuntu Mono\", \"Source Code Pro\", monospace;\n",
       "    font-size: 13px;\n",
       "    color: #555;\n",
       "    margin-left: 4px;\n",
       "    line-height: 19px;\n",
       "  }\n",
       "</style>\n",
       "<div class=\"ansiout\">Out[68]: </div>"
      ]
     },
     "metadata": {
      "application/vnd.databricks.v1+output": {
       "addedWidgets": {},
       "arguments": {},
       "data": "<div class=\"ansiout\">Out[68]: </div>",
       "datasetInfos": [],
       "metadata": {},
       "removedWidgets": [],
       "type": "html"
      }
     },
     "output_type": "display_data"
    },
    {
     "output_type": "display_data",
     "data": {
      "text/html": [
       "<div>\n",
       "<style scoped>\n",
       "    .dataframe tbody tr th:only-of-type {\n",
       "        vertical-align: middle;\n",
       "    }\n",
       "\n",
       "    .dataframe tbody tr th {\n",
       "        vertical-align: top;\n",
       "    }\n",
       "\n",
       "    .dataframe thead th {\n",
       "        text-align: right;\n",
       "    }\n",
       "</style>\n",
       "<table border=\"1\" class=\"dataframe\">\n",
       "  <thead>\n",
       "    <tr style=\"text-align: right;\">\n",
       "      <th></th>\n",
       "      <th>product_id</th>\n",
       "      <th>price</th>\n",
       "    </tr>\n",
       "  </thead>\n",
       "  <tbody>\n",
       "    <tr>\n",
       "      <th>0</th>\n",
       "      <td>0001</td>\n",
       "      <td>100</td>\n",
       "    </tr>\n",
       "    <tr>\n",
       "      <th>1</th>\n",
       "      <td>0002</td>\n",
       "      <td>25</td>\n",
       "    </tr>\n",
       "    <tr>\n",
       "      <th>2</th>\n",
       "      <td>0003</td>\n",
       "      <td>80</td>\n",
       "    </tr>\n",
       "  </tbody>\n",
       "</table>\n",
       "</div>"
      ]
     },
     "metadata": {
      "application/vnd.databricks.v1+output": {
       "addedWidgets": {},
       "arguments": {},
       "data": "<div>\n<style scoped>\n    .dataframe tbody tr th:only-of-type {\n        vertical-align: middle;\n    }\n\n    .dataframe tbody tr th {\n        vertical-align: top;\n    }\n\n    .dataframe thead th {\n        text-align: right;\n    }\n</style>\n<table border=\"1\" class=\"dataframe\">\n  <thead>\n    <tr style=\"text-align: right;\">\n      <th></th>\n      <th>product_id</th>\n      <th>price</th>\n    </tr>\n  </thead>\n  <tbody>\n    <tr>\n      <th>0</th>\n      <td>0001</td>\n      <td>100</td>\n    </tr>\n    <tr>\n      <th>1</th>\n      <td>0002</td>\n      <td>25</td>\n    </tr>\n    <tr>\n      <th>2</th>\n      <td>0003</td>\n      <td>80</td>\n    </tr>\n  </tbody>\n</table>\n</div>",
       "datasetInfos": [],
       "metadata": {},
       "removedWidgets": [],
       "textData": null,
       "type": "htmlSandbox"
      }
     },
     "output_type": "display_data"
    }
   ],
   "source": [
    "product_catalog_pd_df"
   ]
  },
  {
   "cell_type": "code",
   "execution_count": 0,
   "metadata": {
    "application/vnd.databricks.v1+cell": {
     "cellMetadata": {
      "byteLimit": 2048000,
      "rowLimit": 10000
     },
     "inputWidgets": {},
     "nuid": "94414eff-86ce-47f5-8b7c-43874c4cf900",
     "showTitle": false,
     "title": ""
    }
   },
   "outputs": [
    {
     "output_type": "display_data",
     "data": {
      "text/html": [
       "<style scoped>\n",
       "  .ansiout {\n",
       "    display: block;\n",
       "    unicode-bidi: embed;\n",
       "    white-space: pre-wrap;\n",
       "    word-wrap: break-word;\n",
       "    word-break: break-all;\n",
       "    font-family: \"Menlo\", \"Monaco\", \"Consolas\", \"Ubuntu Mono\", \"Source Code Pro\", monospace;\n",
       "    font-size: 13px;\n",
       "    color: #555;\n",
       "    margin-left: 4px;\n",
       "    line-height: 19px;\n",
       "  }\n",
       "</style>\n",
       "<div class=\"ansiout\">Out[69]: </div>"
      ]
     },
     "metadata": {
      "application/vnd.databricks.v1+output": {
       "addedWidgets": {},
       "arguments": {},
       "data": "<div class=\"ansiout\">Out[69]: </div>",
       "datasetInfos": [],
       "metadata": {},
       "removedWidgets": [],
       "type": "html"
      }
     },
     "output_type": "display_data"
    },
    {
     "output_type": "display_data",
     "data": {
      "text/html": [
       "<div><style>\n",
       ".dataframe > thead > tr,\n",
       ".dataframe > tbody > tr {\n",
       "  text-align: right;\n",
       "  white-space: pre-wrap;\n",
       "}\n",
       "</style>\n",
       "<small>shape: (3, 2)</small><table border=\"1\" class=\"dataframe\"><thead><tr><th>product_id</th><th>price</th></tr><tr><td>str</td><td>i64</td></tr></thead><tbody><tr><td>&quot;0001&quot;</td><td>100</td></tr><tr><td>&quot;0002&quot;</td><td>25</td></tr><tr><td>&quot;0003&quot;</td><td>80</td></tr></tbody></table></div>"
      ]
     },
     "metadata": {
      "application/vnd.databricks.v1+output": {
       "addedWidgets": {},
       "arguments": {},
       "data": "<div><style>\n.dataframe > thead > tr,\n.dataframe > tbody > tr {\n  text-align: right;\n  white-space: pre-wrap;\n}\n</style>\n<small>shape: (3, 2)</small><table border=\"1\" class=\"dataframe\"><thead><tr><th>product_id</th><th>price</th></tr><tr><td>str</td><td>i64</td></tr></thead><tbody><tr><td>&quot;0001&quot;</td><td>100</td></tr><tr><td>&quot;0002&quot;</td><td>25</td></tr><tr><td>&quot;0003&quot;</td><td>80</td></tr></tbody></table></div>",
       "datasetInfos": [],
       "metadata": {},
       "removedWidgets": [],
       "textData": null,
       "type": "htmlSandbox"
      }
     },
     "output_type": "display_data"
    }
   ],
   "source": [
    "product_catalog_pl_df"
   ]
  },
  {
   "cell_type": "markdown",
   "metadata": {
    "application/vnd.databricks.v1+cell": {
     "cellMetadata": {
      "byteLimit": 2048000,
      "rowLimit": 10000
     },
     "inputWidgets": {},
     "nuid": "3f347087-749d-4f40-ad87-a79bbdc50b74",
     "showTitle": false,
     "title": ""
    }
   },
   "source": [
    "#### Concatenate Dataframes"
   ]
  },
  {
   "cell_type": "code",
   "execution_count": 0,
   "metadata": {
    "application/vnd.databricks.v1+cell": {
     "cellMetadata": {
      "byteLimit": 2048000,
      "rowLimit": 10000
     },
     "inputWidgets": {},
     "nuid": "ad1a0b55-1aa3-4bc3-8d61-b6fc29acec44",
     "showTitle": false,
     "title": ""
    }
   },
   "outputs": [
    {
     "output_type": "display_data",
     "data": {
      "text/html": [
       "<style scoped>\n",
       "  .ansiout {\n",
       "    display: block;\n",
       "    unicode-bidi: embed;\n",
       "    white-space: pre-wrap;\n",
       "    word-wrap: break-word;\n",
       "    word-break: break-all;\n",
       "    font-family: \"Menlo\", \"Monaco\", \"Consolas\", \"Ubuntu Mono\", \"Source Code Pro\", monospace;\n",
       "    font-size: 13px;\n",
       "    color: #555;\n",
       "    margin-left: 4px;\n",
       "    line-height: 19px;\n",
       "  }\n",
       "</style>\n",
       "<div class=\"ansiout\"></div>"
      ]
     },
     "metadata": {
      "application/vnd.databricks.v1+output": {
       "addedWidgets": {},
       "arguments": {},
       "data": "<div class=\"ansiout\"></div>",
       "datasetInfos": [],
       "metadata": {},
       "removedWidgets": [],
       "type": "html"
      }
     },
     "output_type": "display_data"
    }
   ],
   "source": [
    "# Pandas\n",
    "user_actions_pd_df = pd.concat([user_actions_pd_df, corrupted_pd_df])\n",
    "\n",
    "# Polars\n",
    "user_actions_pl_df = pl.concat([user_actions_pl_df, corrupted_pl_df])"
   ]
  },
  {
   "cell_type": "markdown",
   "metadata": {
    "application/vnd.databricks.v1+cell": {
     "cellMetadata": {
      "byteLimit": 2048000,
      "rowLimit": 10000
     },
     "inputWidgets": {},
     "nuid": "2437ba0f-6cfa-4f24-8f07-6e7ea7ad9caf",
     "showTitle": false,
     "title": ""
    }
   },
   "source": [
    "#### Summary Statistics\n",
    "---\n",
    "Results may differ. Polars describe() output is not stable and is not recommended."
   ]
  },
  {
   "cell_type": "code",
   "execution_count": 0,
   "metadata": {
    "application/vnd.databricks.v1+cell": {
     "cellMetadata": {
      "byteLimit": 2048000,
      "rowLimit": 10000
     },
     "inputWidgets": {},
     "nuid": "50da9a3d-8436-4408-be11-3ab1376e7ec9",
     "showTitle": false,
     "title": ""
    }
   },
   "outputs": [
    {
     "output_type": "display_data",
     "data": {
      "text/html": [
       "<style scoped>\n",
       "  .ansiout {\n",
       "    display: block;\n",
       "    unicode-bidi: embed;\n",
       "    white-space: pre-wrap;\n",
       "    word-wrap: break-word;\n",
       "    word-break: break-all;\n",
       "    font-family: \"Menlo\", \"Monaco\", \"Consolas\", \"Ubuntu Mono\", \"Source Code Pro\", monospace;\n",
       "    font-size: 13px;\n",
       "    color: #555;\n",
       "    margin-left: 4px;\n",
       "    line-height: 19px;\n",
       "  }\n",
       "</style>\n",
       "<div class=\"ansiout\">Out[71]: </div>"
      ]
     },
     "metadata": {
      "application/vnd.databricks.v1+output": {
       "addedWidgets": {},
       "arguments": {},
       "data": "<div class=\"ansiout\">Out[71]: </div>",
       "datasetInfos": [],
       "metadata": {},
       "removedWidgets": [],
       "type": "html"
      }
     },
     "output_type": "display_data"
    },
    {
     "output_type": "display_data",
     "data": {
      "text/html": [
       "<div>\n",
       "<style scoped>\n",
       "    .dataframe tbody tr th:only-of-type {\n",
       "        vertical-align: middle;\n",
       "    }\n",
       "\n",
       "    .dataframe tbody tr th {\n",
       "        vertical-align: top;\n",
       "    }\n",
       "\n",
       "    .dataframe thead th {\n",
       "        text-align: right;\n",
       "    }\n",
       "</style>\n",
       "<table border=\"1\" class=\"dataframe\">\n",
       "  <thead>\n",
       "    <tr style=\"text-align: right;\">\n",
       "      <th></th>\n",
       "      <th>OnlineStore</th>\n",
       "      <th>product</th>\n",
       "      <th>quantity</th>\n",
       "      <th>Action type</th>\n",
       "      <th>Action_time</th>\n",
       "    </tr>\n",
       "  </thead>\n",
       "  <tbody>\n",
       "    <tr>\n",
       "      <th>count</th>\n",
       "      <td>1001000</td>\n",
       "      <td>1000492</td>\n",
       "      <td>1.000510e+06</td>\n",
       "      <td>1001000</td>\n",
       "      <td>1001000</td>\n",
       "    </tr>\n",
       "    <tr>\n",
       "      <th>unique</th>\n",
       "      <td>3</td>\n",
       "      <td>3</td>\n",
       "      <td>NaN</td>\n",
       "      <td>2</td>\n",
       "      <td>632335</td>\n",
       "    </tr>\n",
       "    <tr>\n",
       "      <th>top</th>\n",
       "      <td>Shop3</td>\n",
       "      <td>0001</td>\n",
       "      <td>NaN</td>\n",
       "      <td>view</td>\n",
       "      <td>2024-08-30 22:02:00</td>\n",
       "    </tr>\n",
       "    <tr>\n",
       "      <th>freq</th>\n",
       "      <td>333931</td>\n",
       "      <td>333963</td>\n",
       "      <td>NaN</td>\n",
       "      <td>726623</td>\n",
       "      <td>9</td>\n",
       "    </tr>\n",
       "    <tr>\n",
       "      <th>first</th>\n",
       "      <td>NaN</td>\n",
       "      <td>NaN</td>\n",
       "      <td>NaN</td>\n",
       "      <td>NaN</td>\n",
       "      <td>2022-10-06 13:23:00</td>\n",
       "    </tr>\n",
       "    <tr>\n",
       "      <th>last</th>\n",
       "      <td>NaN</td>\n",
       "      <td>NaN</td>\n",
       "      <td>NaN</td>\n",
       "      <td>NaN</td>\n",
       "      <td>2024-08-30 23:58:00</td>\n",
       "    </tr>\n",
       "    <tr>\n",
       "      <th>mean</th>\n",
       "      <td>NaN</td>\n",
       "      <td>NaN</td>\n",
       "      <td>1.998925e+00</td>\n",
       "      <td>NaN</td>\n",
       "      <td>NaN</td>\n",
       "    </tr>\n",
       "    <tr>\n",
       "      <th>std</th>\n",
       "      <td>NaN</td>\n",
       "      <td>NaN</td>\n",
       "      <td>8.164457e-01</td>\n",
       "      <td>NaN</td>\n",
       "      <td>NaN</td>\n",
       "    </tr>\n",
       "    <tr>\n",
       "      <th>min</th>\n",
       "      <td>NaN</td>\n",
       "      <td>NaN</td>\n",
       "      <td>1.000000e+00</td>\n",
       "      <td>NaN</td>\n",
       "      <td>NaN</td>\n",
       "    </tr>\n",
       "    <tr>\n",
       "      <th>25%</th>\n",
       "      <td>NaN</td>\n",
       "      <td>NaN</td>\n",
       "      <td>1.000000e+00</td>\n",
       "      <td>NaN</td>\n",
       "      <td>NaN</td>\n",
       "    </tr>\n",
       "    <tr>\n",
       "      <th>50%</th>\n",
       "      <td>NaN</td>\n",
       "      <td>NaN</td>\n",
       "      <td>2.000000e+00</td>\n",
       "      <td>NaN</td>\n",
       "      <td>NaN</td>\n",
       "    </tr>\n",
       "    <tr>\n",
       "      <th>75%</th>\n",
       "      <td>NaN</td>\n",
       "      <td>NaN</td>\n",
       "      <td>3.000000e+00</td>\n",
       "      <td>NaN</td>\n",
       "      <td>NaN</td>\n",
       "    </tr>\n",
       "    <tr>\n",
       "      <th>max</th>\n",
       "      <td>NaN</td>\n",
       "      <td>NaN</td>\n",
       "      <td>3.000000e+00</td>\n",
       "      <td>NaN</td>\n",
       "      <td>NaN</td>\n",
       "    </tr>\n",
       "  </tbody>\n",
       "</table>\n",
       "</div>"
      ]
     },
     "metadata": {
      "application/vnd.databricks.v1+output": {
       "addedWidgets": {},
       "arguments": {},
       "data": "<div>\n<style scoped>\n    .dataframe tbody tr th:only-of-type {\n        vertical-align: middle;\n    }\n\n    .dataframe tbody tr th {\n        vertical-align: top;\n    }\n\n    .dataframe thead th {\n        text-align: right;\n    }\n</style>\n<table border=\"1\" class=\"dataframe\">\n  <thead>\n    <tr style=\"text-align: right;\">\n      <th></th>\n      <th>OnlineStore</th>\n      <th>product</th>\n      <th>quantity</th>\n      <th>Action type</th>\n      <th>Action_time</th>\n    </tr>\n  </thead>\n  <tbody>\n    <tr>\n      <th>count</th>\n      <td>1001000</td>\n      <td>1000492</td>\n      <td>1.000510e+06</td>\n      <td>1001000</td>\n      <td>1001000</td>\n    </tr>\n    <tr>\n      <th>unique</th>\n      <td>3</td>\n      <td>3</td>\n      <td>NaN</td>\n      <td>2</td>\n      <td>632335</td>\n    </tr>\n    <tr>\n      <th>top</th>\n      <td>Shop3</td>\n      <td>0001</td>\n      <td>NaN</td>\n      <td>view</td>\n      <td>2024-08-30 22:02:00</td>\n    </tr>\n    <tr>\n      <th>freq</th>\n      <td>333931</td>\n      <td>333963</td>\n      <td>NaN</td>\n      <td>726623</td>\n      <td>9</td>\n    </tr>\n    <tr>\n      <th>first</th>\n      <td>NaN</td>\n      <td>NaN</td>\n      <td>NaN</td>\n      <td>NaN</td>\n      <td>2022-10-06 13:23:00</td>\n    </tr>\n    <tr>\n      <th>last</th>\n      <td>NaN</td>\n      <td>NaN</td>\n      <td>NaN</td>\n      <td>NaN</td>\n      <td>2024-08-30 23:58:00</td>\n    </tr>\n    <tr>\n      <th>mean</th>\n      <td>NaN</td>\n      <td>NaN</td>\n      <td>1.998925e+00</td>\n      <td>NaN</td>\n      <td>NaN</td>\n    </tr>\n    <tr>\n      <th>std</th>\n      <td>NaN</td>\n      <td>NaN</td>\n      <td>8.164457e-01</td>\n      <td>NaN</td>\n      <td>NaN</td>\n    </tr>\n    <tr>\n      <th>min</th>\n      <td>NaN</td>\n      <td>NaN</td>\n      <td>1.000000e+00</td>\n      <td>NaN</td>\n      <td>NaN</td>\n    </tr>\n    <tr>\n      <th>25%</th>\n      <td>NaN</td>\n      <td>NaN</td>\n      <td>1.000000e+00</td>\n      <td>NaN</td>\n      <td>NaN</td>\n    </tr>\n    <tr>\n      <th>50%</th>\n      <td>NaN</td>\n      <td>NaN</td>\n      <td>2.000000e+00</td>\n      <td>NaN</td>\n      <td>NaN</td>\n    </tr>\n    <tr>\n      <th>75%</th>\n      <td>NaN</td>\n      <td>NaN</td>\n      <td>3.000000e+00</td>\n      <td>NaN</td>\n      <td>NaN</td>\n    </tr>\n    <tr>\n      <th>max</th>\n      <td>NaN</td>\n      <td>NaN</td>\n      <td>3.000000e+00</td>\n      <td>NaN</td>\n      <td>NaN</td>\n    </tr>\n  </tbody>\n</table>\n</div>",
       "datasetInfos": [],
       "metadata": {},
       "removedWidgets": [],
       "textData": null,
       "type": "htmlSandbox"
      }
     },
     "output_type": "display_data"
    }
   ],
   "source": [
    "# Pandas\n",
    "user_actions_pd_df.describe(include='all')"
   ]
  },
  {
   "cell_type": "code",
   "execution_count": 0,
   "metadata": {
    "application/vnd.databricks.v1+cell": {
     "cellMetadata": {
      "byteLimit": 2048000,
      "rowLimit": 10000
     },
     "inputWidgets": {},
     "nuid": "08d9964e-4127-44c2-b30e-d1e829729d73",
     "showTitle": false,
     "title": ""
    }
   },
   "outputs": [
    {
     "output_type": "display_data",
     "data": {
      "text/html": [
       "<style scoped>\n",
       "  .ansiout {\n",
       "    display: block;\n",
       "    unicode-bidi: embed;\n",
       "    white-space: pre-wrap;\n",
       "    word-wrap: break-word;\n",
       "    word-break: break-all;\n",
       "    font-family: \"Menlo\", \"Monaco\", \"Consolas\", \"Ubuntu Mono\", \"Source Code Pro\", monospace;\n",
       "    font-size: 13px;\n",
       "    color: #555;\n",
       "    margin-left: 4px;\n",
       "    line-height: 19px;\n",
       "  }\n",
       "</style>\n",
       "<div class=\"ansiout\">Out[72]: </div>"
      ]
     },
     "metadata": {
      "application/vnd.databricks.v1+output": {
       "addedWidgets": {},
       "arguments": {},
       "data": "<div class=\"ansiout\">Out[72]: </div>",
       "datasetInfos": [],
       "metadata": {},
       "removedWidgets": [],
       "type": "html"
      }
     },
     "output_type": "display_data"
    },
    {
     "output_type": "display_data",
     "data": {
      "text/html": [
       "<div><style>\n",
       ".dataframe > thead > tr,\n",
       ".dataframe > tbody > tr {\n",
       "  text-align: right;\n",
       "  white-space: pre-wrap;\n",
       "}\n",
       "</style>\n",
       "<small>shape: (9, 6)</small><table border=\"1\" class=\"dataframe\"><thead><tr><th>statistic</th><th>OnlineStore</th><th>product</th><th>quantity</th><th>Action type</th><th>Action_time</th></tr><tr><td>str</td><td>str</td><td>str</td><td>f64</td><td>str</td><td>str</td></tr></thead><tbody><tr><td>&quot;count&quot;</td><td>&quot;1001000&quot;</td><td>&quot;1000492&quot;</td><td>1.00051e6</td><td>&quot;1001000&quot;</td><td>&quot;1001000&quot;</td></tr><tr><td>&quot;null_count&quot;</td><td>&quot;0&quot;</td><td>&quot;508&quot;</td><td>490.0</td><td>&quot;0&quot;</td><td>&quot;0&quot;</td></tr><tr><td>&quot;mean&quot;</td><td>null</td><td>null</td><td>1.998925</td><td>null</td><td>&quot;2023-09-19 03:24:30.981698&quot;</td></tr><tr><td>&quot;std&quot;</td><td>null</td><td>null</td><td>0.816446</td><td>null</td><td>null</td></tr><tr><td>&quot;min&quot;</td><td>&quot;Shop1&quot;</td><td>&quot;1&quot;</td><td>1.0</td><td>&quot;purchase&quot;</td><td>&quot;2022-10-06 13:23:00&quot;</td></tr><tr><td>&quot;25%&quot;</td><td>null</td><td>null</td><td>1.0</td><td>null</td><td>&quot;2023-03-29 03:09:00&quot;</td></tr><tr><td>&quot;50%&quot;</td><td>null</td><td>null</td><td>2.0</td><td>null</td><td>&quot;2023-09-19 06:49:00&quot;</td></tr><tr><td>&quot;75%&quot;</td><td>null</td><td>null</td><td>3.0</td><td>null</td><td>&quot;2024-03-11 03:01:00&quot;</td></tr><tr><td>&quot;max&quot;</td><td>&quot;Shop3&quot;</td><td>&quot;3&quot;</td><td>3.0</td><td>&quot;view&quot;</td><td>&quot;2024-08-30 23:58:00&quot;</td></tr></tbody></table></div>"
      ]
     },
     "metadata": {
      "application/vnd.databricks.v1+output": {
       "addedWidgets": {},
       "arguments": {},
       "data": "<div><style>\n.dataframe > thead > tr,\n.dataframe > tbody > tr {\n  text-align: right;\n  white-space: pre-wrap;\n}\n</style>\n<small>shape: (9, 6)</small><table border=\"1\" class=\"dataframe\"><thead><tr><th>statistic</th><th>OnlineStore</th><th>product</th><th>quantity</th><th>Action type</th><th>Action_time</th></tr><tr><td>str</td><td>str</td><td>str</td><td>f64</td><td>str</td><td>str</td></tr></thead><tbody><tr><td>&quot;count&quot;</td><td>&quot;1001000&quot;</td><td>&quot;1000492&quot;</td><td>1.00051e6</td><td>&quot;1001000&quot;</td><td>&quot;1001000&quot;</td></tr><tr><td>&quot;null_count&quot;</td><td>&quot;0&quot;</td><td>&quot;508&quot;</td><td>490.0</td><td>&quot;0&quot;</td><td>&quot;0&quot;</td></tr><tr><td>&quot;mean&quot;</td><td>null</td><td>null</td><td>1.998925</td><td>null</td><td>&quot;2023-09-19 03:24:30.981698&quot;</td></tr><tr><td>&quot;std&quot;</td><td>null</td><td>null</td><td>0.816446</td><td>null</td><td>null</td></tr><tr><td>&quot;min&quot;</td><td>&quot;Shop1&quot;</td><td>&quot;1&quot;</td><td>1.0</td><td>&quot;purchase&quot;</td><td>&quot;2022-10-06 13:23:00&quot;</td></tr><tr><td>&quot;25%&quot;</td><td>null</td><td>null</td><td>1.0</td><td>null</td><td>&quot;2023-03-29 03:09:00&quot;</td></tr><tr><td>&quot;50%&quot;</td><td>null</td><td>null</td><td>2.0</td><td>null</td><td>&quot;2023-09-19 06:49:00&quot;</td></tr><tr><td>&quot;75%&quot;</td><td>null</td><td>null</td><td>3.0</td><td>null</td><td>&quot;2024-03-11 03:01:00&quot;</td></tr><tr><td>&quot;max&quot;</td><td>&quot;Shop3&quot;</td><td>&quot;3&quot;</td><td>3.0</td><td>&quot;view&quot;</td><td>&quot;2024-08-30 23:58:00&quot;</td></tr></tbody></table></div>",
       "datasetInfos": [],
       "metadata": {},
       "removedWidgets": [],
       "textData": null,
       "type": "htmlSandbox"
      }
     },
     "output_type": "display_data"
    }
   ],
   "source": [
    "# Polars\n",
    "user_actions_pl_df.describe()"
   ]
  },
  {
   "cell_type": "markdown",
   "metadata": {
    "application/vnd.databricks.v1+cell": {
     "cellMetadata": {
      "byteLimit": 2048000,
      "rowLimit": 10000
     },
     "inputWidgets": {},
     "nuid": "c4dfbeaa-a526-4d70-8fb8-384983fb5e2c",
     "showTitle": false,
     "title": ""
    }
   },
   "source": [
    "#### value_counts Method"
   ]
  },
  {
   "cell_type": "code",
   "execution_count": 0,
   "metadata": {
    "application/vnd.databricks.v1+cell": {
     "cellMetadata": {
      "byteLimit": 2048000,
      "rowLimit": 10000
     },
     "inputWidgets": {},
     "nuid": "cc031647-1520-4a64-b3a9-e61b270c5645",
     "showTitle": false,
     "title": ""
    }
   },
   "outputs": [
    {
     "output_type": "display_data",
     "data": {
      "text/html": [
       "<style scoped>\n",
       "  .ansiout {\n",
       "    display: block;\n",
       "    unicode-bidi: embed;\n",
       "    white-space: pre-wrap;\n",
       "    word-wrap: break-word;\n",
       "    word-break: break-all;\n",
       "    font-family: \"Menlo\", \"Monaco\", \"Consolas\", \"Ubuntu Mono\", \"Source Code Pro\", monospace;\n",
       "    font-size: 13px;\n",
       "    color: #555;\n",
       "    margin-left: 4px;\n",
       "    line-height: 19px;\n",
       "  }\n",
       "</style>\n",
       "<div class=\"ansiout\">Out[73]: 1.0    334000\n",
       "2.0    333586\n",
       "3.0    332924\n",
       "NaN       490\n",
       "Name: quantity, dtype: int64</div>"
      ]
     },
     "metadata": {
      "application/vnd.databricks.v1+output": {
       "addedWidgets": {},
       "arguments": {},
       "data": "<div class=\"ansiout\">Out[73]: 1.0    334000\n2.0    333586\n3.0    332924\nNaN       490\nName: quantity, dtype: int64</div>",
       "datasetInfos": [],
       "metadata": {},
       "removedWidgets": [],
       "type": "html"
      }
     },
     "output_type": "display_data"
    }
   ],
   "source": [
    "# Pandas\n",
    "user_actions_pd_df.quantity.value_counts(dropna=False)"
   ]
  },
  {
   "cell_type": "code",
   "execution_count": 0,
   "metadata": {
    "application/vnd.databricks.v1+cell": {
     "cellMetadata": {
      "byteLimit": 2048000,
      "rowLimit": 10000
     },
     "inputWidgets": {},
     "nuid": "17de601d-4053-4550-ab0a-c9e2b943d2c6",
     "showTitle": false,
     "title": ""
    }
   },
   "outputs": [
    {
     "output_type": "display_data",
     "data": {
      "text/html": [
       "<style scoped>\n",
       "  .ansiout {\n",
       "    display: block;\n",
       "    unicode-bidi: embed;\n",
       "    white-space: pre-wrap;\n",
       "    word-wrap: break-word;\n",
       "    word-break: break-all;\n",
       "    font-family: \"Menlo\", \"Monaco\", \"Consolas\", \"Ubuntu Mono\", \"Source Code Pro\", monospace;\n",
       "    font-size: 13px;\n",
       "    color: #555;\n",
       "    margin-left: 4px;\n",
       "    line-height: 19px;\n",
       "  }\n",
       "</style>\n",
       "<div class=\"ansiout\">Out[74]: </div>"
      ]
     },
     "metadata": {
      "application/vnd.databricks.v1+output": {
       "addedWidgets": {},
       "arguments": {},
       "data": "<div class=\"ansiout\">Out[74]: </div>",
       "datasetInfos": [],
       "metadata": {},
       "removedWidgets": [],
       "type": "html"
      }
     },
     "output_type": "display_data"
    },
    {
     "output_type": "display_data",
     "data": {
      "text/html": [
       "<div><style>\n",
       ".dataframe > thead > tr,\n",
       ".dataframe > tbody > tr {\n",
       "  text-align: right;\n",
       "  white-space: pre-wrap;\n",
       "}\n",
       "</style>\n",
       "<small>shape: (4, 1)</small><table border=\"1\" class=\"dataframe\"><thead><tr><th>quantity</th></tr><tr><td>struct[2]</td></tr></thead><tbody><tr><td>{1.0,334000}</td></tr><tr><td>{2.0,333586}</td></tr><tr><td>{null,490}</td></tr><tr><td>{3.0,332924}</td></tr></tbody></table></div>"
      ]
     },
     "metadata": {
      "application/vnd.databricks.v1+output": {
       "addedWidgets": {},
       "arguments": {},
       "data": "<div><style>\n.dataframe > thead > tr,\n.dataframe > tbody > tr {\n  text-align: right;\n  white-space: pre-wrap;\n}\n</style>\n<small>shape: (4, 1)</small><table border=\"1\" class=\"dataframe\"><thead><tr><th>quantity</th></tr><tr><td>struct[2]</td></tr></thead><tbody><tr><td>{1.0,334000}</td></tr><tr><td>{2.0,333586}</td></tr><tr><td>{null,490}</td></tr><tr><td>{3.0,332924}</td></tr></tbody></table></div>",
       "datasetInfos": [],
       "metadata": {},
       "removedWidgets": [],
       "textData": null,
       "type": "htmlSandbox"
      }
     },
     "output_type": "display_data"
    }
   ],
   "source": [
    "# Polars\n",
    "user_actions_pl_df.select(pl.col('quantity').value_counts())"
   ]
  },
  {
   "cell_type": "markdown",
   "metadata": {
    "application/vnd.databricks.v1+cell": {
     "cellMetadata": {
      "byteLimit": 2048000,
      "rowLimit": 10000
     },
     "inputWidgets": {},
     "nuid": "80c2ee80-f95f-465b-9543-67b3e28a3131",
     "showTitle": false,
     "title": ""
    }
   },
   "source": [
    "#### Retrieve first and last 5 values"
   ]
  },
  {
   "cell_type": "code",
   "execution_count": 0,
   "metadata": {
    "application/vnd.databricks.v1+cell": {
     "cellMetadata": {
      "byteLimit": 2048000,
      "rowLimit": 10000
     },
     "inputWidgets": {},
     "nuid": "de3bcf6c-b0db-4361-83c7-be2c09b1d27a",
     "showTitle": false,
     "title": ""
    }
   },
   "outputs": [
    {
     "output_type": "display_data",
     "data": {
      "text/html": [
       "<style scoped>\n",
       "  .ansiout {\n",
       "    display: block;\n",
       "    unicode-bidi: embed;\n",
       "    white-space: pre-wrap;\n",
       "    word-wrap: break-word;\n",
       "    word-break: break-all;\n",
       "    font-family: \"Menlo\", \"Monaco\", \"Consolas\", \"Ubuntu Mono\", \"Source Code Pro\", monospace;\n",
       "    font-size: 13px;\n",
       "    color: #555;\n",
       "    margin-left: 4px;\n",
       "    line-height: 19px;\n",
       "  }\n",
       "</style>\n",
       "<div class=\"ansiout\">Out[75]: </div>"
      ]
     },
     "metadata": {
      "application/vnd.databricks.v1+output": {
       "addedWidgets": {},
       "arguments": {},
       "data": "<div class=\"ansiout\">Out[75]: </div>",
       "datasetInfos": [],
       "metadata": {},
       "removedWidgets": [],
       "type": "html"
      }
     },
     "output_type": "display_data"
    },
    {
     "output_type": "display_data",
     "data": {
      "text/html": [
       "<div>\n",
       "<style scoped>\n",
       "    .dataframe tbody tr th:only-of-type {\n",
       "        vertical-align: middle;\n",
       "    }\n",
       "\n",
       "    .dataframe tbody tr th {\n",
       "        vertical-align: top;\n",
       "    }\n",
       "\n",
       "    .dataframe thead th {\n",
       "        text-align: right;\n",
       "    }\n",
       "</style>\n",
       "<table border=\"1\" class=\"dataframe\">\n",
       "  <thead>\n",
       "    <tr style=\"text-align: right;\">\n",
       "      <th></th>\n",
       "      <th>OnlineStore</th>\n",
       "      <th>product</th>\n",
       "      <th>quantity</th>\n",
       "      <th>Action type</th>\n",
       "      <th>Action_time</th>\n",
       "    </tr>\n",
       "  </thead>\n",
       "  <tbody>\n",
       "    <tr>\n",
       "      <th>995</th>\n",
       "      <td>Shop3</td>\n",
       "      <td>0001</td>\n",
       "      <td>NaN</td>\n",
       "      <td>purchase</td>\n",
       "      <td>2024-08-30 20:38:00</td>\n",
       "    </tr>\n",
       "    <tr>\n",
       "      <th>996</th>\n",
       "      <td>Shop2</td>\n",
       "      <td>None</td>\n",
       "      <td>1.0</td>\n",
       "      <td>view</td>\n",
       "      <td>2024-08-30 18:21:00</td>\n",
       "    </tr>\n",
       "    <tr>\n",
       "      <th>997</th>\n",
       "      <td>Shop1</td>\n",
       "      <td>None</td>\n",
       "      <td>NaN</td>\n",
       "      <td>view</td>\n",
       "      <td>2024-08-30 18:18:00</td>\n",
       "    </tr>\n",
       "    <tr>\n",
       "      <th>998</th>\n",
       "      <td>Shop1</td>\n",
       "      <td>0001</td>\n",
       "      <td>1.0</td>\n",
       "      <td>view</td>\n",
       "      <td>2024-08-30 12:50:00</td>\n",
       "    </tr>\n",
       "    <tr>\n",
       "      <th>999</th>\n",
       "      <td>Shop2</td>\n",
       "      <td>0001</td>\n",
       "      <td>1.0</td>\n",
       "      <td>view</td>\n",
       "      <td>2024-08-30 10:50:00</td>\n",
       "    </tr>\n",
       "  </tbody>\n",
       "</table>\n",
       "</div>"
      ]
     },
     "metadata": {
      "application/vnd.databricks.v1+output": {
       "addedWidgets": {},
       "arguments": {},
       "data": "<div>\n<style scoped>\n    .dataframe tbody tr th:only-of-type {\n        vertical-align: middle;\n    }\n\n    .dataframe tbody tr th {\n        vertical-align: top;\n    }\n\n    .dataframe thead th {\n        text-align: right;\n    }\n</style>\n<table border=\"1\" class=\"dataframe\">\n  <thead>\n    <tr style=\"text-align: right;\">\n      <th></th>\n      <th>OnlineStore</th>\n      <th>product</th>\n      <th>quantity</th>\n      <th>Action type</th>\n      <th>Action_time</th>\n    </tr>\n  </thead>\n  <tbody>\n    <tr>\n      <th>995</th>\n      <td>Shop3</td>\n      <td>0001</td>\n      <td>NaN</td>\n      <td>purchase</td>\n      <td>2024-08-30 20:38:00</td>\n    </tr>\n    <tr>\n      <th>996</th>\n      <td>Shop2</td>\n      <td>None</td>\n      <td>1.0</td>\n      <td>view</td>\n      <td>2024-08-30 18:21:00</td>\n    </tr>\n    <tr>\n      <th>997</th>\n      <td>Shop1</td>\n      <td>None</td>\n      <td>NaN</td>\n      <td>view</td>\n      <td>2024-08-30 18:18:00</td>\n    </tr>\n    <tr>\n      <th>998</th>\n      <td>Shop1</td>\n      <td>0001</td>\n      <td>1.0</td>\n      <td>view</td>\n      <td>2024-08-30 12:50:00</td>\n    </tr>\n    <tr>\n      <th>999</th>\n      <td>Shop2</td>\n      <td>0001</td>\n      <td>1.0</td>\n      <td>view</td>\n      <td>2024-08-30 10:50:00</td>\n    </tr>\n  </tbody>\n</table>\n</div>",
       "datasetInfos": [],
       "metadata": {},
       "removedWidgets": [],
       "textData": null,
       "type": "htmlSandbox"
      }
     },
     "output_type": "display_data"
    }
   ],
   "source": [
    "# Pandas\n",
    "user_actions_pd_df.head()\n",
    "user_actions_pd_df.tail()"
   ]
  },
  {
   "cell_type": "code",
   "execution_count": 0,
   "metadata": {
    "application/vnd.databricks.v1+cell": {
     "cellMetadata": {
      "byteLimit": 2048000,
      "rowLimit": 10000
     },
     "inputWidgets": {},
     "nuid": "276a6c99-01bb-4ea1-93f3-f882defa92f1",
     "showTitle": false,
     "title": ""
    }
   },
   "outputs": [
    {
     "output_type": "display_data",
     "data": {
      "text/html": [
       "<style scoped>\n",
       "  .ansiout {\n",
       "    display: block;\n",
       "    unicode-bidi: embed;\n",
       "    white-space: pre-wrap;\n",
       "    word-wrap: break-word;\n",
       "    word-break: break-all;\n",
       "    font-family: \"Menlo\", \"Monaco\", \"Consolas\", \"Ubuntu Mono\", \"Source Code Pro\", monospace;\n",
       "    font-size: 13px;\n",
       "    color: #555;\n",
       "    margin-left: 4px;\n",
       "    line-height: 19px;\n",
       "  }\n",
       "</style>\n",
       "<div class=\"ansiout\">Out[76]: </div>"
      ]
     },
     "metadata": {
      "application/vnd.databricks.v1+output": {
       "addedWidgets": {},
       "arguments": {},
       "data": "<div class=\"ansiout\">Out[76]: </div>",
       "datasetInfos": [],
       "metadata": {},
       "removedWidgets": [],
       "type": "html"
      }
     },
     "output_type": "display_data"
    },
    {
     "output_type": "display_data",
     "data": {
      "text/html": [
       "<div><style>\n",
       ".dataframe > thead > tr,\n",
       ".dataframe > tbody > tr {\n",
       "  text-align: right;\n",
       "  white-space: pre-wrap;\n",
       "}\n",
       "</style>\n",
       "<small>shape: (5, 5)</small><table border=\"1\" class=\"dataframe\"><thead><tr><th>OnlineStore</th><th>product</th><th>quantity</th><th>Action type</th><th>Action_time</th></tr><tr><td>str</td><td>str</td><td>f64</td><td>str</td><td>datetime[μs]</td></tr></thead><tbody><tr><td>&quot;Shop3&quot;</td><td>&quot;0001&quot;</td><td>null</td><td>&quot;purchase&quot;</td><td>2024-08-30 20:38:00</td></tr><tr><td>&quot;Shop2&quot;</td><td>null</td><td>1.0</td><td>&quot;view&quot;</td><td>2024-08-30 18:21:00</td></tr><tr><td>&quot;Shop1&quot;</td><td>null</td><td>null</td><td>&quot;view&quot;</td><td>2024-08-30 18:18:00</td></tr><tr><td>&quot;Shop1&quot;</td><td>&quot;0001&quot;</td><td>1.0</td><td>&quot;view&quot;</td><td>2024-08-30 12:50:00</td></tr><tr><td>&quot;Shop2&quot;</td><td>&quot;0001&quot;</td><td>1.0</td><td>&quot;view&quot;</td><td>2024-08-30 10:50:00</td></tr></tbody></table></div>"
      ]
     },
     "metadata": {
      "application/vnd.databricks.v1+output": {
       "addedWidgets": {},
       "arguments": {},
       "data": "<div><style>\n.dataframe > thead > tr,\n.dataframe > tbody > tr {\n  text-align: right;\n  white-space: pre-wrap;\n}\n</style>\n<small>shape: (5, 5)</small><table border=\"1\" class=\"dataframe\"><thead><tr><th>OnlineStore</th><th>product</th><th>quantity</th><th>Action type</th><th>Action_time</th></tr><tr><td>str</td><td>str</td><td>f64</td><td>str</td><td>datetime[μs]</td></tr></thead><tbody><tr><td>&quot;Shop3&quot;</td><td>&quot;0001&quot;</td><td>null</td><td>&quot;purchase&quot;</td><td>2024-08-30 20:38:00</td></tr><tr><td>&quot;Shop2&quot;</td><td>null</td><td>1.0</td><td>&quot;view&quot;</td><td>2024-08-30 18:21:00</td></tr><tr><td>&quot;Shop1&quot;</td><td>null</td><td>null</td><td>&quot;view&quot;</td><td>2024-08-30 18:18:00</td></tr><tr><td>&quot;Shop1&quot;</td><td>&quot;0001&quot;</td><td>1.0</td><td>&quot;view&quot;</td><td>2024-08-30 12:50:00</td></tr><tr><td>&quot;Shop2&quot;</td><td>&quot;0001&quot;</td><td>1.0</td><td>&quot;view&quot;</td><td>2024-08-30 10:50:00</td></tr></tbody></table></div>",
       "datasetInfos": [],
       "metadata": {},
       "removedWidgets": [],
       "textData": null,
       "type": "htmlSandbox"
      }
     },
     "output_type": "display_data"
    }
   ],
   "source": [
    "# Polars\n",
    "user_actions_pl_df.head()\n",
    "user_actions_pl_df.tail()"
   ]
  },
  {
   "cell_type": "code",
   "execution_count": 0,
   "metadata": {
    "application/vnd.databricks.v1+cell": {
     "cellMetadata": {
      "byteLimit": 2048000,
      "rowLimit": 10000
     },
     "inputWidgets": {},
     "nuid": "bfdbb03e-2fc0-4ebb-9998-1c30073f8e06",
     "showTitle": false,
     "title": ""
    }
   },
   "outputs": [
    {
     "output_type": "display_data",
     "data": {
      "text/html": [
       "<style scoped>\n",
       "  .ansiout {\n",
       "    display: block;\n",
       "    unicode-bidi: embed;\n",
       "    white-space: pre-wrap;\n",
       "    word-wrap: break-word;\n",
       "    word-break: break-all;\n",
       "    font-family: \"Menlo\", \"Monaco\", \"Consolas\", \"Ubuntu Mono\", \"Source Code Pro\", monospace;\n",
       "    font-size: 13px;\n",
       "    color: #555;\n",
       "    margin-left: 4px;\n",
       "    line-height: 19px;\n",
       "  }\n",
       "</style>\n",
       "<div class=\"ansiout\">Rows: 1001000\n",
       "Columns: 5\n",
       "$ OnlineStore          &lt;str&gt; &#39;Shop3&#39;, &#39;Shop3&#39;, &#39;Shop3&#39;, &#39;Shop1&#39;, &#39;Shop3&#39;, &#39;Shop2&#39;, &#39;Shop1&#39;, &#39;Shop2&#39;, &#39;Shop1&#39;, &#39;Shop2&#39;\n",
       "$ product              &lt;str&gt; &#39;0001&#39;, &#39;0001&#39;, &#39;0001&#39;, &#39;0003&#39;, &#39;0001&#39;, &#39;0003&#39;, &#39;0001&#39;, &#39;0001&#39;, &#39;0002&#39;, &#39;0003&#39;\n",
       "$ quantity             &lt;f64&gt; 1.0, 3.0, 3.0, 3.0, 3.0, 2.0, 3.0, 1.0, 2.0, 1.0\n",
       "$ Action type          &lt;str&gt; &#39;view&#39;, &#39;view&#39;, &#39;view&#39;, &#39;view&#39;, &#39;view&#39;, &#39;view&#39;, &#39;view&#39;, &#39;view&#39;, &#39;view&#39;, &#39;view&#39;\n",
       "$ Action_time &lt;datetime[μs]&gt; 2024-05-21 09:24:00, 2023-03-10 15:54:00, 2024-03-24 19:02:00, 2024-08-11 16:16:00, 2024-03-23 11:32:00, 2023-01-19 14:11:00, 2024-03-27 05:08:00, 2023-11-28 08:18:00, 2023-03-18 15:01:00, 2022-10-29 09:44:00\n",
       "\n",
       "</div>"
      ]
     },
     "metadata": {
      "application/vnd.databricks.v1+output": {
       "addedWidgets": {},
       "arguments": {},
       "data": "<div class=\"ansiout\">Rows: 1001000\nColumns: 5\n$ OnlineStore          &lt;str&gt; &#39;Shop3&#39;, &#39;Shop3&#39;, &#39;Shop3&#39;, &#39;Shop1&#39;, &#39;Shop3&#39;, &#39;Shop2&#39;, &#39;Shop1&#39;, &#39;Shop2&#39;, &#39;Shop1&#39;, &#39;Shop2&#39;\n$ product              &lt;str&gt; &#39;0001&#39;, &#39;0001&#39;, &#39;0001&#39;, &#39;0003&#39;, &#39;0001&#39;, &#39;0003&#39;, &#39;0001&#39;, &#39;0001&#39;, &#39;0002&#39;, &#39;0003&#39;\n$ quantity             &lt;f64&gt; 1.0, 3.0, 3.0, 3.0, 3.0, 2.0, 3.0, 1.0, 2.0, 1.0\n$ Action type          &lt;str&gt; &#39;view&#39;, &#39;view&#39;, &#39;view&#39;, &#39;view&#39;, &#39;view&#39;, &#39;view&#39;, &#39;view&#39;, &#39;view&#39;, &#39;view&#39;, &#39;view&#39;\n$ Action_time &lt;datetime[μs]&gt; 2024-05-21 09:24:00, 2023-03-10 15:54:00, 2024-03-24 19:02:00, 2024-08-11 16:16:00, 2024-03-23 11:32:00, 2023-01-19 14:11:00, 2024-03-27 05:08:00, 2023-11-28 08:18:00, 2023-03-18 15:01:00, 2022-10-29 09:44:00\n\n</div>",
       "datasetInfos": [],
       "metadata": {},
       "removedWidgets": [],
       "type": "html"
      }
     },
     "output_type": "display_data"
    }
   ],
   "source": [
    "# Polars\n",
    "## Glimpse provides a dense preview of the DataFrame. Available in Polars only.\n",
    "user_actions_pl_df.glimpse()"
   ]
  },
  {
   "cell_type": "markdown",
   "metadata": {
    "application/vnd.databricks.v1+cell": {
     "cellMetadata": {
      "byteLimit": 2048000,
      "rowLimit": 10000
     },
     "inputWidgets": {},
     "nuid": "0b978fa5-08f4-4eee-bfa0-67ee3398ed61",
     "showTitle": false,
     "title": ""
    }
   },
   "source": [
    "#### Rename Columns"
   ]
  },
  {
   "cell_type": "code",
   "execution_count": 0,
   "metadata": {
    "application/vnd.databricks.v1+cell": {
     "cellMetadata": {
      "byteLimit": 2048000,
      "rowLimit": 10000
     },
     "inputWidgets": {},
     "nuid": "3b2600e6-4a20-4b5d-8490-8a904f63106a",
     "showTitle": false,
     "title": ""
    }
   },
   "outputs": [
    {
     "output_type": "display_data",
     "data": {
      "text/html": [
       "<style scoped>\n",
       "  .ansiout {\n",
       "    display: block;\n",
       "    unicode-bidi: embed;\n",
       "    white-space: pre-wrap;\n",
       "    word-wrap: break-word;\n",
       "    word-break: break-all;\n",
       "    font-family: \"Menlo\", \"Monaco\", \"Consolas\", \"Ubuntu Mono\", \"Source Code Pro\", monospace;\n",
       "    font-size: 13px;\n",
       "    color: #555;\n",
       "    margin-left: 4px;\n",
       "    line-height: 19px;\n",
       "  }\n",
       "</style>\n",
       "<div class=\"ansiout\"></div>"
      ]
     },
     "metadata": {
      "application/vnd.databricks.v1+output": {
       "addedWidgets": {},
       "arguments": {},
       "data": "<div class=\"ansiout\"></div>",
       "datasetInfos": [],
       "metadata": {},
       "removedWidgets": [],
       "type": "html"
      }
     },
     "output_type": "display_data"
    }
   ],
   "source": [
    "# Pandas\n",
    "user_actions_pd_df = user_actions_pd_df.rename(\n",
    "    columns={\n",
    "        \"OnlineStore\": \"online_store\",\n",
    "        \"product\": \"product_id\",\n",
    "        \"Action type\": \"action_type\",\n",
    "        \"Action_time\": \"action_dt\",\n",
    "    }\n",
    ")"
   ]
  },
  {
   "cell_type": "code",
   "execution_count": 0,
   "metadata": {
    "application/vnd.databricks.v1+cell": {
     "cellMetadata": {
      "byteLimit": 2048000,
      "rowLimit": 10000
     },
     "inputWidgets": {},
     "nuid": "3fb2b78e-d9e5-4a13-9dd5-358d9597bf7c",
     "showTitle": false,
     "title": ""
    }
   },
   "outputs": [
    {
     "output_type": "display_data",
     "data": {
      "text/html": [
       "<style scoped>\n",
       "  .ansiout {\n",
       "    display: block;\n",
       "    unicode-bidi: embed;\n",
       "    white-space: pre-wrap;\n",
       "    word-wrap: break-word;\n",
       "    word-break: break-all;\n",
       "    font-family: \"Menlo\", \"Monaco\", \"Consolas\", \"Ubuntu Mono\", \"Source Code Pro\", monospace;\n",
       "    font-size: 13px;\n",
       "    color: #555;\n",
       "    margin-left: 4px;\n",
       "    line-height: 19px;\n",
       "  }\n",
       "</style>\n",
       "<div class=\"ansiout\"></div>"
      ]
     },
     "metadata": {
      "application/vnd.databricks.v1+output": {
       "addedWidgets": {},
       "arguments": {},
       "data": "<div class=\"ansiout\"></div>",
       "datasetInfos": [],
       "metadata": {},
       "removedWidgets": [],
       "type": "html"
      }
     },
     "output_type": "display_data"
    }
   ],
   "source": [
    "# Polars\n",
    "user_actions_pl_df = user_actions_pl_df.rename(\n",
    "    {\n",
    "        \"OnlineStore\": \"online_store\",\n",
    "        \"product\": \"product_id\",\n",
    "        \"Action type\": \"action_type\",\n",
    "        \"Action_time\": \"action_dt\",\n",
    "    }\n",
    ")"
   ]
  },
  {
   "cell_type": "markdown",
   "metadata": {
    "application/vnd.databricks.v1+cell": {
     "cellMetadata": {
      "byteLimit": 2048000,
      "rowLimit": 10000
     },
     "inputWidgets": {},
     "nuid": "43b44bf3-22fb-4d6a-82b1-c9b8e159e4fb",
     "showTitle": false,
     "title": ""
    }
   },
   "source": [
    "#### Changing Column Data Types"
   ]
  },
  {
   "cell_type": "code",
   "execution_count": 0,
   "metadata": {
    "application/vnd.databricks.v1+cell": {
     "cellMetadata": {
      "byteLimit": 2048000,
      "rowLimit": 10000
     },
     "inputWidgets": {},
     "nuid": "546da836-f91d-41d6-a215-4627985ed16e",
     "showTitle": false,
     "title": ""
    }
   },
   "outputs": [
    {
     "output_type": "display_data",
     "data": {
      "text/html": [
       "<style scoped>\n",
       "  .ansiout {\n",
       "    display: block;\n",
       "    unicode-bidi: embed;\n",
       "    white-space: pre-wrap;\n",
       "    word-wrap: break-word;\n",
       "    word-break: break-all;\n",
       "    font-family: \"Menlo\", \"Monaco\", \"Consolas\", \"Ubuntu Mono\", \"Source Code Pro\", monospace;\n",
       "    font-size: 13px;\n",
       "    color: #555;\n",
       "    margin-left: 4px;\n",
       "    line-height: 19px;\n",
       "  }\n",
       "</style>\n",
       "<div class=\"ansiout\"></div>"
      ]
     },
     "metadata": {
      "application/vnd.databricks.v1+output": {
       "addedWidgets": {},
       "arguments": {},
       "data": "<div class=\"ansiout\"></div>",
       "datasetInfos": [],
       "metadata": {},
       "removedWidgets": [],
       "type": "html"
      }
     },
     "output_type": "display_data"
    }
   ],
   "source": [
    "# Pandas\n",
    "user_actions_pd_df = user_actions_pd_df.astype({\"quantity\": \"Int64\"})"
   ]
  },
  {
   "cell_type": "code",
   "execution_count": 0,
   "metadata": {
    "application/vnd.databricks.v1+cell": {
     "cellMetadata": {
      "byteLimit": 2048000,
      "rowLimit": 10000
     },
     "inputWidgets": {},
     "nuid": "a1b04930-1b81-424a-bd9d-c0df923ffceb",
     "showTitle": false,
     "title": ""
    }
   },
   "outputs": [
    {
     "output_type": "display_data",
     "data": {
      "text/html": [
       "<style scoped>\n",
       "  .ansiout {\n",
       "    display: block;\n",
       "    unicode-bidi: embed;\n",
       "    white-space: pre-wrap;\n",
       "    word-wrap: break-word;\n",
       "    word-break: break-all;\n",
       "    font-family: \"Menlo\", \"Monaco\", \"Consolas\", \"Ubuntu Mono\", \"Source Code Pro\", monospace;\n",
       "    font-size: 13px;\n",
       "    color: #555;\n",
       "    margin-left: 4px;\n",
       "    line-height: 19px;\n",
       "  }\n",
       "</style>\n",
       "<div class=\"ansiout\"></div>"
      ]
     },
     "metadata": {
      "application/vnd.databricks.v1+output": {
       "addedWidgets": {},
       "arguments": {},
       "data": "<div class=\"ansiout\"></div>",
       "datasetInfos": [],
       "metadata": {},
       "removedWidgets": [],
       "type": "html"
      }
     },
     "output_type": "display_data"
    }
   ],
   "source": [
    "# Polars\n",
    "user_actions_pl_df = user_actions_pl_df.cast({\"quantity\": pl.Int32})"
   ]
  },
  {
   "cell_type": "markdown",
   "metadata": {
    "application/vnd.databricks.v1+cell": {
     "cellMetadata": {
      "byteLimit": 2048000,
      "rowLimit": 10000
     },
     "inputWidgets": {},
     "nuid": "dba7c1ee-3b54-4330-9c70-bd7efebd3f43",
     "showTitle": false,
     "title": ""
    }
   },
   "source": [
    "#### Checking Dataframe Size"
   ]
  },
  {
   "cell_type": "code",
   "execution_count": 0,
   "metadata": {
    "application/vnd.databricks.v1+cell": {
     "cellMetadata": {
      "byteLimit": 2048000,
      "rowLimit": 10000
     },
     "inputWidgets": {},
     "nuid": "a1961972-69b5-441d-bc28-510b7758485b",
     "showTitle": false,
     "title": ""
    }
   },
   "outputs": [
    {
     "output_type": "display_data",
     "data": {
      "text/html": [
       "<style scoped>\n",
       "  .ansiout {\n",
       "    display: block;\n",
       "    unicode-bidi: embed;\n",
       "    white-space: pre-wrap;\n",
       "    word-wrap: break-word;\n",
       "    word-break: break-all;\n",
       "    font-family: \"Menlo\", \"Monaco\", \"Consolas\", \"Ubuntu Mono\", \"Source Code Pro\", monospace;\n",
       "    font-size: 13px;\n",
       "    color: #555;\n",
       "    margin-left: 4px;\n",
       "    line-height: 19px;\n",
       "  }\n",
       "</style>\n",
       "<div class=\"ansiout\">Pandas: 200.54600524902344\n",
       "Polars: 4.57763671875e-05\n",
       "</div>"
      ]
     },
     "metadata": {
      "application/vnd.databricks.v1+output": {
       "addedWidgets": {},
       "arguments": {},
       "data": "<div class=\"ansiout\">Pandas: 200.54600524902344\nPolars: 4.57763671875e-05\n</div>",
       "datasetInfos": [],
       "metadata": {},
       "removedWidgets": [],
       "type": "html"
      }
     },
     "output_type": "display_data"
    }
   ],
   "source": [
    "# getsizeof returns the size in bytes. Divide by 1_048_576 to convert it into MB.\n",
    "# getsizeof wont work for polars because it returns the size of the wrapping object, not the actual dataframe. For polars you should use the estimated_size('mb') method.\n",
    "\n",
    "print('Pandas:', sys.getsizeof(user_actions_pd_df) / 1_048_576)\n",
    "print('Polars:', sys.getsizeof(user_actions_pl_df) / 1_048_576)"
   ]
  },
  {
   "cell_type": "code",
   "execution_count": 0,
   "metadata": {
    "application/vnd.databricks.v1+cell": {
     "cellMetadata": {
      "byteLimit": 2048000,
      "rowLimit": 10000
     },
     "inputWidgets": {},
     "nuid": "cb31f798-3cf5-4d0a-907f-cc6d136c5155",
     "showTitle": false,
     "title": ""
    }
   },
   "outputs": [
    {
     "output_type": "display_data",
     "data": {
      "text/html": [
       "<style scoped>\n",
       "  .ansiout {\n",
       "    display: block;\n",
       "    unicode-bidi: embed;\n",
       "    white-space: pre-wrap;\n",
       "    word-wrap: break-word;\n",
       "    word-break: break-all;\n",
       "    font-family: \"Menlo\", \"Monaco\", \"Consolas\", \"Ubuntu Mono\", \"Source Code Pro\", monospace;\n",
       "    font-size: 13px;\n",
       "    color: #555;\n",
       "    margin-left: 4px;\n",
       "    line-height: 19px;\n",
       "  }\n",
       "</style>\n",
       "<div class=\"ansiout\">&lt;class &#39;pandas.core.frame.DataFrame&#39;&gt;\n",
       "Int64Index: 1001000 entries, 0 to 999\n",
       "Data columns (total 5 columns):\n",
       " #   Column        Non-Null Count    Dtype         \n",
       "---  ------        --------------    -----         \n",
       " 0   online_store  1001000 non-null  object        \n",
       " 1   product_id    1000492 non-null  object        \n",
       " 2   quantity      1000510 non-null  Int64         \n",
       " 3   action_type   1001000 non-null  object        \n",
       " 4   action_dt     1001000 non-null  datetime64[ns]\n",
       "dtypes: Int64(1), datetime64[ns](1), object(3)\n",
       "memory usage: 200.5 MB\n",
       "</div>"
      ]
     },
     "metadata": {
      "application/vnd.databricks.v1+output": {
       "addedWidgets": {},
       "arguments": {},
       "data": "<div class=\"ansiout\">&lt;class &#39;pandas.core.frame.DataFrame&#39;&gt;\nInt64Index: 1001000 entries, 0 to 999\nData columns (total 5 columns):\n #   Column        Non-Null Count    Dtype         \n---  ------        --------------    -----         \n 0   online_store  1001000 non-null  object        \n 1   product_id    1000492 non-null  object        \n 2   quantity      1000510 non-null  Int64         \n 3   action_type   1001000 non-null  object        \n 4   action_dt     1001000 non-null  datetime64[ns]\ndtypes: Int64(1), datetime64[ns](1), object(3)\nmemory usage: 200.5 MB\n</div>",
       "datasetInfos": [],
       "metadata": {},
       "removedWidgets": [],
       "type": "html"
      }
     },
     "output_type": "display_data"
    }
   ],
   "source": [
    "# Pandas\n",
    "user_actions_pd_df.info(memory_usage='deep')"
   ]
  },
  {
   "cell_type": "code",
   "execution_count": 0,
   "metadata": {
    "application/vnd.databricks.v1+cell": {
     "cellMetadata": {
      "byteLimit": 2048000,
      "rowLimit": 10000
     },
     "inputWidgets": {},
     "nuid": "ed6a4e6d-b666-41c0-af54-15d89e0df81b",
     "showTitle": false,
     "title": ""
    }
   },
   "outputs": [
    {
     "output_type": "display_data",
     "data": {
      "text/html": [
       "<style scoped>\n",
       "  .ansiout {\n",
       "    display: block;\n",
       "    unicode-bidi: embed;\n",
       "    white-space: pre-wrap;\n",
       "    word-wrap: break-word;\n",
       "    word-break: break-all;\n",
       "    font-family: \"Menlo\", \"Monaco\", \"Consolas\", \"Ubuntu Mono\", \"Source Code Pro\", monospace;\n",
       "    font-size: 13px;\n",
       "    color: #555;\n",
       "    margin-left: 4px;\n",
       "    line-height: 19px;\n",
       "  }\n",
       "</style>\n",
       "<div class=\"ansiout\">Out[84]: 24.91054630279541</div>"
      ]
     },
     "metadata": {
      "application/vnd.databricks.v1+output": {
       "addedWidgets": {},
       "arguments": {},
       "data": "<div class=\"ansiout\">Out[84]: 24.91054630279541</div>",
       "datasetInfos": [],
       "metadata": {},
       "removedWidgets": [],
       "type": "html"
      }
     },
     "output_type": "display_data"
    }
   ],
   "source": [
    "# Polars\n",
    "user_actions_pl_df.estimated_size(\"mb\")"
   ]
  },
  {
   "cell_type": "markdown",
   "metadata": {
    "application/vnd.databricks.v1+cell": {
     "cellMetadata": {
      "byteLimit": 2048000,
      "rowLimit": 10000
     },
     "inputWidgets": {},
     "nuid": "b77717ae-0b80-4e6a-bf78-2f0894c874bc",
     "showTitle": false,
     "title": ""
    }
   },
   "source": [
    "#### Filling Missing Values"
   ]
  },
  {
   "cell_type": "code",
   "execution_count": 0,
   "metadata": {
    "application/vnd.databricks.v1+cell": {
     "cellMetadata": {
      "byteLimit": 2048000,
      "rowLimit": 10000
     },
     "inputWidgets": {},
     "nuid": "033a3850-f5a1-446d-aa79-b10a6dc65290",
     "showTitle": false,
     "title": ""
    }
   },
   "outputs": [
    {
     "output_type": "display_data",
     "data": {
      "text/html": [
       "<style scoped>\n",
       "  .ansiout {\n",
       "    display: block;\n",
       "    unicode-bidi: embed;\n",
       "    white-space: pre-wrap;\n",
       "    word-wrap: break-word;\n",
       "    word-break: break-all;\n",
       "    font-family: \"Menlo\", \"Monaco\", \"Consolas\", \"Ubuntu Mono\", \"Source Code Pro\", monospace;\n",
       "    font-size: 13px;\n",
       "    color: #555;\n",
       "    margin-left: 4px;\n",
       "    line-height: 19px;\n",
       "  }\n",
       "</style>\n",
       "<div class=\"ansiout\">Out[85]: 1    334000\n",
       "2    333586\n",
       "3    332924\n",
       "0       490\n",
       "Name: quantity, dtype: Int64</div>"
      ]
     },
     "metadata": {
      "application/vnd.databricks.v1+output": {
       "addedWidgets": {},
       "arguments": {},
       "data": "<div class=\"ansiout\">Out[85]: 1    334000\n2    333586\n3    332924\n0       490\nName: quantity, dtype: Int64</div>",
       "datasetInfos": [],
       "metadata": {},
       "removedWidgets": [],
       "type": "html"
      }
     },
     "output_type": "display_data"
    }
   ],
   "source": [
    "# Pandas\n",
    "user_actions_pd_df[\"quantity\"] = user_actions_pd_df[\"quantity\"].fillna(0) # You can also use inplace=True\n",
    "user_actions_pd_df['quantity'].value_counts()"
   ]
  },
  {
   "cell_type": "code",
   "execution_count": 0,
   "metadata": {
    "application/vnd.databricks.v1+cell": {
     "cellMetadata": {
      "byteLimit": 2048000,
      "rowLimit": 10000
     },
     "inputWidgets": {},
     "nuid": "d7267537-ef36-47c4-a83b-d98c468adf89",
     "showTitle": false,
     "title": ""
    }
   },
   "outputs": [
    {
     "output_type": "display_data",
     "data": {
      "text/html": [
       "<style scoped>\n",
       "  .ansiout {\n",
       "    display: block;\n",
       "    unicode-bidi: embed;\n",
       "    white-space: pre-wrap;\n",
       "    word-wrap: break-word;\n",
       "    word-break: break-all;\n",
       "    font-family: \"Menlo\", \"Monaco\", \"Consolas\", \"Ubuntu Mono\", \"Source Code Pro\", monospace;\n",
       "    font-size: 13px;\n",
       "    color: #555;\n",
       "    margin-left: 4px;\n",
       "    line-height: 19px;\n",
       "  }\n",
       "</style>\n",
       "<div class=\"ansiout\">Out[86]: </div>"
      ]
     },
     "metadata": {
      "application/vnd.databricks.v1+output": {
       "addedWidgets": {},
       "arguments": {},
       "data": "<div class=\"ansiout\">Out[86]: </div>",
       "datasetInfos": [],
       "metadata": {},
       "removedWidgets": [],
       "type": "html"
      }
     },
     "output_type": "display_data"
    },
    {
     "output_type": "display_data",
     "data": {
      "text/html": [
       "<div><style>\n",
       ".dataframe > thead > tr,\n",
       ".dataframe > tbody > tr {\n",
       "  text-align: right;\n",
       "  white-space: pre-wrap;\n",
       "}\n",
       "</style>\n",
       "<small>shape: (1_001_000, 1)</small><table border=\"1\" class=\"dataframe\"><thead><tr><th>quantity</th></tr><tr><td>i32</td></tr></thead><tbody><tr><td>1</td></tr><tr><td>3</td></tr><tr><td>3</td></tr><tr><td>3</td></tr><tr><td>3</td></tr><tr><td>&hellip;</td></tr><tr><td>0</td></tr><tr><td>1</td></tr><tr><td>0</td></tr><tr><td>1</td></tr><tr><td>1</td></tr></tbody></table></div>"
      ]
     },
     "metadata": {
      "application/vnd.databricks.v1+output": {
       "addedWidgets": {},
       "arguments": {},
       "data": "<div><style>\n.dataframe > thead > tr,\n.dataframe > tbody > tr {\n  text-align: right;\n  white-space: pre-wrap;\n}\n</style>\n<small>shape: (1_001_000, 1)</small><table border=\"1\" class=\"dataframe\"><thead><tr><th>quantity</th></tr><tr><td>i32</td></tr></thead><tbody><tr><td>1</td></tr><tr><td>3</td></tr><tr><td>3</td></tr><tr><td>3</td></tr><tr><td>3</td></tr><tr><td>&hellip;</td></tr><tr><td>0</td></tr><tr><td>1</td></tr><tr><td>0</td></tr><tr><td>1</td></tr><tr><td>1</td></tr></tbody></table></div>",
       "datasetInfos": [],
       "metadata": {},
       "removedWidgets": [],
       "textData": null,
       "type": "htmlSandbox"
      }
     },
     "output_type": "display_data"
    }
   ],
   "source": [
    "# Polars\n",
    "user_actions_pl_df = user_actions_pl_df.with_columns(pl.col(\"quantity\").fill_null(0)) # Similar syntax to PySpark\n",
    "user_actions_pl_df.select(pl.col('quantity'))"
   ]
  },
  {
   "cell_type": "markdown",
   "metadata": {
    "application/vnd.databricks.v1+cell": {
     "cellMetadata": {
      "byteLimit": 2048000,
      "rowLimit": 10000
     },
     "inputWidgets": {},
     "nuid": "182592ee-e39c-4561-b7a9-4fae3a00bb6a",
     "showTitle": false,
     "title": ""
    }
   },
   "source": [
    "#### Removing Missing Values"
   ]
  },
  {
   "cell_type": "code",
   "execution_count": 0,
   "metadata": {
    "application/vnd.databricks.v1+cell": {
     "cellMetadata": {
      "byteLimit": 2048000,
      "rowLimit": 10000
     },
     "inputWidgets": {},
     "nuid": "dba90a11-7d0b-4ab9-b7c5-b450130caa6f",
     "showTitle": false,
     "title": ""
    }
   },
   "outputs": [
    {
     "output_type": "display_data",
     "data": {
      "text/html": [
       "<style scoped>\n",
       "  .ansiout {\n",
       "    display: block;\n",
       "    unicode-bidi: embed;\n",
       "    white-space: pre-wrap;\n",
       "    word-wrap: break-word;\n",
       "    word-break: break-all;\n",
       "    font-family: \"Menlo\", \"Monaco\", \"Consolas\", \"Ubuntu Mono\", \"Source Code Pro\", monospace;\n",
       "    font-size: 13px;\n",
       "    color: #555;\n",
       "    margin-left: 4px;\n",
       "    line-height: 19px;\n",
       "  }\n",
       "</style>\n",
       "<div class=\"ansiout\">Out[87]: 1999679</div>"
      ]
     },
     "metadata": {
      "application/vnd.databricks.v1+output": {
       "addedWidgets": {},
       "arguments": {},
       "data": "<div class=\"ansiout\">Out[87]: 1999679</div>",
       "datasetInfos": [],
       "metadata": {},
       "removedWidgets": [],
       "type": "html"
      }
     },
     "output_type": "display_data"
    }
   ],
   "source": [
    "# Pandas\n",
    "user_actions_pd_df = user_actions_pd_df.dropna(subset=[\"product_id\"])\n",
    "user_actions_pd_df['quantity'].sum()"
   ]
  },
  {
   "cell_type": "code",
   "execution_count": 0,
   "metadata": {
    "application/vnd.databricks.v1+cell": {
     "cellMetadata": {
      "byteLimit": 2048000,
      "rowLimit": 10000
     },
     "inputWidgets": {},
     "nuid": "45f93f6a-bf5a-49c0-8b55-1ca4f7fd3fb7",
     "showTitle": false,
     "title": ""
    }
   },
   "outputs": [
    {
     "output_type": "display_data",
     "data": {
      "text/html": [
       "<style scoped>\n",
       "  .ansiout {\n",
       "    display: block;\n",
       "    unicode-bidi: embed;\n",
       "    white-space: pre-wrap;\n",
       "    word-wrap: break-word;\n",
       "    word-break: break-all;\n",
       "    font-family: \"Menlo\", \"Monaco\", \"Consolas\", \"Ubuntu Mono\", \"Source Code Pro\", monospace;\n",
       "    font-size: 13px;\n",
       "    color: #555;\n",
       "    margin-left: 4px;\n",
       "    line-height: 19px;\n",
       "  }\n",
       "</style>\n",
       "<div class=\"ansiout\">Out[88]: </div>"
      ]
     },
     "metadata": {
      "application/vnd.databricks.v1+output": {
       "addedWidgets": {},
       "arguments": {},
       "data": "<div class=\"ansiout\">Out[88]: </div>",
       "datasetInfos": [],
       "metadata": {},
       "removedWidgets": [],
       "type": "html"
      }
     },
     "output_type": "display_data"
    },
    {
     "output_type": "display_data",
     "data": {
      "text/html": [
       "<div><style>\n",
       ".dataframe > thead > tr,\n",
       ".dataframe > tbody > tr {\n",
       "  text-align: right;\n",
       "  white-space: pre-wrap;\n",
       "}\n",
       "</style>\n",
       "<small>shape: (1, 1)</small><table border=\"1\" class=\"dataframe\"><thead><tr><th>quantity</th></tr><tr><td>i32</td></tr></thead><tbody><tr><td>1999679</td></tr></tbody></table></div>"
      ]
     },
     "metadata": {
      "application/vnd.databricks.v1+output": {
       "addedWidgets": {},
       "arguments": {},
       "data": "<div><style>\n.dataframe > thead > tr,\n.dataframe > tbody > tr {\n  text-align: right;\n  white-space: pre-wrap;\n}\n</style>\n<small>shape: (1, 1)</small><table border=\"1\" class=\"dataframe\"><thead><tr><th>quantity</th></tr><tr><td>i32</td></tr></thead><tbody><tr><td>1999679</td></tr></tbody></table></div>",
       "datasetInfos": [],
       "metadata": {},
       "removedWidgets": [],
       "textData": null,
       "type": "htmlSandbox"
      }
     },
     "output_type": "display_data"
    }
   ],
   "source": [
    "# Polars\n",
    "user_actions_pl_df = user_actions_pl_df.drop_nulls(subset=[\"product_id\"]) # Notice that Polars returns a dataframe, unlike pandas which returns a series or dataframe depending on the method.\n",
    "user_actions_pl_df.select(pl.col('quantity')).sum()"
   ]
  },
  {
   "cell_type": "markdown",
   "metadata": {
    "application/vnd.databricks.v1+cell": {
     "cellMetadata": {
      "byteLimit": 2048000,
      "rowLimit": 10000
     },
     "inputWidgets": {},
     "nuid": "cac57cff-f7d2-449f-baf5-e47da1ba8bf1",
     "showTitle": false,
     "title": ""
    }
   },
   "source": [
    "#### Remove Duplicates"
   ]
  },
  {
   "cell_type": "code",
   "execution_count": 0,
   "metadata": {
    "application/vnd.databricks.v1+cell": {
     "cellMetadata": {
      "byteLimit": 2048000,
      "rowLimit": 10000
     },
     "inputWidgets": {},
     "nuid": "8bb23c96-8e13-467e-acb9-f35418cd1d2b",
     "showTitle": false,
     "title": ""
    }
   },
   "outputs": [
    {
     "output_type": "display_data",
     "data": {
      "text/html": [
       "<style scoped>\n",
       "  .ansiout {\n",
       "    display: block;\n",
       "    unicode-bidi: embed;\n",
       "    white-space: pre-wrap;\n",
       "    word-wrap: break-word;\n",
       "    word-break: break-all;\n",
       "    font-family: \"Menlo\", \"Monaco\", \"Consolas\", \"Ubuntu Mono\", \"Source Code Pro\", monospace;\n",
       "    font-size: 13px;\n",
       "    color: #555;\n",
       "    margin-left: 4px;\n",
       "    line-height: 19px;\n",
       "  }\n",
       "</style>\n",
       "<div class=\"ansiout\">Out[89]: (907246, 5)</div>"
      ]
     },
     "metadata": {
      "application/vnd.databricks.v1+output": {
       "addedWidgets": {},
       "arguments": {},
       "data": "<div class=\"ansiout\">Out[89]: (907246, 5)</div>",
       "datasetInfos": [],
       "metadata": {},
       "removedWidgets": [],
       "type": "html"
      }
     },
     "output_type": "display_data"
    }
   ],
   "source": [
    "# Pandas\n",
    "user_actions_pd_df = user_actions_pd_df.drop_duplicates(subset=[\"online_store\", \"action_type\", \"action_dt\"], keep=\"last\")\n",
    "user_actions_pd_df.shape"
   ]
  },
  {
   "cell_type": "code",
   "execution_count": 0,
   "metadata": {
    "application/vnd.databricks.v1+cell": {
     "cellMetadata": {
      "byteLimit": 2048000,
      "rowLimit": 10000
     },
     "inputWidgets": {},
     "nuid": "5c775b4c-5cec-4b86-ba6a-af48ac93a53a",
     "showTitle": false,
     "title": ""
    }
   },
   "outputs": [
    {
     "output_type": "display_data",
     "data": {
      "text/html": [
       "<style scoped>\n",
       "  .ansiout {\n",
       "    display: block;\n",
       "    unicode-bidi: embed;\n",
       "    white-space: pre-wrap;\n",
       "    word-wrap: break-word;\n",
       "    word-break: break-all;\n",
       "    font-family: \"Menlo\", \"Monaco\", \"Consolas\", \"Ubuntu Mono\", \"Source Code Pro\", monospace;\n",
       "    font-size: 13px;\n",
       "    color: #555;\n",
       "    margin-left: 4px;\n",
       "    line-height: 19px;\n",
       "  }\n",
       "</style>\n",
       "<div class=\"ansiout\">Out[90]: (907246, 5)</div>"
      ]
     },
     "metadata": {
      "application/vnd.databricks.v1+output": {
       "addedWidgets": {},
       "arguments": {},
       "data": "<div class=\"ansiout\">Out[90]: (907246, 5)</div>",
       "datasetInfos": [],
       "metadata": {},
       "removedWidgets": [],
       "type": "html"
      }
     },
     "output_type": "display_data"
    }
   ],
   "source": [
    "# Polars\n",
    "user_actions_pl_df = user_actions_pl_df.unique(subset=[\"online_store\", \"action_type\", \"action_dt\"], keep=\"last\")\n",
    "user_actions_pl_df.shape"
   ]
  },
  {
   "cell_type": "markdown",
   "metadata": {
    "application/vnd.databricks.v1+cell": {
     "cellMetadata": {
      "byteLimit": 2048000,
      "rowLimit": 10000
     },
     "inputWidgets": {},
     "nuid": "d75fc485-d699-4c61-8d8b-653dec34728a",
     "showTitle": false,
     "title": ""
    }
   },
   "source": [
    "#### Selecting Columns"
   ]
  },
  {
   "cell_type": "code",
   "execution_count": 0,
   "metadata": {
    "application/vnd.databricks.v1+cell": {
     "cellMetadata": {
      "byteLimit": 2048000,
      "rowLimit": 10000
     },
     "inputWidgets": {},
     "nuid": "1724b5be-f7f7-42d0-b9e5-7eafcc0d8faf",
     "showTitle": false,
     "title": ""
    }
   },
   "outputs": [
    {
     "output_type": "display_data",
     "data": {
      "text/html": [
       "<style scoped>\n",
       "  .ansiout {\n",
       "    display: block;\n",
       "    unicode-bidi: embed;\n",
       "    white-space: pre-wrap;\n",
       "    word-wrap: break-word;\n",
       "    word-break: break-all;\n",
       "    font-family: \"Menlo\", \"Monaco\", \"Consolas\", \"Ubuntu Mono\", \"Source Code Pro\", monospace;\n",
       "    font-size: 13px;\n",
       "    color: #555;\n",
       "    margin-left: 4px;\n",
       "    line-height: 19px;\n",
       "  }\n",
       "</style>\n",
       "<div class=\"ansiout\">Out[91]: </div>"
      ]
     },
     "metadata": {
      "application/vnd.databricks.v1+output": {
       "addedWidgets": {},
       "arguments": {},
       "data": "<div class=\"ansiout\">Out[91]: </div>",
       "datasetInfos": [],
       "metadata": {},
       "removedWidgets": [],
       "type": "html"
      }
     },
     "output_type": "display_data"
    },
    {
     "output_type": "display_data",
     "data": {
      "text/html": [
       "<div>\n",
       "<style scoped>\n",
       "    .dataframe tbody tr th:only-of-type {\n",
       "        vertical-align: middle;\n",
       "    }\n",
       "\n",
       "    .dataframe tbody tr th {\n",
       "        vertical-align: top;\n",
       "    }\n",
       "\n",
       "    .dataframe thead th {\n",
       "        text-align: right;\n",
       "    }\n",
       "</style>\n",
       "<table border=\"1\" class=\"dataframe\">\n",
       "  <thead>\n",
       "    <tr style=\"text-align: right;\">\n",
       "      <th></th>\n",
       "      <th>quantity</th>\n",
       "      <th>product_id</th>\n",
       "    </tr>\n",
       "  </thead>\n",
       "  <tbody>\n",
       "    <tr>\n",
       "      <th>0</th>\n",
       "      <td>1</td>\n",
       "      <td>0001</td>\n",
       "    </tr>\n",
       "    <tr>\n",
       "      <th>1</th>\n",
       "      <td>3</td>\n",
       "      <td>0001</td>\n",
       "    </tr>\n",
       "    <tr>\n",
       "      <th>2</th>\n",
       "      <td>3</td>\n",
       "      <td>0001</td>\n",
       "    </tr>\n",
       "    <tr>\n",
       "      <th>3</th>\n",
       "      <td>3</td>\n",
       "      <td>0003</td>\n",
       "    </tr>\n",
       "    <tr>\n",
       "      <th>4</th>\n",
       "      <td>3</td>\n",
       "      <td>0001</td>\n",
       "    </tr>\n",
       "    <tr>\n",
       "      <th>...</th>\n",
       "      <td>...</td>\n",
       "      <td>...</td>\n",
       "    </tr>\n",
       "    <tr>\n",
       "      <th>991</th>\n",
       "      <td>1</td>\n",
       "      <td>0001</td>\n",
       "    </tr>\n",
       "    <tr>\n",
       "      <th>994</th>\n",
       "      <td>1</td>\n",
       "      <td>0001</td>\n",
       "    </tr>\n",
       "    <tr>\n",
       "      <th>995</th>\n",
       "      <td>0</td>\n",
       "      <td>0001</td>\n",
       "    </tr>\n",
       "    <tr>\n",
       "      <th>998</th>\n",
       "      <td>1</td>\n",
       "      <td>0001</td>\n",
       "    </tr>\n",
       "    <tr>\n",
       "      <th>999</th>\n",
       "      <td>1</td>\n",
       "      <td>0001</td>\n",
       "    </tr>\n",
       "  </tbody>\n",
       "</table>\n",
       "<p>907246 rows × 2 columns</p>\n",
       "</div>"
      ]
     },
     "metadata": {
      "application/vnd.databricks.v1+output": {
       "addedWidgets": {},
       "arguments": {},
       "data": "<div>\n<style scoped>\n    .dataframe tbody tr th:only-of-type {\n        vertical-align: middle;\n    }\n\n    .dataframe tbody tr th {\n        vertical-align: top;\n    }\n\n    .dataframe thead th {\n        text-align: right;\n    }\n</style>\n<table border=\"1\" class=\"dataframe\">\n  <thead>\n    <tr style=\"text-align: right;\">\n      <th></th>\n      <th>quantity</th>\n      <th>product_id</th>\n    </tr>\n  </thead>\n  <tbody>\n    <tr>\n      <th>0</th>\n      <td>1</td>\n      <td>0001</td>\n    </tr>\n    <tr>\n      <th>1</th>\n      <td>3</td>\n      <td>0001</td>\n    </tr>\n    <tr>\n      <th>2</th>\n      <td>3</td>\n      <td>0001</td>\n    </tr>\n    <tr>\n      <th>3</th>\n      <td>3</td>\n      <td>0003</td>\n    </tr>\n    <tr>\n      <th>4</th>\n      <td>3</td>\n      <td>0001</td>\n    </tr>\n    <tr>\n      <th>...</th>\n      <td>...</td>\n      <td>...</td>\n    </tr>\n    <tr>\n      <th>991</th>\n      <td>1</td>\n      <td>0001</td>\n    </tr>\n    <tr>\n      <th>994</th>\n      <td>1</td>\n      <td>0001</td>\n    </tr>\n    <tr>\n      <th>995</th>\n      <td>0</td>\n      <td>0001</td>\n    </tr>\n    <tr>\n      <th>998</th>\n      <td>1</td>\n      <td>0001</td>\n    </tr>\n    <tr>\n      <th>999</th>\n      <td>1</td>\n      <td>0001</td>\n    </tr>\n  </tbody>\n</table>\n<p>907246 rows × 2 columns</p>\n</div>",
       "datasetInfos": [],
       "metadata": {},
       "removedWidgets": [],
       "textData": null,
       "type": "htmlSandbox"
      }
     },
     "output_type": "display_data"
    }
   ],
   "source": [
    "# Pandas\n",
    "user_actions_pd_df.quantity # Returns a Series\n",
    "user_actions_pd_df['quantity'] # Returns a Series\n",
    "user_actions_pd_df[['quantity']] # Returns a DataFrame\n",
    "user_actions_pd_df[['quantity', 'product_id']]"
   ]
  },
  {
   "cell_type": "code",
   "execution_count": 0,
   "metadata": {
    "application/vnd.databricks.v1+cell": {
     "cellMetadata": {
      "byteLimit": 2048000,
      "rowLimit": 10000
     },
     "inputWidgets": {},
     "nuid": "7cc18de3-d0de-44b1-8a08-6d6299c1f925",
     "showTitle": false,
     "title": ""
    }
   },
   "outputs": [
    {
     "output_type": "display_data",
     "data": {
      "text/html": [
       "<style scoped>\n",
       "  .ansiout {\n",
       "    display: block;\n",
       "    unicode-bidi: embed;\n",
       "    white-space: pre-wrap;\n",
       "    word-wrap: break-word;\n",
       "    word-break: break-all;\n",
       "    font-family: \"Menlo\", \"Monaco\", \"Consolas\", \"Ubuntu Mono\", \"Source Code Pro\", monospace;\n",
       "    font-size: 13px;\n",
       "    color: #555;\n",
       "    margin-left: 4px;\n",
       "    line-height: 19px;\n",
       "  }\n",
       "</style>\n",
       "<div class=\"ansiout\">Out[92]: </div>"
      ]
     },
     "metadata": {
      "application/vnd.databricks.v1+output": {
       "addedWidgets": {},
       "arguments": {},
       "data": "<div class=\"ansiout\">Out[92]: </div>",
       "datasetInfos": [],
       "metadata": {},
       "removedWidgets": [],
       "type": "html"
      }
     },
     "output_type": "display_data"
    },
    {
     "output_type": "display_data",
     "data": {
      "text/html": [
       "<div><style>\n",
       ".dataframe > thead > tr,\n",
       ".dataframe > tbody > tr {\n",
       "  text-align: right;\n",
       "  white-space: pre-wrap;\n",
       "}\n",
       "</style>\n",
       "<small>shape: (907_246, 2)</small><table border=\"1\" class=\"dataframe\"><thead><tr><th>quantity</th><th>product_id</th></tr><tr><td>i32</td><td>str</td></tr></thead><tbody><tr><td>3</td><td>&quot;0002&quot;</td></tr><tr><td>2</td><td>&quot;0003&quot;</td></tr><tr><td>2</td><td>&quot;0002&quot;</td></tr><tr><td>3</td><td>&quot;0003&quot;</td></tr><tr><td>3</td><td>&quot;0002&quot;</td></tr><tr><td>&hellip;</td><td>&hellip;</td></tr><tr><td>1</td><td>&quot;0002&quot;</td></tr><tr><td>3</td><td>&quot;0001&quot;</td></tr><tr><td>1</td><td>&quot;0003&quot;</td></tr><tr><td>2</td><td>&quot;0001&quot;</td></tr><tr><td>3</td><td>&quot;0002&quot;</td></tr></tbody></table></div>"
      ]
     },
     "metadata": {
      "application/vnd.databricks.v1+output": {
       "addedWidgets": {},
       "arguments": {},
       "data": "<div><style>\n.dataframe > thead > tr,\n.dataframe > tbody > tr {\n  text-align: right;\n  white-space: pre-wrap;\n}\n</style>\n<small>shape: (907_246, 2)</small><table border=\"1\" class=\"dataframe\"><thead><tr><th>quantity</th><th>product_id</th></tr><tr><td>i32</td><td>str</td></tr></thead><tbody><tr><td>3</td><td>&quot;0002&quot;</td></tr><tr><td>2</td><td>&quot;0003&quot;</td></tr><tr><td>2</td><td>&quot;0002&quot;</td></tr><tr><td>3</td><td>&quot;0003&quot;</td></tr><tr><td>3</td><td>&quot;0002&quot;</td></tr><tr><td>&hellip;</td><td>&hellip;</td></tr><tr><td>1</td><td>&quot;0002&quot;</td></tr><tr><td>3</td><td>&quot;0001&quot;</td></tr><tr><td>1</td><td>&quot;0003&quot;</td></tr><tr><td>2</td><td>&quot;0001&quot;</td></tr><tr><td>3</td><td>&quot;0002&quot;</td></tr></tbody></table></div>",
       "datasetInfos": [],
       "metadata": {},
       "removedWidgets": [],
       "textData": null,
       "type": "htmlSandbox"
      }
     },
     "output_type": "display_data"
    }
   ],
   "source": [
    "# Polars\n",
    "# user_actions_pl_df.quantity >> Throws an error, dataframes dont store columns as attributes, as in pandas.\n",
    "user_actions_pl_df.select('quantity') # Returns DataFrame\n",
    "user_actions_pl_df.select(pl.col('quantity')) # Returns a dtaframs, same as above\n",
    "user_actions_pl_df.select('quantity', 'product_id') "
   ]
  },
  {
   "cell_type": "markdown",
   "metadata": {
    "application/vnd.databricks.v1+cell": {
     "cellMetadata": {
      "byteLimit": 2048000,
      "rowLimit": 10000
     },
     "inputWidgets": {},
     "nuid": "5f1dafd9-78b2-4a7b-ab20-f5bc7ef89ecb",
     "showTitle": false,
     "title": ""
    }
   },
   "source": [
    "#### Filter Rows"
   ]
  },
  {
   "cell_type": "code",
   "execution_count": 0,
   "metadata": {
    "application/vnd.databricks.v1+cell": {
     "cellMetadata": {
      "byteLimit": 2048000,
      "rowLimit": 10000
     },
     "inputWidgets": {},
     "nuid": "a8a78f94-f75f-478a-ac49-91d011a61f15",
     "showTitle": false,
     "title": ""
    }
   },
   "outputs": [
    {
     "output_type": "display_data",
     "data": {
      "text/html": [
       "<style scoped>\n",
       "  .ansiout {\n",
       "    display: block;\n",
       "    unicode-bidi: embed;\n",
       "    white-space: pre-wrap;\n",
       "    word-wrap: break-word;\n",
       "    word-break: break-all;\n",
       "    font-family: \"Menlo\", \"Monaco\", \"Consolas\", \"Ubuntu Mono\", \"Source Code Pro\", monospace;\n",
       "    font-size: 13px;\n",
       "    color: #555;\n",
       "    margin-left: 4px;\n",
       "    line-height: 19px;\n",
       "  }\n",
       "</style>\n",
       "<div class=\"ansiout\">Out[93]: </div>"
      ]
     },
     "metadata": {
      "application/vnd.databricks.v1+output": {
       "addedWidgets": {},
       "arguments": {},
       "data": "<div class=\"ansiout\">Out[93]: </div>",
       "datasetInfos": [],
       "metadata": {},
       "removedWidgets": [],
       "type": "html"
      }
     },
     "output_type": "display_data"
    },
    {
     "output_type": "display_data",
     "data": {
      "text/html": [
       "<div>\n",
       "<style scoped>\n",
       "    .dataframe tbody tr th:only-of-type {\n",
       "        vertical-align: middle;\n",
       "    }\n",
       "\n",
       "    .dataframe tbody tr th {\n",
       "        vertical-align: top;\n",
       "    }\n",
       "\n",
       "    .dataframe thead th {\n",
       "        text-align: right;\n",
       "    }\n",
       "</style>\n",
       "<table border=\"1\" class=\"dataframe\">\n",
       "  <thead>\n",
       "    <tr style=\"text-align: right;\">\n",
       "      <th></th>\n",
       "      <th>online_store</th>\n",
       "      <th>product_id</th>\n",
       "      <th>quantity</th>\n",
       "      <th>action_type</th>\n",
       "      <th>action_dt</th>\n",
       "    </tr>\n",
       "  </thead>\n",
       "  <tbody>\n",
       "    <tr>\n",
       "      <th>3</th>\n",
       "      <td>Shop1</td>\n",
       "      <td>0003</td>\n",
       "      <td>3</td>\n",
       "      <td>view</td>\n",
       "      <td>2024-08-11 16:16:00</td>\n",
       "    </tr>\n",
       "    <tr>\n",
       "      <th>6</th>\n",
       "      <td>Shop1</td>\n",
       "      <td>0001</td>\n",
       "      <td>3</td>\n",
       "      <td>view</td>\n",
       "      <td>2024-03-27 05:08:00</td>\n",
       "    </tr>\n",
       "    <tr>\n",
       "      <th>8</th>\n",
       "      <td>Shop1</td>\n",
       "      <td>0002</td>\n",
       "      <td>2</td>\n",
       "      <td>view</td>\n",
       "      <td>2023-03-18 15:01:00</td>\n",
       "    </tr>\n",
       "    <tr>\n",
       "      <th>12</th>\n",
       "      <td>Shop1</td>\n",
       "      <td>0001</td>\n",
       "      <td>3</td>\n",
       "      <td>view</td>\n",
       "      <td>2024-07-03 21:33:00</td>\n",
       "    </tr>\n",
       "    <tr>\n",
       "      <th>25</th>\n",
       "      <td>Shop1</td>\n",
       "      <td>0003</td>\n",
       "      <td>2</td>\n",
       "      <td>view</td>\n",
       "      <td>2024-06-25 19:15:00</td>\n",
       "    </tr>\n",
       "    <tr>\n",
       "      <th>...</th>\n",
       "      <td>...</td>\n",
       "      <td>...</td>\n",
       "      <td>...</td>\n",
       "      <td>...</td>\n",
       "      <td>...</td>\n",
       "    </tr>\n",
       "    <tr>\n",
       "      <th>956</th>\n",
       "      <td>Shop1</td>\n",
       "      <td>0001</td>\n",
       "      <td>0</td>\n",
       "      <td>view</td>\n",
       "      <td>2024-08-30 09:21:00</td>\n",
       "    </tr>\n",
       "    <tr>\n",
       "      <th>961</th>\n",
       "      <td>Shop1</td>\n",
       "      <td>0001</td>\n",
       "      <td>0</td>\n",
       "      <td>view</td>\n",
       "      <td>2024-08-30 12:29:00</td>\n",
       "    </tr>\n",
       "    <tr>\n",
       "      <th>969</th>\n",
       "      <td>Shop1</td>\n",
       "      <td>0001</td>\n",
       "      <td>0</td>\n",
       "      <td>view</td>\n",
       "      <td>2024-08-30 23:25:00</td>\n",
       "    </tr>\n",
       "    <tr>\n",
       "      <th>994</th>\n",
       "      <td>Shop1</td>\n",
       "      <td>0001</td>\n",
       "      <td>1</td>\n",
       "      <td>view</td>\n",
       "      <td>2024-08-30 12:36:00</td>\n",
       "    </tr>\n",
       "    <tr>\n",
       "      <th>998</th>\n",
       "      <td>Shop1</td>\n",
       "      <td>0001</td>\n",
       "      <td>1</td>\n",
       "      <td>view</td>\n",
       "      <td>2024-08-30 12:50:00</td>\n",
       "    </tr>\n",
       "  </tbody>\n",
       "</table>\n",
       "<p>214882 rows × 5 columns</p>\n",
       "</div>"
      ]
     },
     "metadata": {
      "application/vnd.databricks.v1+output": {
       "addedWidgets": {},
       "arguments": {},
       "data": "<div>\n<style scoped>\n    .dataframe tbody tr th:only-of-type {\n        vertical-align: middle;\n    }\n\n    .dataframe tbody tr th {\n        vertical-align: top;\n    }\n\n    .dataframe thead th {\n        text-align: right;\n    }\n</style>\n<table border=\"1\" class=\"dataframe\">\n  <thead>\n    <tr style=\"text-align: right;\">\n      <th></th>\n      <th>online_store</th>\n      <th>product_id</th>\n      <th>quantity</th>\n      <th>action_type</th>\n      <th>action_dt</th>\n    </tr>\n  </thead>\n  <tbody>\n    <tr>\n      <th>3</th>\n      <td>Shop1</td>\n      <td>0003</td>\n      <td>3</td>\n      <td>view</td>\n      <td>2024-08-11 16:16:00</td>\n    </tr>\n    <tr>\n      <th>6</th>\n      <td>Shop1</td>\n      <td>0001</td>\n      <td>3</td>\n      <td>view</td>\n      <td>2024-03-27 05:08:00</td>\n    </tr>\n    <tr>\n      <th>8</th>\n      <td>Shop1</td>\n      <td>0002</td>\n      <td>2</td>\n      <td>view</td>\n      <td>2023-03-18 15:01:00</td>\n    </tr>\n    <tr>\n      <th>12</th>\n      <td>Shop1</td>\n      <td>0001</td>\n      <td>3</td>\n      <td>view</td>\n      <td>2024-07-03 21:33:00</td>\n    </tr>\n    <tr>\n      <th>25</th>\n      <td>Shop1</td>\n      <td>0003</td>\n      <td>2</td>\n      <td>view</td>\n      <td>2024-06-25 19:15:00</td>\n    </tr>\n    <tr>\n      <th>...</th>\n      <td>...</td>\n      <td>...</td>\n      <td>...</td>\n      <td>...</td>\n      <td>...</td>\n    </tr>\n    <tr>\n      <th>956</th>\n      <td>Shop1</td>\n      <td>0001</td>\n      <td>0</td>\n      <td>view</td>\n      <td>2024-08-30 09:21:00</td>\n    </tr>\n    <tr>\n      <th>961</th>\n      <td>Shop1</td>\n      <td>0001</td>\n      <td>0</td>\n      <td>view</td>\n      <td>2024-08-30 12:29:00</td>\n    </tr>\n    <tr>\n      <th>969</th>\n      <td>Shop1</td>\n      <td>0001</td>\n      <td>0</td>\n      <td>view</td>\n      <td>2024-08-30 23:25:00</td>\n    </tr>\n    <tr>\n      <th>994</th>\n      <td>Shop1</td>\n      <td>0001</td>\n      <td>1</td>\n      <td>view</td>\n      <td>2024-08-30 12:36:00</td>\n    </tr>\n    <tr>\n      <th>998</th>\n      <td>Shop1</td>\n      <td>0001</td>\n      <td>1</td>\n      <td>view</td>\n      <td>2024-08-30 12:50:00</td>\n    </tr>\n  </tbody>\n</table>\n<p>214882 rows × 5 columns</p>\n</div>",
       "datasetInfos": [],
       "metadata": {},
       "removedWidgets": [],
       "textData": null,
       "type": "htmlSandbox"
      }
     },
     "output_type": "display_data"
    }
   ],
   "source": [
    "user_actions_pd_df.loc[(user_actions_pd_df.online_store == 'Shop1') & (user_actions_pd_df.action_type == 'view')]"
   ]
  },
  {
   "cell_type": "code",
   "execution_count": 0,
   "metadata": {
    "application/vnd.databricks.v1+cell": {
     "cellMetadata": {
      "byteLimit": 2048000,
      "rowLimit": 10000
     },
     "inputWidgets": {},
     "nuid": "81d38269-1e35-4c6e-98b3-b53251ba85a3",
     "showTitle": false,
     "title": ""
    }
   },
   "outputs": [
    {
     "output_type": "display_data",
     "data": {
      "text/html": [
       "<style scoped>\n",
       "  .ansiout {\n",
       "    display: block;\n",
       "    unicode-bidi: embed;\n",
       "    white-space: pre-wrap;\n",
       "    word-wrap: break-word;\n",
       "    word-break: break-all;\n",
       "    font-family: \"Menlo\", \"Monaco\", \"Consolas\", \"Ubuntu Mono\", \"Source Code Pro\", monospace;\n",
       "    font-size: 13px;\n",
       "    color: #555;\n",
       "    margin-left: 4px;\n",
       "    line-height: 19px;\n",
       "  }\n",
       "</style>\n",
       "<div class=\"ansiout\">Out[94]: </div>"
      ]
     },
     "metadata": {
      "application/vnd.databricks.v1+output": {
       "addedWidgets": {},
       "arguments": {},
       "data": "<div class=\"ansiout\">Out[94]: </div>",
       "datasetInfos": [],
       "metadata": {},
       "removedWidgets": [],
       "type": "html"
      }
     },
     "output_type": "display_data"
    },
    {
     "output_type": "display_data",
     "data": {
      "text/html": [
       "<div><style>\n",
       ".dataframe > thead > tr,\n",
       ".dataframe > tbody > tr {\n",
       "  text-align: right;\n",
       "  white-space: pre-wrap;\n",
       "}\n",
       "</style>\n",
       "<small>shape: (214_882, 5)</small><table border=\"1\" class=\"dataframe\"><thead><tr><th>online_store</th><th>product_id</th><th>quantity</th><th>action_type</th><th>action_dt</th></tr><tr><td>str</td><td>str</td><td>i32</td><td>str</td><td>datetime[μs]</td></tr></thead><tbody><tr><td>&quot;Shop1&quot;</td><td>&quot;0002&quot;</td><td>3</td><td>&quot;view&quot;</td><td>2023-12-11 03:48:00</td></tr><tr><td>&quot;Shop1&quot;</td><td>&quot;0001&quot;</td><td>2</td><td>&quot;view&quot;</td><td>2024-04-29 20:15:00</td></tr><tr><td>&quot;Shop1&quot;</td><td>&quot;0002&quot;</td><td>1</td><td>&quot;view&quot;</td><td>2024-03-10 08:14:00</td></tr><tr><td>&quot;Shop1&quot;</td><td>&quot;0001&quot;</td><td>2</td><td>&quot;view&quot;</td><td>2022-12-26 06:16:00</td></tr><tr><td>&quot;Shop1&quot;</td><td>&quot;0002&quot;</td><td>2</td><td>&quot;view&quot;</td><td>2023-08-18 07:29:00</td></tr><tr><td>&hellip;</td><td>&hellip;</td><td>&hellip;</td><td>&hellip;</td><td>&hellip;</td></tr><tr><td>&quot;Shop1&quot;</td><td>&quot;0002&quot;</td><td>3</td><td>&quot;view&quot;</td><td>2024-08-27 19:09:00</td></tr><tr><td>&quot;Shop1&quot;</td><td>&quot;0003&quot;</td><td>2</td><td>&quot;view&quot;</td><td>2022-12-04 13:36:00</td></tr><tr><td>&quot;Shop1&quot;</td><td>&quot;0001&quot;</td><td>3</td><td>&quot;view&quot;</td><td>2023-03-20 20:34:00</td></tr><tr><td>&quot;Shop1&quot;</td><td>&quot;0003&quot;</td><td>1</td><td>&quot;view&quot;</td><td>2024-07-22 06:57:00</td></tr><tr><td>&quot;Shop1&quot;</td><td>&quot;0002&quot;</td><td>1</td><td>&quot;view&quot;</td><td>2023-10-29 18:22:00</td></tr></tbody></table></div>"
      ]
     },
     "metadata": {
      "application/vnd.databricks.v1+output": {
       "addedWidgets": {},
       "arguments": {},
       "data": "<div><style>\n.dataframe > thead > tr,\n.dataframe > tbody > tr {\n  text-align: right;\n  white-space: pre-wrap;\n}\n</style>\n<small>shape: (214_882, 5)</small><table border=\"1\" class=\"dataframe\"><thead><tr><th>online_store</th><th>product_id</th><th>quantity</th><th>action_type</th><th>action_dt</th></tr><tr><td>str</td><td>str</td><td>i32</td><td>str</td><td>datetime[μs]</td></tr></thead><tbody><tr><td>&quot;Shop1&quot;</td><td>&quot;0002&quot;</td><td>3</td><td>&quot;view&quot;</td><td>2023-12-11 03:48:00</td></tr><tr><td>&quot;Shop1&quot;</td><td>&quot;0001&quot;</td><td>2</td><td>&quot;view&quot;</td><td>2024-04-29 20:15:00</td></tr><tr><td>&quot;Shop1&quot;</td><td>&quot;0002&quot;</td><td>1</td><td>&quot;view&quot;</td><td>2024-03-10 08:14:00</td></tr><tr><td>&quot;Shop1&quot;</td><td>&quot;0001&quot;</td><td>2</td><td>&quot;view&quot;</td><td>2022-12-26 06:16:00</td></tr><tr><td>&quot;Shop1&quot;</td><td>&quot;0002&quot;</td><td>2</td><td>&quot;view&quot;</td><td>2023-08-18 07:29:00</td></tr><tr><td>&hellip;</td><td>&hellip;</td><td>&hellip;</td><td>&hellip;</td><td>&hellip;</td></tr><tr><td>&quot;Shop1&quot;</td><td>&quot;0002&quot;</td><td>3</td><td>&quot;view&quot;</td><td>2024-08-27 19:09:00</td></tr><tr><td>&quot;Shop1&quot;</td><td>&quot;0003&quot;</td><td>2</td><td>&quot;view&quot;</td><td>2022-12-04 13:36:00</td></tr><tr><td>&quot;Shop1&quot;</td><td>&quot;0001&quot;</td><td>3</td><td>&quot;view&quot;</td><td>2023-03-20 20:34:00</td></tr><tr><td>&quot;Shop1&quot;</td><td>&quot;0003&quot;</td><td>1</td><td>&quot;view&quot;</td><td>2024-07-22 06:57:00</td></tr><tr><td>&quot;Shop1&quot;</td><td>&quot;0002&quot;</td><td>1</td><td>&quot;view&quot;</td><td>2023-10-29 18:22:00</td></tr></tbody></table></div>",
       "datasetInfos": [],
       "metadata": {},
       "removedWidgets": [],
       "textData": null,
       "type": "htmlSandbox"
      }
     },
     "output_type": "display_data"
    }
   ],
   "source": [
    "user_actions_pl_df.filter((pl.col('online_store')=='Shop1') & (pl.col('action_type')=='view'))"
   ]
  },
  {
   "cell_type": "markdown",
   "metadata": {
    "application/vnd.databricks.v1+cell": {
     "cellMetadata": {
      "byteLimit": 2048000,
      "rowLimit": 10000
     },
     "inputWidgets": {},
     "nuid": "449385ad-968e-4043-afdc-339a2399eb79",
     "showTitle": false,
     "title": ""
    }
   },
   "source": [
    "#### Group By"
   ]
  },
  {
   "cell_type": "code",
   "execution_count": 0,
   "metadata": {
    "application/vnd.databricks.v1+cell": {
     "cellMetadata": {
      "byteLimit": 2048000,
      "rowLimit": 10000
     },
     "inputWidgets": {},
     "nuid": "64097a52-2ab5-42be-a806-d08db67958d4",
     "showTitle": false,
     "title": ""
    }
   },
   "outputs": [
    {
     "output_type": "display_data",
     "data": {
      "text/html": [
       "<style scoped>\n",
       "  .ansiout {\n",
       "    display: block;\n",
       "    unicode-bidi: embed;\n",
       "    white-space: pre-wrap;\n",
       "    word-wrap: break-word;\n",
       "    word-break: break-all;\n",
       "    font-family: \"Menlo\", \"Monaco\", \"Consolas\", \"Ubuntu Mono\", \"Source Code Pro\", monospace;\n",
       "    font-size: 13px;\n",
       "    color: #555;\n",
       "    margin-left: 4px;\n",
       "    line-height: 19px;\n",
       "  }\n",
       "</style>\n",
       "<div class=\"ansiout\">Out[95]: </div>"
      ]
     },
     "metadata": {
      "application/vnd.databricks.v1+output": {
       "addedWidgets": {},
       "arguments": {},
       "data": "<div class=\"ansiout\">Out[95]: </div>",
       "datasetInfos": [],
       "metadata": {},
       "removedWidgets": [],
       "type": "html"
      }
     },
     "output_type": "display_data"
    },
    {
     "output_type": "display_data",
     "data": {
      "text/html": [
       "<div>\n",
       "<style scoped>\n",
       "    .dataframe tbody tr th:only-of-type {\n",
       "        vertical-align: middle;\n",
       "    }\n",
       "\n",
       "    .dataframe tbody tr th {\n",
       "        vertical-align: top;\n",
       "    }\n",
       "\n",
       "    .dataframe thead th {\n",
       "        text-align: right;\n",
       "    }\n",
       "</style>\n",
       "<table border=\"1\" class=\"dataframe\">\n",
       "  <thead>\n",
       "    <tr style=\"text-align: right;\">\n",
       "      <th></th>\n",
       "      <th>online_store</th>\n",
       "      <th>product_id</th>\n",
       "      <th>action_type</th>\n",
       "      <th>quantity</th>\n",
       "    </tr>\n",
       "  </thead>\n",
       "  <tbody>\n",
       "    <tr>\n",
       "      <th>0</th>\n",
       "      <td>Shop1</td>\n",
       "      <td>0001</td>\n",
       "      <td>purchase</td>\n",
       "      <td>57772</td>\n",
       "    </tr>\n",
       "    <tr>\n",
       "      <th>1</th>\n",
       "      <td>Shop1</td>\n",
       "      <td>0001</td>\n",
       "      <td>view</td>\n",
       "      <td>143477</td>\n",
       "    </tr>\n",
       "    <tr>\n",
       "      <th>2</th>\n",
       "      <td>Shop1</td>\n",
       "      <td>0002</td>\n",
       "      <td>purchase</td>\n",
       "      <td>58015</td>\n",
       "    </tr>\n",
       "    <tr>\n",
       "      <th>3</th>\n",
       "      <td>Shop1</td>\n",
       "      <td>0002</td>\n",
       "      <td>view</td>\n",
       "      <td>142174</td>\n",
       "    </tr>\n",
       "    <tr>\n",
       "      <th>4</th>\n",
       "      <td>Shop1</td>\n",
       "      <td>0003</td>\n",
       "      <td>purchase</td>\n",
       "      <td>58242</td>\n",
       "    </tr>\n",
       "    <tr>\n",
       "      <th>5</th>\n",
       "      <td>Shop1</td>\n",
       "      <td>0003</td>\n",
       "      <td>view</td>\n",
       "      <td>143211</td>\n",
       "    </tr>\n",
       "    <tr>\n",
       "      <th>6</th>\n",
       "      <td>Shop2</td>\n",
       "      <td>0001</td>\n",
       "      <td>purchase</td>\n",
       "      <td>58256</td>\n",
       "    </tr>\n",
       "    <tr>\n",
       "      <th>7</th>\n",
       "      <td>Shop2</td>\n",
       "      <td>0001</td>\n",
       "      <td>view</td>\n",
       "      <td>143560</td>\n",
       "    </tr>\n",
       "    <tr>\n",
       "      <th>8</th>\n",
       "      <td>Shop2</td>\n",
       "      <td>0002</td>\n",
       "      <td>purchase</td>\n",
       "      <td>58648</td>\n",
       "    </tr>\n",
       "    <tr>\n",
       "      <th>9</th>\n",
       "      <td>Shop2</td>\n",
       "      <td>0002</td>\n",
       "      <td>view</td>\n",
       "      <td>143740</td>\n",
       "    </tr>\n",
       "    <tr>\n",
       "      <th>10</th>\n",
       "      <td>Shop2</td>\n",
       "      <td>0003</td>\n",
       "      <td>purchase</td>\n",
       "      <td>58458</td>\n",
       "    </tr>\n",
       "    <tr>\n",
       "      <th>11</th>\n",
       "      <td>Shop2</td>\n",
       "      <td>0003</td>\n",
       "      <td>view</td>\n",
       "      <td>142230</td>\n",
       "    </tr>\n",
       "    <tr>\n",
       "      <th>12</th>\n",
       "      <td>Shop3</td>\n",
       "      <td>0001</td>\n",
       "      <td>purchase</td>\n",
       "      <td>57891</td>\n",
       "    </tr>\n",
       "    <tr>\n",
       "      <th>13</th>\n",
       "      <td>Shop3</td>\n",
       "      <td>0001</td>\n",
       "      <td>view</td>\n",
       "      <td>143685</td>\n",
       "    </tr>\n",
       "    <tr>\n",
       "      <th>14</th>\n",
       "      <td>Shop3</td>\n",
       "      <td>0002</td>\n",
       "      <td>purchase</td>\n",
       "      <td>58326</td>\n",
       "    </tr>\n",
       "    <tr>\n",
       "      <th>15</th>\n",
       "      <td>Shop3</td>\n",
       "      <td>0002</td>\n",
       "      <td>view</td>\n",
       "      <td>142657</td>\n",
       "    </tr>\n",
       "    <tr>\n",
       "      <th>16</th>\n",
       "      <td>Shop3</td>\n",
       "      <td>0003</td>\n",
       "      <td>purchase</td>\n",
       "      <td>59107</td>\n",
       "    </tr>\n",
       "    <tr>\n",
       "      <th>17</th>\n",
       "      <td>Shop3</td>\n",
       "      <td>0003</td>\n",
       "      <td>view</td>\n",
       "      <td>143642</td>\n",
       "    </tr>\n",
       "  </tbody>\n",
       "</table>\n",
       "</div>"
      ]
     },
     "metadata": {
      "application/vnd.databricks.v1+output": {
       "addedWidgets": {},
       "arguments": {},
       "data": "<div>\n<style scoped>\n    .dataframe tbody tr th:only-of-type {\n        vertical-align: middle;\n    }\n\n    .dataframe tbody tr th {\n        vertical-align: top;\n    }\n\n    .dataframe thead th {\n        text-align: right;\n    }\n</style>\n<table border=\"1\" class=\"dataframe\">\n  <thead>\n    <tr style=\"text-align: right;\">\n      <th></th>\n      <th>online_store</th>\n      <th>product_id</th>\n      <th>action_type</th>\n      <th>quantity</th>\n    </tr>\n  </thead>\n  <tbody>\n    <tr>\n      <th>0</th>\n      <td>Shop1</td>\n      <td>0001</td>\n      <td>purchase</td>\n      <td>57772</td>\n    </tr>\n    <tr>\n      <th>1</th>\n      <td>Shop1</td>\n      <td>0001</td>\n      <td>view</td>\n      <td>143477</td>\n    </tr>\n    <tr>\n      <th>2</th>\n      <td>Shop1</td>\n      <td>0002</td>\n      <td>purchase</td>\n      <td>58015</td>\n    </tr>\n    <tr>\n      <th>3</th>\n      <td>Shop1</td>\n      <td>0002</td>\n      <td>view</td>\n      <td>142174</td>\n    </tr>\n    <tr>\n      <th>4</th>\n      <td>Shop1</td>\n      <td>0003</td>\n      <td>purchase</td>\n      <td>58242</td>\n    </tr>\n    <tr>\n      <th>5</th>\n      <td>Shop1</td>\n      <td>0003</td>\n      <td>view</td>\n      <td>143211</td>\n    </tr>\n    <tr>\n      <th>6</th>\n      <td>Shop2</td>\n      <td>0001</td>\n      <td>purchase</td>\n      <td>58256</td>\n    </tr>\n    <tr>\n      <th>7</th>\n      <td>Shop2</td>\n      <td>0001</td>\n      <td>view</td>\n      <td>143560</td>\n    </tr>\n    <tr>\n      <th>8</th>\n      <td>Shop2</td>\n      <td>0002</td>\n      <td>purchase</td>\n      <td>58648</td>\n    </tr>\n    <tr>\n      <th>9</th>\n      <td>Shop2</td>\n      <td>0002</td>\n      <td>view</td>\n      <td>143740</td>\n    </tr>\n    <tr>\n      <th>10</th>\n      <td>Shop2</td>\n      <td>0003</td>\n      <td>purchase</td>\n      <td>58458</td>\n    </tr>\n    <tr>\n      <th>11</th>\n      <td>Shop2</td>\n      <td>0003</td>\n      <td>view</td>\n      <td>142230</td>\n    </tr>\n    <tr>\n      <th>12</th>\n      <td>Shop3</td>\n      <td>0001</td>\n      <td>purchase</td>\n      <td>57891</td>\n    </tr>\n    <tr>\n      <th>13</th>\n      <td>Shop3</td>\n      <td>0001</td>\n      <td>view</td>\n      <td>143685</td>\n    </tr>\n    <tr>\n      <th>14</th>\n      <td>Shop3</td>\n      <td>0002</td>\n      <td>purchase</td>\n      <td>58326</td>\n    </tr>\n    <tr>\n      <th>15</th>\n      <td>Shop3</td>\n      <td>0002</td>\n      <td>view</td>\n      <td>142657</td>\n    </tr>\n    <tr>\n      <th>16</th>\n      <td>Shop3</td>\n      <td>0003</td>\n      <td>purchase</td>\n      <td>59107</td>\n    </tr>\n    <tr>\n      <th>17</th>\n      <td>Shop3</td>\n      <td>0003</td>\n      <td>view</td>\n      <td>143642</td>\n    </tr>\n  </tbody>\n</table>\n</div>",
       "datasetInfos": [],
       "metadata": {},
       "removedWidgets": [],
       "textData": null,
       "type": "htmlSandbox"
      }
     },
     "output_type": "display_data"
    }
   ],
   "source": [
    "# Pandas\n",
    "user_actions_pd_df = user_actions_pd_df.groupby([\"online_store\", \"product_id\", \"action_type\"]).agg({\"quantity\": \"sum\"}).reset_index()\n",
    "user_actions_pd_df"
   ]
  },
  {
   "cell_type": "code",
   "execution_count": 0,
   "metadata": {
    "application/vnd.databricks.v1+cell": {
     "cellMetadata": {
      "byteLimit": 2048000,
      "rowLimit": 10000
     },
     "inputWidgets": {},
     "nuid": "5d290cdd-3a1e-45ef-b189-4d79dc3936db",
     "showTitle": false,
     "title": ""
    }
   },
   "outputs": [
    {
     "output_type": "display_data",
     "data": {
      "text/html": [
       "<style scoped>\n",
       "  .ansiout {\n",
       "    display: block;\n",
       "    unicode-bidi: embed;\n",
       "    white-space: pre-wrap;\n",
       "    word-wrap: break-word;\n",
       "    word-break: break-all;\n",
       "    font-family: \"Menlo\", \"Monaco\", \"Consolas\", \"Ubuntu Mono\", \"Source Code Pro\", monospace;\n",
       "    font-size: 13px;\n",
       "    color: #555;\n",
       "    margin-left: 4px;\n",
       "    line-height: 19px;\n",
       "  }\n",
       "</style>\n",
       "<div class=\"ansiout\">Out[96]: </div>"
      ]
     },
     "metadata": {
      "application/vnd.databricks.v1+output": {
       "addedWidgets": {},
       "arguments": {},
       "data": "<div class=\"ansiout\">Out[96]: </div>",
       "datasetInfos": [],
       "metadata": {},
       "removedWidgets": [],
       "type": "html"
      }
     },
     "output_type": "display_data"
    },
    {
     "output_type": "display_data",
     "data": {
      "text/html": [
       "<div><style>\n",
       ".dataframe > thead > tr,\n",
       ".dataframe > tbody > tr {\n",
       "  text-align: right;\n",
       "  white-space: pre-wrap;\n",
       "}\n",
       "</style>\n",
       "<small>shape: (18, 4)</small><table border=\"1\" class=\"dataframe\"><thead><tr><th>online_store</th><th>product_id</th><th>action_type</th><th>quantity</th></tr><tr><td>str</td><td>str</td><td>str</td><td>i32</td></tr></thead><tbody><tr><td>&quot;Shop2&quot;</td><td>&quot;0002&quot;</td><td>&quot;view&quot;</td><td>143740</td></tr><tr><td>&quot;Shop2&quot;</td><td>&quot;0001&quot;</td><td>&quot;view&quot;</td><td>143560</td></tr><tr><td>&quot;Shop3&quot;</td><td>&quot;0001&quot;</td><td>&quot;purchase&quot;</td><td>57891</td></tr><tr><td>&quot;Shop3&quot;</td><td>&quot;0003&quot;</td><td>&quot;purchase&quot;</td><td>59107</td></tr><tr><td>&quot;Shop2&quot;</td><td>&quot;0002&quot;</td><td>&quot;purchase&quot;</td><td>58648</td></tr><tr><td>&hellip;</td><td>&hellip;</td><td>&hellip;</td><td>&hellip;</td></tr><tr><td>&quot;Shop3&quot;</td><td>&quot;0002&quot;</td><td>&quot;view&quot;</td><td>142657</td></tr><tr><td>&quot;Shop2&quot;</td><td>&quot;0003&quot;</td><td>&quot;view&quot;</td><td>142230</td></tr><tr><td>&quot;Shop1&quot;</td><td>&quot;0002&quot;</td><td>&quot;purchase&quot;</td><td>58015</td></tr><tr><td>&quot;Shop1&quot;</td><td>&quot;0001&quot;</td><td>&quot;purchase&quot;</td><td>57772</td></tr><tr><td>&quot;Shop3&quot;</td><td>&quot;0002&quot;</td><td>&quot;purchase&quot;</td><td>58326</td></tr></tbody></table></div>"
      ]
     },
     "metadata": {
      "application/vnd.databricks.v1+output": {
       "addedWidgets": {},
       "arguments": {},
       "data": "<div><style>\n.dataframe > thead > tr,\n.dataframe > tbody > tr {\n  text-align: right;\n  white-space: pre-wrap;\n}\n</style>\n<small>shape: (18, 4)</small><table border=\"1\" class=\"dataframe\"><thead><tr><th>online_store</th><th>product_id</th><th>action_type</th><th>quantity</th></tr><tr><td>str</td><td>str</td><td>str</td><td>i32</td></tr></thead><tbody><tr><td>&quot;Shop2&quot;</td><td>&quot;0002&quot;</td><td>&quot;view&quot;</td><td>143740</td></tr><tr><td>&quot;Shop2&quot;</td><td>&quot;0001&quot;</td><td>&quot;view&quot;</td><td>143560</td></tr><tr><td>&quot;Shop3&quot;</td><td>&quot;0001&quot;</td><td>&quot;purchase&quot;</td><td>57891</td></tr><tr><td>&quot;Shop3&quot;</td><td>&quot;0003&quot;</td><td>&quot;purchase&quot;</td><td>59107</td></tr><tr><td>&quot;Shop2&quot;</td><td>&quot;0002&quot;</td><td>&quot;purchase&quot;</td><td>58648</td></tr><tr><td>&hellip;</td><td>&hellip;</td><td>&hellip;</td><td>&hellip;</td></tr><tr><td>&quot;Shop3&quot;</td><td>&quot;0002&quot;</td><td>&quot;view&quot;</td><td>142657</td></tr><tr><td>&quot;Shop2&quot;</td><td>&quot;0003&quot;</td><td>&quot;view&quot;</td><td>142230</td></tr><tr><td>&quot;Shop1&quot;</td><td>&quot;0002&quot;</td><td>&quot;purchase&quot;</td><td>58015</td></tr><tr><td>&quot;Shop1&quot;</td><td>&quot;0001&quot;</td><td>&quot;purchase&quot;</td><td>57772</td></tr><tr><td>&quot;Shop3&quot;</td><td>&quot;0002&quot;</td><td>&quot;purchase&quot;</td><td>58326</td></tr></tbody></table></div>",
       "datasetInfos": [],
       "metadata": {},
       "removedWidgets": [],
       "textData": null,
       "type": "htmlSandbox"
      }
     },
     "output_type": "display_data"
    }
   ],
   "source": [
    "# Polars\n",
    "user_actions_pl_df = user_actions_pl_df.group_by([\"online_store\", \"product_id\", \"action_type\"]).agg(pl.col('quantity').sum())\n",
    "user_actions_pl_df"
   ]
  },
  {
   "cell_type": "markdown",
   "metadata": {
    "application/vnd.databricks.v1+cell": {
     "cellMetadata": {
      "byteLimit": 2048000,
      "rowLimit": 10000
     },
     "inputWidgets": {},
     "nuid": "aaf91bd1-4bab-40bf-a246-2b12b7aae375",
     "showTitle": false,
     "title": ""
    }
   },
   "source": [
    "#### Join/Merge"
   ]
  },
  {
   "cell_type": "code",
   "execution_count": 0,
   "metadata": {
    "application/vnd.databricks.v1+cell": {
     "cellMetadata": {
      "byteLimit": 2048000,
      "rowLimit": 10000
     },
     "inputWidgets": {},
     "nuid": "4965f05f-9583-40f1-92f1-a381d433fe9b",
     "showTitle": false,
     "title": ""
    }
   },
   "outputs": [
    {
     "output_type": "display_data",
     "data": {
      "text/html": [
       "<style scoped>\n",
       "  .ansiout {\n",
       "    display: block;\n",
       "    unicode-bidi: embed;\n",
       "    white-space: pre-wrap;\n",
       "    word-wrap: break-word;\n",
       "    word-break: break-all;\n",
       "    font-family: \"Menlo\", \"Monaco\", \"Consolas\", \"Ubuntu Mono\", \"Source Code Pro\", monospace;\n",
       "    font-size: 13px;\n",
       "    color: #555;\n",
       "    margin-left: 4px;\n",
       "    line-height: 19px;\n",
       "  }\n",
       "</style>\n",
       "<div class=\"ansiout\">Out[97]: </div>"
      ]
     },
     "metadata": {
      "application/vnd.databricks.v1+output": {
       "addedWidgets": {},
       "arguments": {},
       "data": "<div class=\"ansiout\">Out[97]: </div>",
       "datasetInfos": [],
       "metadata": {},
       "removedWidgets": [],
       "type": "html"
      }
     },
     "output_type": "display_data"
    },
    {
     "output_type": "display_data",
     "data": {
      "text/html": [
       "<div>\n",
       "<style scoped>\n",
       "    .dataframe tbody tr th:only-of-type {\n",
       "        vertical-align: middle;\n",
       "    }\n",
       "\n",
       "    .dataframe tbody tr th {\n",
       "        vertical-align: top;\n",
       "    }\n",
       "\n",
       "    .dataframe thead th {\n",
       "        text-align: right;\n",
       "    }\n",
       "</style>\n",
       "<table border=\"1\" class=\"dataframe\">\n",
       "  <thead>\n",
       "    <tr style=\"text-align: right;\">\n",
       "      <th></th>\n",
       "      <th>online_store</th>\n",
       "      <th>product_id</th>\n",
       "      <th>action_type</th>\n",
       "      <th>quantity</th>\n",
       "      <th>price</th>\n",
       "    </tr>\n",
       "  </thead>\n",
       "  <tbody>\n",
       "    <tr>\n",
       "      <th>0</th>\n",
       "      <td>Shop1</td>\n",
       "      <td>0001</td>\n",
       "      <td>purchase</td>\n",
       "      <td>57772</td>\n",
       "      <td>100</td>\n",
       "    </tr>\n",
       "    <tr>\n",
       "      <th>1</th>\n",
       "      <td>Shop1</td>\n",
       "      <td>0001</td>\n",
       "      <td>view</td>\n",
       "      <td>143477</td>\n",
       "      <td>100</td>\n",
       "    </tr>\n",
       "    <tr>\n",
       "      <th>2</th>\n",
       "      <td>Shop2</td>\n",
       "      <td>0001</td>\n",
       "      <td>purchase</td>\n",
       "      <td>58256</td>\n",
       "      <td>100</td>\n",
       "    </tr>\n",
       "    <tr>\n",
       "      <th>3</th>\n",
       "      <td>Shop2</td>\n",
       "      <td>0001</td>\n",
       "      <td>view</td>\n",
       "      <td>143560</td>\n",
       "      <td>100</td>\n",
       "    </tr>\n",
       "    <tr>\n",
       "      <th>4</th>\n",
       "      <td>Shop3</td>\n",
       "      <td>0001</td>\n",
       "      <td>purchase</td>\n",
       "      <td>57891</td>\n",
       "      <td>100</td>\n",
       "    </tr>\n",
       "    <tr>\n",
       "      <th>5</th>\n",
       "      <td>Shop3</td>\n",
       "      <td>0001</td>\n",
       "      <td>view</td>\n",
       "      <td>143685</td>\n",
       "      <td>100</td>\n",
       "    </tr>\n",
       "    <tr>\n",
       "      <th>6</th>\n",
       "      <td>Shop1</td>\n",
       "      <td>0002</td>\n",
       "      <td>purchase</td>\n",
       "      <td>58015</td>\n",
       "      <td>25</td>\n",
       "    </tr>\n",
       "    <tr>\n",
       "      <th>7</th>\n",
       "      <td>Shop1</td>\n",
       "      <td>0002</td>\n",
       "      <td>view</td>\n",
       "      <td>142174</td>\n",
       "      <td>25</td>\n",
       "    </tr>\n",
       "    <tr>\n",
       "      <th>8</th>\n",
       "      <td>Shop2</td>\n",
       "      <td>0002</td>\n",
       "      <td>purchase</td>\n",
       "      <td>58648</td>\n",
       "      <td>25</td>\n",
       "    </tr>\n",
       "    <tr>\n",
       "      <th>9</th>\n",
       "      <td>Shop2</td>\n",
       "      <td>0002</td>\n",
       "      <td>view</td>\n",
       "      <td>143740</td>\n",
       "      <td>25</td>\n",
       "    </tr>\n",
       "    <tr>\n",
       "      <th>10</th>\n",
       "      <td>Shop3</td>\n",
       "      <td>0002</td>\n",
       "      <td>purchase</td>\n",
       "      <td>58326</td>\n",
       "      <td>25</td>\n",
       "    </tr>\n",
       "    <tr>\n",
       "      <th>11</th>\n",
       "      <td>Shop3</td>\n",
       "      <td>0002</td>\n",
       "      <td>view</td>\n",
       "      <td>142657</td>\n",
       "      <td>25</td>\n",
       "    </tr>\n",
       "    <tr>\n",
       "      <th>12</th>\n",
       "      <td>Shop1</td>\n",
       "      <td>0003</td>\n",
       "      <td>purchase</td>\n",
       "      <td>58242</td>\n",
       "      <td>80</td>\n",
       "    </tr>\n",
       "    <tr>\n",
       "      <th>13</th>\n",
       "      <td>Shop1</td>\n",
       "      <td>0003</td>\n",
       "      <td>view</td>\n",
       "      <td>143211</td>\n",
       "      <td>80</td>\n",
       "    </tr>\n",
       "    <tr>\n",
       "      <th>14</th>\n",
       "      <td>Shop2</td>\n",
       "      <td>0003</td>\n",
       "      <td>purchase</td>\n",
       "      <td>58458</td>\n",
       "      <td>80</td>\n",
       "    </tr>\n",
       "    <tr>\n",
       "      <th>15</th>\n",
       "      <td>Shop2</td>\n",
       "      <td>0003</td>\n",
       "      <td>view</td>\n",
       "      <td>142230</td>\n",
       "      <td>80</td>\n",
       "    </tr>\n",
       "    <tr>\n",
       "      <th>16</th>\n",
       "      <td>Shop3</td>\n",
       "      <td>0003</td>\n",
       "      <td>purchase</td>\n",
       "      <td>59107</td>\n",
       "      <td>80</td>\n",
       "    </tr>\n",
       "    <tr>\n",
       "      <th>17</th>\n",
       "      <td>Shop3</td>\n",
       "      <td>0003</td>\n",
       "      <td>view</td>\n",
       "      <td>143642</td>\n",
       "      <td>80</td>\n",
       "    </tr>\n",
       "  </tbody>\n",
       "</table>\n",
       "</div>"
      ]
     },
     "metadata": {
      "application/vnd.databricks.v1+output": {
       "addedWidgets": {},
       "arguments": {},
       "data": "<div>\n<style scoped>\n    .dataframe tbody tr th:only-of-type {\n        vertical-align: middle;\n    }\n\n    .dataframe tbody tr th {\n        vertical-align: top;\n    }\n\n    .dataframe thead th {\n        text-align: right;\n    }\n</style>\n<table border=\"1\" class=\"dataframe\">\n  <thead>\n    <tr style=\"text-align: right;\">\n      <th></th>\n      <th>online_store</th>\n      <th>product_id</th>\n      <th>action_type</th>\n      <th>quantity</th>\n      <th>price</th>\n    </tr>\n  </thead>\n  <tbody>\n    <tr>\n      <th>0</th>\n      <td>Shop1</td>\n      <td>0001</td>\n      <td>purchase</td>\n      <td>57772</td>\n      <td>100</td>\n    </tr>\n    <tr>\n      <th>1</th>\n      <td>Shop1</td>\n      <td>0001</td>\n      <td>view</td>\n      <td>143477</td>\n      <td>100</td>\n    </tr>\n    <tr>\n      <th>2</th>\n      <td>Shop2</td>\n      <td>0001</td>\n      <td>purchase</td>\n      <td>58256</td>\n      <td>100</td>\n    </tr>\n    <tr>\n      <th>3</th>\n      <td>Shop2</td>\n      <td>0001</td>\n      <td>view</td>\n      <td>143560</td>\n      <td>100</td>\n    </tr>\n    <tr>\n      <th>4</th>\n      <td>Shop3</td>\n      <td>0001</td>\n      <td>purchase</td>\n      <td>57891</td>\n      <td>100</td>\n    </tr>\n    <tr>\n      <th>5</th>\n      <td>Shop3</td>\n      <td>0001</td>\n      <td>view</td>\n      <td>143685</td>\n      <td>100</td>\n    </tr>\n    <tr>\n      <th>6</th>\n      <td>Shop1</td>\n      <td>0002</td>\n      <td>purchase</td>\n      <td>58015</td>\n      <td>25</td>\n    </tr>\n    <tr>\n      <th>7</th>\n      <td>Shop1</td>\n      <td>0002</td>\n      <td>view</td>\n      <td>142174</td>\n      <td>25</td>\n    </tr>\n    <tr>\n      <th>8</th>\n      <td>Shop2</td>\n      <td>0002</td>\n      <td>purchase</td>\n      <td>58648</td>\n      <td>25</td>\n    </tr>\n    <tr>\n      <th>9</th>\n      <td>Shop2</td>\n      <td>0002</td>\n      <td>view</td>\n      <td>143740</td>\n      <td>25</td>\n    </tr>\n    <tr>\n      <th>10</th>\n      <td>Shop3</td>\n      <td>0002</td>\n      <td>purchase</td>\n      <td>58326</td>\n      <td>25</td>\n    </tr>\n    <tr>\n      <th>11</th>\n      <td>Shop3</td>\n      <td>0002</td>\n      <td>view</td>\n      <td>142657</td>\n      <td>25</td>\n    </tr>\n    <tr>\n      <th>12</th>\n      <td>Shop1</td>\n      <td>0003</td>\n      <td>purchase</td>\n      <td>58242</td>\n      <td>80</td>\n    </tr>\n    <tr>\n      <th>13</th>\n      <td>Shop1</td>\n      <td>0003</td>\n      <td>view</td>\n      <td>143211</td>\n      <td>80</td>\n    </tr>\n    <tr>\n      <th>14</th>\n      <td>Shop2</td>\n      <td>0003</td>\n      <td>purchase</td>\n      <td>58458</td>\n      <td>80</td>\n    </tr>\n    <tr>\n      <th>15</th>\n      <td>Shop2</td>\n      <td>0003</td>\n      <td>view</td>\n      <td>142230</td>\n      <td>80</td>\n    </tr>\n    <tr>\n      <th>16</th>\n      <td>Shop3</td>\n      <td>0003</td>\n      <td>purchase</td>\n      <td>59107</td>\n      <td>80</td>\n    </tr>\n    <tr>\n      <th>17</th>\n      <td>Shop3</td>\n      <td>0003</td>\n      <td>view</td>\n      <td>143642</td>\n      <td>80</td>\n    </tr>\n  </tbody>\n</table>\n</div>",
       "datasetInfos": [],
       "metadata": {},
       "removedWidgets": [],
       "textData": null,
       "type": "htmlSandbox"
      }
     },
     "output_type": "display_data"
    }
   ],
   "source": [
    "# Pandas\n",
    "user_actions_pd_df = user_actions_pd_df.merge(product_catalog_pd_df, on='product_id')\n",
    "user_actions_pd_df"
   ]
  },
  {
   "cell_type": "code",
   "execution_count": 0,
   "metadata": {
    "application/vnd.databricks.v1+cell": {
     "cellMetadata": {
      "byteLimit": 2048000,
      "rowLimit": 10000
     },
     "inputWidgets": {},
     "nuid": "a2907819-d17d-49cf-83b9-2f13e3a62e00",
     "showTitle": false,
     "title": ""
    }
   },
   "outputs": [
    {
     "output_type": "display_data",
     "data": {
      "text/html": [
       "<style scoped>\n",
       "  .ansiout {\n",
       "    display: block;\n",
       "    unicode-bidi: embed;\n",
       "    white-space: pre-wrap;\n",
       "    word-wrap: break-word;\n",
       "    word-break: break-all;\n",
       "    font-family: \"Menlo\", \"Monaco\", \"Consolas\", \"Ubuntu Mono\", \"Source Code Pro\", monospace;\n",
       "    font-size: 13px;\n",
       "    color: #555;\n",
       "    margin-left: 4px;\n",
       "    line-height: 19px;\n",
       "  }\n",
       "</style>\n",
       "<div class=\"ansiout\">Out[98]: </div>"
      ]
     },
     "metadata": {
      "application/vnd.databricks.v1+output": {
       "addedWidgets": {},
       "arguments": {},
       "data": "<div class=\"ansiout\">Out[98]: </div>",
       "datasetInfos": [],
       "metadata": {},
       "removedWidgets": [],
       "type": "html"
      }
     },
     "output_type": "display_data"
    },
    {
     "output_type": "display_data",
     "data": {
      "text/html": [
       "<div><style>\n",
       ".dataframe > thead > tr,\n",
       ".dataframe > tbody > tr {\n",
       "  text-align: right;\n",
       "  white-space: pre-wrap;\n",
       "}\n",
       "</style>\n",
       "<small>shape: (18, 5)</small><table border=\"1\" class=\"dataframe\"><thead><tr><th>online_store</th><th>product_id</th><th>action_type</th><th>quantity</th><th>price</th></tr><tr><td>str</td><td>str</td><td>str</td><td>i32</td><td>i64</td></tr></thead><tbody><tr><td>&quot;Shop2&quot;</td><td>&quot;0002&quot;</td><td>&quot;view&quot;</td><td>143740</td><td>25</td></tr><tr><td>&quot;Shop2&quot;</td><td>&quot;0001&quot;</td><td>&quot;view&quot;</td><td>143560</td><td>100</td></tr><tr><td>&quot;Shop3&quot;</td><td>&quot;0001&quot;</td><td>&quot;purchase&quot;</td><td>57891</td><td>100</td></tr><tr><td>&quot;Shop3&quot;</td><td>&quot;0003&quot;</td><td>&quot;purchase&quot;</td><td>59107</td><td>80</td></tr><tr><td>&quot;Shop2&quot;</td><td>&quot;0002&quot;</td><td>&quot;purchase&quot;</td><td>58648</td><td>25</td></tr><tr><td>&hellip;</td><td>&hellip;</td><td>&hellip;</td><td>&hellip;</td><td>&hellip;</td></tr><tr><td>&quot;Shop3&quot;</td><td>&quot;0002&quot;</td><td>&quot;view&quot;</td><td>142657</td><td>25</td></tr><tr><td>&quot;Shop2&quot;</td><td>&quot;0003&quot;</td><td>&quot;view&quot;</td><td>142230</td><td>80</td></tr><tr><td>&quot;Shop1&quot;</td><td>&quot;0002&quot;</td><td>&quot;purchase&quot;</td><td>58015</td><td>25</td></tr><tr><td>&quot;Shop1&quot;</td><td>&quot;0001&quot;</td><td>&quot;purchase&quot;</td><td>57772</td><td>100</td></tr><tr><td>&quot;Shop3&quot;</td><td>&quot;0002&quot;</td><td>&quot;purchase&quot;</td><td>58326</td><td>25</td></tr></tbody></table></div>"
      ]
     },
     "metadata": {
      "application/vnd.databricks.v1+output": {
       "addedWidgets": {},
       "arguments": {},
       "data": "<div><style>\n.dataframe > thead > tr,\n.dataframe > tbody > tr {\n  text-align: right;\n  white-space: pre-wrap;\n}\n</style>\n<small>shape: (18, 5)</small><table border=\"1\" class=\"dataframe\"><thead><tr><th>online_store</th><th>product_id</th><th>action_type</th><th>quantity</th><th>price</th></tr><tr><td>str</td><td>str</td><td>str</td><td>i32</td><td>i64</td></tr></thead><tbody><tr><td>&quot;Shop2&quot;</td><td>&quot;0002&quot;</td><td>&quot;view&quot;</td><td>143740</td><td>25</td></tr><tr><td>&quot;Shop2&quot;</td><td>&quot;0001&quot;</td><td>&quot;view&quot;</td><td>143560</td><td>100</td></tr><tr><td>&quot;Shop3&quot;</td><td>&quot;0001&quot;</td><td>&quot;purchase&quot;</td><td>57891</td><td>100</td></tr><tr><td>&quot;Shop3&quot;</td><td>&quot;0003&quot;</td><td>&quot;purchase&quot;</td><td>59107</td><td>80</td></tr><tr><td>&quot;Shop2&quot;</td><td>&quot;0002&quot;</td><td>&quot;purchase&quot;</td><td>58648</td><td>25</td></tr><tr><td>&hellip;</td><td>&hellip;</td><td>&hellip;</td><td>&hellip;</td><td>&hellip;</td></tr><tr><td>&quot;Shop3&quot;</td><td>&quot;0002&quot;</td><td>&quot;view&quot;</td><td>142657</td><td>25</td></tr><tr><td>&quot;Shop2&quot;</td><td>&quot;0003&quot;</td><td>&quot;view&quot;</td><td>142230</td><td>80</td></tr><tr><td>&quot;Shop1&quot;</td><td>&quot;0002&quot;</td><td>&quot;purchase&quot;</td><td>58015</td><td>25</td></tr><tr><td>&quot;Shop1&quot;</td><td>&quot;0001&quot;</td><td>&quot;purchase&quot;</td><td>57772</td><td>100</td></tr><tr><td>&quot;Shop3&quot;</td><td>&quot;0002&quot;</td><td>&quot;purchase&quot;</td><td>58326</td><td>25</td></tr></tbody></table></div>",
       "datasetInfos": [],
       "metadata": {},
       "removedWidgets": [],
       "textData": null,
       "type": "htmlSandbox"
      }
     },
     "output_type": "display_data"
    }
   ],
   "source": [
    "# Polars\n",
    "user_actions_pl_df = user_actions_pl_df.join(product_catalog_pl_df, on='product_id')\n",
    "user_actions_pl_df"
   ]
  },
  {
   "cell_type": "markdown",
   "metadata": {
    "application/vnd.databricks.v1+cell": {
     "cellMetadata": {
      "byteLimit": 2048000,
      "rowLimit": 10000
     },
     "inputWidgets": {},
     "nuid": "3fa4f934-1b19-48f5-943b-5462a836e7e4",
     "showTitle": false,
     "title": ""
    }
   },
   "source": [
    "#### Calculate a New Column"
   ]
  },
  {
   "cell_type": "code",
   "execution_count": 0,
   "metadata": {
    "application/vnd.databricks.v1+cell": {
     "cellMetadata": {
      "byteLimit": 2048000,
      "rowLimit": 10000
     },
     "inputWidgets": {},
     "nuid": "92051df7-2a8f-4a48-84f2-4b7856b187f4",
     "showTitle": false,
     "title": ""
    }
   },
   "outputs": [
    {
     "output_type": "display_data",
     "data": {
      "text/html": [
       "<style scoped>\n",
       "  .ansiout {\n",
       "    display: block;\n",
       "    unicode-bidi: embed;\n",
       "    white-space: pre-wrap;\n",
       "    word-wrap: break-word;\n",
       "    word-break: break-all;\n",
       "    font-family: \"Menlo\", \"Monaco\", \"Consolas\", \"Ubuntu Mono\", \"Source Code Pro\", monospace;\n",
       "    font-size: 13px;\n",
       "    color: #555;\n",
       "    margin-left: 4px;\n",
       "    line-height: 19px;\n",
       "  }\n",
       "</style>\n",
       "<div class=\"ansiout\">Out[99]: </div>"
      ]
     },
     "metadata": {
      "application/vnd.databricks.v1+output": {
       "addedWidgets": {},
       "arguments": {},
       "data": "<div class=\"ansiout\">Out[99]: </div>",
       "datasetInfos": [],
       "metadata": {},
       "removedWidgets": [],
       "type": "html"
      }
     },
     "output_type": "display_data"
    },
    {
     "output_type": "display_data",
     "data": {
      "text/html": [
       "<div>\n",
       "<style scoped>\n",
       "    .dataframe tbody tr th:only-of-type {\n",
       "        vertical-align: middle;\n",
       "    }\n",
       "\n",
       "    .dataframe tbody tr th {\n",
       "        vertical-align: top;\n",
       "    }\n",
       "\n",
       "    .dataframe thead th {\n",
       "        text-align: right;\n",
       "    }\n",
       "</style>\n",
       "<table border=\"1\" class=\"dataframe\">\n",
       "  <thead>\n",
       "    <tr style=\"text-align: right;\">\n",
       "      <th></th>\n",
       "      <th>online_store</th>\n",
       "      <th>action_type</th>\n",
       "      <th>total</th>\n",
       "    </tr>\n",
       "  </thead>\n",
       "  <tbody>\n",
       "    <tr>\n",
       "      <th>0</th>\n",
       "      <td>Shop1</td>\n",
       "      <td>purchase</td>\n",
       "      <td>5777200</td>\n",
       "    </tr>\n",
       "    <tr>\n",
       "      <th>1</th>\n",
       "      <td>Shop1</td>\n",
       "      <td>view</td>\n",
       "      <td>14347700</td>\n",
       "    </tr>\n",
       "    <tr>\n",
       "      <th>2</th>\n",
       "      <td>Shop2</td>\n",
       "      <td>purchase</td>\n",
       "      <td>5825600</td>\n",
       "    </tr>\n",
       "    <tr>\n",
       "      <th>3</th>\n",
       "      <td>Shop2</td>\n",
       "      <td>view</td>\n",
       "      <td>14356000</td>\n",
       "    </tr>\n",
       "    <tr>\n",
       "      <th>4</th>\n",
       "      <td>Shop3</td>\n",
       "      <td>purchase</td>\n",
       "      <td>5789100</td>\n",
       "    </tr>\n",
       "    <tr>\n",
       "      <th>5</th>\n",
       "      <td>Shop3</td>\n",
       "      <td>view</td>\n",
       "      <td>14368500</td>\n",
       "    </tr>\n",
       "    <tr>\n",
       "      <th>6</th>\n",
       "      <td>Shop1</td>\n",
       "      <td>purchase</td>\n",
       "      <td>1450375</td>\n",
       "    </tr>\n",
       "    <tr>\n",
       "      <th>7</th>\n",
       "      <td>Shop1</td>\n",
       "      <td>view</td>\n",
       "      <td>3554350</td>\n",
       "    </tr>\n",
       "    <tr>\n",
       "      <th>8</th>\n",
       "      <td>Shop2</td>\n",
       "      <td>purchase</td>\n",
       "      <td>1466200</td>\n",
       "    </tr>\n",
       "    <tr>\n",
       "      <th>9</th>\n",
       "      <td>Shop2</td>\n",
       "      <td>view</td>\n",
       "      <td>3593500</td>\n",
       "    </tr>\n",
       "    <tr>\n",
       "      <th>10</th>\n",
       "      <td>Shop3</td>\n",
       "      <td>purchase</td>\n",
       "      <td>1458150</td>\n",
       "    </tr>\n",
       "    <tr>\n",
       "      <th>11</th>\n",
       "      <td>Shop3</td>\n",
       "      <td>view</td>\n",
       "      <td>3566425</td>\n",
       "    </tr>\n",
       "    <tr>\n",
       "      <th>12</th>\n",
       "      <td>Shop1</td>\n",
       "      <td>purchase</td>\n",
       "      <td>4659360</td>\n",
       "    </tr>\n",
       "    <tr>\n",
       "      <th>13</th>\n",
       "      <td>Shop1</td>\n",
       "      <td>view</td>\n",
       "      <td>11456880</td>\n",
       "    </tr>\n",
       "    <tr>\n",
       "      <th>14</th>\n",
       "      <td>Shop2</td>\n",
       "      <td>purchase</td>\n",
       "      <td>4676640</td>\n",
       "    </tr>\n",
       "    <tr>\n",
       "      <th>15</th>\n",
       "      <td>Shop2</td>\n",
       "      <td>view</td>\n",
       "      <td>11378400</td>\n",
       "    </tr>\n",
       "    <tr>\n",
       "      <th>16</th>\n",
       "      <td>Shop3</td>\n",
       "      <td>purchase</td>\n",
       "      <td>4728560</td>\n",
       "    </tr>\n",
       "    <tr>\n",
       "      <th>17</th>\n",
       "      <td>Shop3</td>\n",
       "      <td>view</td>\n",
       "      <td>11491360</td>\n",
       "    </tr>\n",
       "  </tbody>\n",
       "</table>\n",
       "</div>"
      ]
     },
     "metadata": {
      "application/vnd.databricks.v1+output": {
       "addedWidgets": {},
       "arguments": {},
       "data": "<div>\n<style scoped>\n    .dataframe tbody tr th:only-of-type {\n        vertical-align: middle;\n    }\n\n    .dataframe tbody tr th {\n        vertical-align: top;\n    }\n\n    .dataframe thead th {\n        text-align: right;\n    }\n</style>\n<table border=\"1\" class=\"dataframe\">\n  <thead>\n    <tr style=\"text-align: right;\">\n      <th></th>\n      <th>online_store</th>\n      <th>action_type</th>\n      <th>total</th>\n    </tr>\n  </thead>\n  <tbody>\n    <tr>\n      <th>0</th>\n      <td>Shop1</td>\n      <td>purchase</td>\n      <td>5777200</td>\n    </tr>\n    <tr>\n      <th>1</th>\n      <td>Shop1</td>\n      <td>view</td>\n      <td>14347700</td>\n    </tr>\n    <tr>\n      <th>2</th>\n      <td>Shop2</td>\n      <td>purchase</td>\n      <td>5825600</td>\n    </tr>\n    <tr>\n      <th>3</th>\n      <td>Shop2</td>\n      <td>view</td>\n      <td>14356000</td>\n    </tr>\n    <tr>\n      <th>4</th>\n      <td>Shop3</td>\n      <td>purchase</td>\n      <td>5789100</td>\n    </tr>\n    <tr>\n      <th>5</th>\n      <td>Shop3</td>\n      <td>view</td>\n      <td>14368500</td>\n    </tr>\n    <tr>\n      <th>6</th>\n      <td>Shop1</td>\n      <td>purchase</td>\n      <td>1450375</td>\n    </tr>\n    <tr>\n      <th>7</th>\n      <td>Shop1</td>\n      <td>view</td>\n      <td>3554350</td>\n    </tr>\n    <tr>\n      <th>8</th>\n      <td>Shop2</td>\n      <td>purchase</td>\n      <td>1466200</td>\n    </tr>\n    <tr>\n      <th>9</th>\n      <td>Shop2</td>\n      <td>view</td>\n      <td>3593500</td>\n    </tr>\n    <tr>\n      <th>10</th>\n      <td>Shop3</td>\n      <td>purchase</td>\n      <td>1458150</td>\n    </tr>\n    <tr>\n      <th>11</th>\n      <td>Shop3</td>\n      <td>view</td>\n      <td>3566425</td>\n    </tr>\n    <tr>\n      <th>12</th>\n      <td>Shop1</td>\n      <td>purchase</td>\n      <td>4659360</td>\n    </tr>\n    <tr>\n      <th>13</th>\n      <td>Shop1</td>\n      <td>view</td>\n      <td>11456880</td>\n    </tr>\n    <tr>\n      <th>14</th>\n      <td>Shop2</td>\n      <td>purchase</td>\n      <td>4676640</td>\n    </tr>\n    <tr>\n      <th>15</th>\n      <td>Shop2</td>\n      <td>view</td>\n      <td>11378400</td>\n    </tr>\n    <tr>\n      <th>16</th>\n      <td>Shop3</td>\n      <td>purchase</td>\n      <td>4728560</td>\n    </tr>\n    <tr>\n      <th>17</th>\n      <td>Shop3</td>\n      <td>view</td>\n      <td>11491360</td>\n    </tr>\n  </tbody>\n</table>\n</div>",
       "datasetInfos": [],
       "metadata": {},
       "removedWidgets": [],
       "textData": null,
       "type": "htmlSandbox"
      }
     },
     "output_type": "display_data"
    }
   ],
   "source": [
    "# Pandas\n",
    "user_actions_pd_df[\"total\"] = (user_actions_pd_df[\"price\"] * user_actions_pd_df[\"quantity\"])\n",
    "user_actions_pd_df = user_actions_pd_df[[\"online_store\", \"action_type\", \"total\"]]\n",
    "user_actions_pd_df"
   ]
  },
  {
   "cell_type": "code",
   "execution_count": 0,
   "metadata": {
    "application/vnd.databricks.v1+cell": {
     "cellMetadata": {
      "byteLimit": 2048000,
      "rowLimit": 10000
     },
     "inputWidgets": {},
     "nuid": "8ddc5cfa-300e-4345-9722-11398fad91d8",
     "showTitle": false,
     "title": ""
    }
   },
   "outputs": [
    {
     "output_type": "display_data",
     "data": {
      "text/html": [
       "<style scoped>\n",
       "  .ansiout {\n",
       "    display: block;\n",
       "    unicode-bidi: embed;\n",
       "    white-space: pre-wrap;\n",
       "    word-wrap: break-word;\n",
       "    word-break: break-all;\n",
       "    font-family: \"Menlo\", \"Monaco\", \"Consolas\", \"Ubuntu Mono\", \"Source Code Pro\", monospace;\n",
       "    font-size: 13px;\n",
       "    color: #555;\n",
       "    margin-left: 4px;\n",
       "    line-height: 19px;\n",
       "  }\n",
       "</style>\n",
       "<div class=\"ansiout\"></div>"
      ]
     },
     "metadata": {
      "application/vnd.databricks.v1+output": {
       "addedWidgets": {},
       "arguments": {},
       "data": "<div class=\"ansiout\"></div>",
       "datasetInfos": [],
       "metadata": {},
       "removedWidgets": [],
       "type": "html"
      }
     },
     "output_type": "display_data"
    },
    {
     "output_type": "display_data",
     "data": {
      "text/html": [
       "<style scoped>\n",
       "  .ansiout {\n",
       "    display: block;\n",
       "    unicode-bidi: embed;\n",
       "    white-space: pre-wrap;\n",
       "    word-wrap: break-word;\n",
       "    word-break: break-all;\n",
       "    font-family: \"Menlo\", \"Monaco\", \"Consolas\", \"Ubuntu Mono\", \"Source Code Pro\", monospace;\n",
       "    font-size: 13px;\n",
       "    color: #555;\n",
       "    margin-left: 4px;\n",
       "    line-height: 19px;\n",
       "  }\n",
       "</style>\n",
       "<div class=\"ansiout\"><span class=\"ansi-red-fg\">---------------------------------------------------------------------------</span>\n",
       "<span class=\"ansi-red-fg\">ColumnNotFoundError</span>                       Traceback (most recent call last)\n",
       "<span class=\"ansi-green-fg\">&lt;command-2595611731419903&gt;</span> in <span class=\"ansi-cyan-fg\">&lt;module&gt;</span>\n",
       "<span class=\"ansi-green-intense-fg ansi-bold\">      5</span> \n",
       "<span class=\"ansi-green-intense-fg ansi-bold\">      6</span> <span class=\"ansi-red-fg\"># You can also use the select method to create new columns</span>\n",
       "<span class=\"ansi-green-fg\">----&gt; 7</span><span class=\"ansi-red-fg\"> user_actions_pl_df = user_actions_pl_df.select(\n",
       "</span><span class=\"ansi-green-intense-fg ansi-bold\">      8</span>     <span class=\"ansi-blue-fg\">&#34;online_store&#34;</span><span class=\"ansi-blue-fg\">,</span>\n",
       "<span class=\"ansi-green-intense-fg ansi-bold\">      9</span>     <span class=\"ansi-blue-fg\">&#34;action_type&#34;</span><span class=\"ansi-blue-fg\">,</span>\n",
       "\n",
       "<span class=\"ansi-green-fg\">/databricks/python/lib/python3.8/site-packages/polars/dataframe/frame.py</span> in <span class=\"ansi-cyan-fg\">select</span><span class=\"ansi-blue-fg\">(self, *exprs, **named_exprs)</span>\n",
       "<span class=\"ansi-green-intense-fg ansi-bold\">   8966</span>         <span class=\"ansi-red-fg\">└</span><span class=\"ansi-red-fg\">─</span><span class=\"ansi-red-fg\">─</span><span class=\"ansi-red-fg\">─</span><span class=\"ansi-red-fg\">─</span><span class=\"ansi-red-fg\">─</span><span class=\"ansi-red-fg\">─</span><span class=\"ansi-red-fg\">─</span><span class=\"ansi-red-fg\">─</span><span class=\"ansi-red-fg\">─</span><span class=\"ansi-red-fg\">─</span><span class=\"ansi-red-fg\">─</span><span class=\"ansi-red-fg\">─</span><span class=\"ansi-red-fg\">─</span><span class=\"ansi-red-fg\">─</span><span class=\"ansi-red-fg\">┘</span>\n",
       "<span class=\"ansi-green-intense-fg ansi-bold\">   8967</span>         &#34;&#34;&#34;\n",
       "<span class=\"ansi-green-fg\">-&gt; 8968</span><span class=\"ansi-red-fg\">         </span><span class=\"ansi-green-fg\">return</span> self<span class=\"ansi-blue-fg\">.</span>lazy<span class=\"ansi-blue-fg\">(</span><span class=\"ansi-blue-fg\">)</span><span class=\"ansi-blue-fg\">.</span>select<span class=\"ansi-blue-fg\">(</span><span class=\"ansi-blue-fg\">*</span>exprs<span class=\"ansi-blue-fg\">,</span> <span class=\"ansi-blue-fg\">**</span>named_exprs<span class=\"ansi-blue-fg\">)</span><span class=\"ansi-blue-fg\">.</span>collect<span class=\"ansi-blue-fg\">(</span>_eager<span class=\"ansi-blue-fg\">=</span><span class=\"ansi-green-fg\">True</span><span class=\"ansi-blue-fg\">)</span>\n",
       "<span class=\"ansi-green-intense-fg ansi-bold\">   8969</span> \n",
       "<span class=\"ansi-green-intense-fg ansi-bold\">   8970</span>     def select_seq(\n",
       "\n",
       "<span class=\"ansi-green-fg\">/databricks/python/lib/python3.8/site-packages/polars/lazyframe/frame.py</span> in <span class=\"ansi-cyan-fg\">collect</span><span class=\"ansi-blue-fg\">(self, type_coercion, predicate_pushdown, projection_pushdown, simplify_expression, slice_pushdown, comm_subplan_elim, comm_subexpr_elim, cluster_with_columns, no_optimization, streaming, engine, background, _eager, **_kwargs)</span>\n",
       "<span class=\"ansi-green-intense-fg ansi-bold\">   2032</span>         <span class=\"ansi-red-fg\"># Only for testing purposes</span>\n",
       "<span class=\"ansi-green-intense-fg ansi-bold\">   2033</span>         callback <span class=\"ansi-blue-fg\">=</span> _kwargs<span class=\"ansi-blue-fg\">.</span>get<span class=\"ansi-blue-fg\">(</span><span class=\"ansi-blue-fg\">&#34;post_opt_callback&#34;</span><span class=\"ansi-blue-fg\">,</span> callback<span class=\"ansi-blue-fg\">)</span>\n",
       "<span class=\"ansi-green-fg\">-&gt; 2034</span><span class=\"ansi-red-fg\">         </span><span class=\"ansi-green-fg\">return</span> wrap_df<span class=\"ansi-blue-fg\">(</span>ldf<span class=\"ansi-blue-fg\">.</span>collect<span class=\"ansi-blue-fg\">(</span>callback<span class=\"ansi-blue-fg\">)</span><span class=\"ansi-blue-fg\">)</span>\n",
       "<span class=\"ansi-green-intense-fg ansi-bold\">   2035</span> \n",
       "<span class=\"ansi-green-intense-fg ansi-bold\">   2036</span>     <span class=\"ansi-blue-fg\">@</span>overload\n",
       "\n",
       "<span class=\"ansi-red-fg\">ColumnNotFoundError</span>: price</div>"
      ]
     },
     "metadata": {
      "application/vnd.databricks.v1+output": {
       "arguments": {},
       "data": "<div class=\"ansiout\"><span class=\"ansi-red-fg\">---------------------------------------------------------------------------</span>\n<span class=\"ansi-red-fg\">ColumnNotFoundError</span>                       Traceback (most recent call last)\n<span class=\"ansi-green-fg\">&lt;command-2595611731419903&gt;</span> in <span class=\"ansi-cyan-fg\">&lt;module&gt;</span>\n<span class=\"ansi-green-intense-fg ansi-bold\">      5</span> \n<span class=\"ansi-green-intense-fg ansi-bold\">      6</span> <span class=\"ansi-red-fg\"># You can also use the select method to create new columns</span>\n<span class=\"ansi-green-fg\">----&gt; 7</span><span class=\"ansi-red-fg\"> user_actions_pl_df = user_actions_pl_df.select(\n</span><span class=\"ansi-green-intense-fg ansi-bold\">      8</span>     <span class=\"ansi-blue-fg\">&#34;online_store&#34;</span><span class=\"ansi-blue-fg\">,</span>\n<span class=\"ansi-green-intense-fg ansi-bold\">      9</span>     <span class=\"ansi-blue-fg\">&#34;action_type&#34;</span><span class=\"ansi-blue-fg\">,</span>\n\n<span class=\"ansi-green-fg\">/databricks/python/lib/python3.8/site-packages/polars/dataframe/frame.py</span> in <span class=\"ansi-cyan-fg\">select</span><span class=\"ansi-blue-fg\">(self, *exprs, **named_exprs)</span>\n<span class=\"ansi-green-intense-fg ansi-bold\">   8966</span>         <span class=\"ansi-red-fg\">└</span><span class=\"ansi-red-fg\">─</span><span class=\"ansi-red-fg\">─</span><span class=\"ansi-red-fg\">─</span><span class=\"ansi-red-fg\">─</span><span class=\"ansi-red-fg\">─</span><span class=\"ansi-red-fg\">─</span><span class=\"ansi-red-fg\">─</span><span class=\"ansi-red-fg\">─</span><span class=\"ansi-red-fg\">─</span><span class=\"ansi-red-fg\">─</span><span class=\"ansi-red-fg\">─</span><span class=\"ansi-red-fg\">─</span><span class=\"ansi-red-fg\">─</span><span class=\"ansi-red-fg\">─</span><span class=\"ansi-red-fg\">┘</span>\n<span class=\"ansi-green-intense-fg ansi-bold\">   8967</span>         &#34;&#34;&#34;\n<span class=\"ansi-green-fg\">-&gt; 8968</span><span class=\"ansi-red-fg\">         </span><span class=\"ansi-green-fg\">return</span> self<span class=\"ansi-blue-fg\">.</span>lazy<span class=\"ansi-blue-fg\">(</span><span class=\"ansi-blue-fg\">)</span><span class=\"ansi-blue-fg\">.</span>select<span class=\"ansi-blue-fg\">(</span><span class=\"ansi-blue-fg\">*</span>exprs<span class=\"ansi-blue-fg\">,</span> <span class=\"ansi-blue-fg\">**</span>named_exprs<span class=\"ansi-blue-fg\">)</span><span class=\"ansi-blue-fg\">.</span>collect<span class=\"ansi-blue-fg\">(</span>_eager<span class=\"ansi-blue-fg\">=</span><span class=\"ansi-green-fg\">True</span><span class=\"ansi-blue-fg\">)</span>\n<span class=\"ansi-green-intense-fg ansi-bold\">   8969</span> \n<span class=\"ansi-green-intense-fg ansi-bold\">   8970</span>     def select_seq(\n\n<span class=\"ansi-green-fg\">/databricks/python/lib/python3.8/site-packages/polars/lazyframe/frame.py</span> in <span class=\"ansi-cyan-fg\">collect</span><span class=\"ansi-blue-fg\">(self, type_coercion, predicate_pushdown, projection_pushdown, simplify_expression, slice_pushdown, comm_subplan_elim, comm_subexpr_elim, cluster_with_columns, no_optimization, streaming, engine, background, _eager, **_kwargs)</span>\n<span class=\"ansi-green-intense-fg ansi-bold\">   2032</span>         <span class=\"ansi-red-fg\"># Only for testing purposes</span>\n<span class=\"ansi-green-intense-fg ansi-bold\">   2033</span>         callback <span class=\"ansi-blue-fg\">=</span> _kwargs<span class=\"ansi-blue-fg\">.</span>get<span class=\"ansi-blue-fg\">(</span><span class=\"ansi-blue-fg\">&#34;post_opt_callback&#34;</span><span class=\"ansi-blue-fg\">,</span> callback<span class=\"ansi-blue-fg\">)</span>\n<span class=\"ansi-green-fg\">-&gt; 2034</span><span class=\"ansi-red-fg\">         </span><span class=\"ansi-green-fg\">return</span> wrap_df<span class=\"ansi-blue-fg\">(</span>ldf<span class=\"ansi-blue-fg\">.</span>collect<span class=\"ansi-blue-fg\">(</span>callback<span class=\"ansi-blue-fg\">)</span><span class=\"ansi-blue-fg\">)</span>\n<span class=\"ansi-green-intense-fg ansi-bold\">   2035</span> \n<span class=\"ansi-green-intense-fg ansi-bold\">   2036</span>     <span class=\"ansi-blue-fg\">@</span>overload\n\n<span class=\"ansi-red-fg\">ColumnNotFoundError</span>: price</div>",
       "errorSummary": "<span class=\"ansi-red-fg\">ColumnNotFoundError</span>: price",
       "errorTraceType": "html",
       "metadata": {},
       "type": "ipynbError"
      }
     },
     "output_type": "display_data"
    }
   ],
   "source": [
    "# Polars\n",
    "user_actions_pl_df = user_actions_pl_df.with_columns((pl.col(\"price\") * pl.col(\"quantity\")).alias(\"total\"))\n",
    "user_actions_pl_df = user_actions_pl_df.select(\"online_store\", \"action_type\", \"total\")\n",
    "user_actions_pl_df\n",
    "\n",
    "# You can also use the select method to create new columns\n",
    "user_actions_pl_df = user_actions_pl_df.select(\n",
    "    \"online_store\",\n",
    "    \"action_type\",\n",
    "    (pl.col(\"price\") * pl.col(\"quantity\")).alias(\"total\"))"
   ]
  },
  {
   "cell_type": "markdown",
   "metadata": {
    "application/vnd.databricks.v1+cell": {
     "cellMetadata": {
      "byteLimit": 2048000,
      "rowLimit": 10000
     },
     "inputWidgets": {},
     "nuid": "f2a2b94c-c6f1-4a46-aa71-3661f93bb992",
     "showTitle": false,
     "title": ""
    }
   },
   "source": [
    "#### Pivot"
   ]
  },
  {
   "cell_type": "code",
   "execution_count": 0,
   "metadata": {
    "application/vnd.databricks.v1+cell": {
     "cellMetadata": {
      "byteLimit": 2048000,
      "rowLimit": 10000
     },
     "inputWidgets": {},
     "nuid": "c61aca19-ea8a-4dc3-8e03-93d613b834be",
     "showTitle": false,
     "title": ""
    }
   },
   "outputs": [
    {
     "output_type": "display_data",
     "data": {
      "text/html": [
       "<style scoped>\n",
       "  .ansiout {\n",
       "    display: block;\n",
       "    unicode-bidi: embed;\n",
       "    white-space: pre-wrap;\n",
       "    word-wrap: break-word;\n",
       "    word-break: break-all;\n",
       "    font-family: \"Menlo\", \"Monaco\", \"Consolas\", \"Ubuntu Mono\", \"Source Code Pro\", monospace;\n",
       "    font-size: 13px;\n",
       "    color: #555;\n",
       "    margin-left: 4px;\n",
       "    line-height: 19px;\n",
       "  }\n",
       "</style>"
      ]
     },
     "metadata": {
      "application/vnd.databricks.v1+output": {
       "arguments": {},
       "data": "",
       "errorSummary": "Command skipped",
       "errorTraceType": "html",
       "metadata": {},
       "type": "ipynbError"
      }
     },
     "output_type": "display_data"
    }
   ],
   "source": [
    "# Pandas\n",
    "result_pd = user_actions_pd_df.pivot_table(\n",
    "    columns=\"online_store\",\n",
    "    index=\"action_type\",\n",
    "    values=\"total\",\n",
    "    aggfunc=\"sum\",\n",
    ")"
   ]
  },
  {
   "cell_type": "code",
   "execution_count": 0,
   "metadata": {
    "application/vnd.databricks.v1+cell": {
     "cellMetadata": {
      "byteLimit": 2048000,
      "rowLimit": 10000
     },
     "inputWidgets": {},
     "nuid": "1e25278a-70c6-4278-b3ff-922b601238e7",
     "showTitle": false,
     "title": ""
    }
   },
   "outputs": [
    {
     "output_type": "display_data",
     "data": {
      "text/html": [
       "<style scoped>\n",
       "  .ansiout {\n",
       "    display: block;\n",
       "    unicode-bidi: embed;\n",
       "    white-space: pre-wrap;\n",
       "    word-wrap: break-word;\n",
       "    word-break: break-all;\n",
       "    font-family: \"Menlo\", \"Monaco\", \"Consolas\", \"Ubuntu Mono\", \"Source Code Pro\", monospace;\n",
       "    font-size: 13px;\n",
       "    color: #555;\n",
       "    margin-left: 4px;\n",
       "    line-height: 19px;\n",
       "  }\n",
       "</style>"
      ]
     },
     "metadata": {
      "application/vnd.databricks.v1+output": {
       "arguments": {},
       "data": "",
       "errorSummary": "Command skipped",
       "errorTraceType": "html",
       "metadata": {},
       "type": "ipynbError"
      }
     },
     "output_type": "display_data"
    }
   ],
   "source": [
    "# Polars\n",
    "result_pl = user_actions_pl_df.pivot(\n",
    "    columns=\"online_store\",\n",
    "    index=\"action_type\",\n",
    "    values=\"total\",\n",
    "    aggregate_function=\"sum\",\n",
    ")"
   ]
  }
 ],
 "metadata": {
  "application/vnd.databricks.v1+notebook": {
   "dashboards": [],
   "environmentMetadata": {
    "base_environment": "",
    "client": "1"
   },
   "language": "python",
   "notebookMetadata": {
    "pythonIndentUnit": 4
   },
   "notebookName": "Polars 2024-09-11",
   "widgets": {}
  }
 },
 "nbformat": 4,
 "nbformat_minor": 0
}
