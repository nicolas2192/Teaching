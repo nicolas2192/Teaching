{
 "cells": [
  {
   "cell_type": "markdown",
   "metadata": {},
   "source": [
    "# IronHack Project 01. Module 01"
   ]
  },
  {
   "cell_type": "markdown",
   "metadata": {},
   "source": [
    "https://github.com/potacho/ih_datamadpt0420_project_m1"
   ]
  },
  {
   "cell_type": "markdown",
   "metadata": {},
   "source": [
    "#### Imports"
   ]
  },
  {
   "cell_type": "code",
   "execution_count": 1,
   "metadata": {},
   "outputs": [],
   "source": [
    "import pandas as pd\n",
    "import sqlalchemy\n",
    "import requests\n",
    "import bs4\n",
    "from functools import reduce"
   ]
  },
  {
   "cell_type": "markdown",
   "metadata": {},
   "source": [
    "### Acquisition"
   ]
  },
  {
   "cell_type": "markdown",
   "metadata": {},
   "source": [
    "#### DataBase"
   ]
  },
  {
   "cell_type": "code",
   "execution_count": 2,
   "metadata": {},
   "outputs": [],
   "source": [
    "def read_database(ddbb):\n",
    "    \"\"\"\n",
    "    Given a database, return all tables within. \n",
    "    \n",
    "    Parameters:\n",
    "        ddbb: String. SQL database path\n",
    "        \n",
    "    Return:\n",
    "        4 Pandas data frames, personal_df, country_df, career_df and poll_df\n",
    "    \"\"\"\n",
    "    \n",
    "    # Establish connection\n",
    "    engine = sqlalchemy.create_engine(ddbb)\n",
    "    \n",
    "    # Fetch tables\n",
    "    personal_df = pd.read_sql_table(\"personal_info\", engine)\n",
    "    country_df = pd.read_sql_table(\"country_info\", engine) \n",
    "    career_df = pd.read_sql_table(\"career_info\", engine) \n",
    "    poll_df = pd.read_sql_table(\"poll_info\", engine)\n",
    "    \n",
    "    return personal_df, country_df, career_df, poll_df"
   ]
  },
  {
   "cell_type": "code",
   "execution_count": 3,
   "metadata": {},
   "outputs": [
    {
     "data": {
      "text/html": [
       "<div>\n",
       "<style scoped>\n",
       "    .dataframe tbody tr th:only-of-type {\n",
       "        vertical-align: middle;\n",
       "    }\n",
       "\n",
       "    .dataframe tbody tr th {\n",
       "        vertical-align: top;\n",
       "    }\n",
       "\n",
       "    .dataframe thead th {\n",
       "        text-align: right;\n",
       "    }\n",
       "</style>\n",
       "<table border=\"1\" class=\"dataframe\">\n",
       "  <thead>\n",
       "    <tr style=\"text-align: right;\">\n",
       "      <th></th>\n",
       "      <th>uuid</th>\n",
       "      <th>age</th>\n",
       "      <th>gender</th>\n",
       "      <th>dem_has_children</th>\n",
       "      <th>age_group</th>\n",
       "    </tr>\n",
       "  </thead>\n",
       "  <tbody>\n",
       "    <tr>\n",
       "      <th>0</th>\n",
       "      <td>f6e7ee00-deac-0133-4de8-0a81e8b09a82</td>\n",
       "      <td>61 years old</td>\n",
       "      <td>male</td>\n",
       "      <td>NO</td>\n",
       "      <td>40_65</td>\n",
       "    </tr>\n",
       "    <tr>\n",
       "      <th>1</th>\n",
       "      <td>54f0f1c0-dda1-0133-a559-0a81e8b09a82</td>\n",
       "      <td>57 years old</td>\n",
       "      <td>male</td>\n",
       "      <td>yES</td>\n",
       "      <td>40_65</td>\n",
       "    </tr>\n",
       "    <tr>\n",
       "      <th>2</th>\n",
       "      <td>83127080-da3d-0133-c74f-0a81e8b09a82</td>\n",
       "      <td>32 years old</td>\n",
       "      <td>male</td>\n",
       "      <td>nO</td>\n",
       "      <td>26_39</td>\n",
       "    </tr>\n",
       "    <tr>\n",
       "      <th>3</th>\n",
       "      <td>15626d40-db13-0133-ea5c-0a81e8b09a82</td>\n",
       "      <td>45 years old</td>\n",
       "      <td>Male</td>\n",
       "      <td>YES</td>\n",
       "      <td>40_65</td>\n",
       "    </tr>\n",
       "    <tr>\n",
       "      <th>4</th>\n",
       "      <td>24954a70-db98-0133-4a64-0a81e8b09a82</td>\n",
       "      <td>41 years old</td>\n",
       "      <td>Fem</td>\n",
       "      <td>yES</td>\n",
       "      <td>40_65</td>\n",
       "    </tr>\n",
       "  </tbody>\n",
       "</table>\n",
       "</div>"
      ],
      "text/plain": [
       "                                   uuid           age gender dem_has_children  \\\n",
       "0  f6e7ee00-deac-0133-4de8-0a81e8b09a82  61 years old   male               NO   \n",
       "1  54f0f1c0-dda1-0133-a559-0a81e8b09a82  57 years old   male              yES   \n",
       "2  83127080-da3d-0133-c74f-0a81e8b09a82  32 years old   male               nO   \n",
       "3  15626d40-db13-0133-ea5c-0a81e8b09a82  45 years old   Male              YES   \n",
       "4  24954a70-db98-0133-4a64-0a81e8b09a82  41 years old    Fem              yES   \n",
       "\n",
       "  age_group  \n",
       "0     40_65  \n",
       "1     40_65  \n",
       "2     26_39  \n",
       "3     40_65  \n",
       "4     40_65  "
      ]
     },
     "execution_count": 3,
     "metadata": {},
     "output_type": "execute_result"
    }
   ],
   "source": [
    "personal_df, country_df, career_df, poll_df = read_database(\"sqlite:///../data/raw/raw_data_project_m1.db\")\n",
    "personal_df.head()"
   ]
  },
  {
   "cell_type": "markdown",
   "metadata": {},
   "source": [
    "#### API"
   ]
  },
  {
   "cell_type": "code",
   "execution_count": 4,
   "metadata": {},
   "outputs": [],
   "source": [
    "def retrieve_job_title(job_code):\n",
    "    \"\"\"\n",
    "    Given a uuid, return uuid job title.\n",
    "    E.g.: 861a9b9151e11362eb3c77ca914172d0 -> Automatic Data Processing Planner\n",
    "    \n",
    "    Parameters:\n",
    "        job_code: String. Unique job code.\n",
    "    \n",
    "    Return:\n",
    "        Job title. String.\n",
    "    \"\"\"\n",
    "    if job_code is not None: # if job_code is not None.\n",
    "        try:\n",
    "            r = requests.get(f\"http://api.dataatwork.org/v1/jobs/{job_code}\")\n",
    "            title = r.json()[\"title\"]\n",
    "        except:\n",
    "            title = \"Not found\"\n",
    "        \n",
    "        return title\n",
    "    \n",
    "    else:\n",
    "        return None"
   ]
  },
  {
   "cell_type": "code",
   "execution_count": 5,
   "metadata": {},
   "outputs": [],
   "source": [
    "def create_titles_df(df, column):\n",
    "    \"\"\"\n",
    "    Given a pandas data frame and a column of the same df. \n",
    "    Return a pandas dataframe comprised by two columns; normalized job code and its corresponding title.\n",
    "    \n",
    "    Parameters:\n",
    "        df: Pandas DataFrame.\n",
    "        column. String. df column comprised by normalized job codes e.g.: c1fb1a01b78373ac2153c66fa08d16dc\n",
    "    \n",
    "    Returns:\n",
    "        Pandas dataframe comprised by two columns; job_code, job_title\n",
    "    \"\"\"\n",
    "    \n",
    "    # Create list with unique values.\n",
    "    job_titles = list(df[column].unique())\n",
    "    \n",
    "    # Delete None at the first element. \n",
    "    if job_titles[0] is None:\n",
    "        job_titles.pop(0)\n",
    "    \n",
    "    # Retrieve job's title.\n",
    "    job_titles_names = [[x, retrieve_job_title(x)] for x in job_titles]\n",
    "    \n",
    "    # Create and return data frame.\n",
    "    df = pd.DataFrame(job_titles_names, columns=[\"job_code\", \"job_title\"])\n",
    "    return df"
   ]
  },
  {
   "cell_type": "code",
   "execution_count": 6,
   "metadata": {},
   "outputs": [
    {
     "data": {
      "text/html": [
       "<div>\n",
       "<style scoped>\n",
       "    .dataframe tbody tr th:only-of-type {\n",
       "        vertical-align: middle;\n",
       "    }\n",
       "\n",
       "    .dataframe tbody tr th {\n",
       "        vertical-align: top;\n",
       "    }\n",
       "\n",
       "    .dataframe thead th {\n",
       "        text-align: right;\n",
       "    }\n",
       "</style>\n",
       "<table border=\"1\" class=\"dataframe\">\n",
       "  <thead>\n",
       "    <tr style=\"text-align: right;\">\n",
       "      <th></th>\n",
       "      <th>job_code</th>\n",
       "      <th>job_title</th>\n",
       "    </tr>\n",
       "  </thead>\n",
       "  <tbody>\n",
       "    <tr>\n",
       "      <th>0</th>\n",
       "      <td>861a9b9151e11362eb3c77ca914172d0</td>\n",
       "      <td>Automatic Data Processing Planner</td>\n",
       "    </tr>\n",
       "    <tr>\n",
       "      <th>1</th>\n",
       "      <td>049a3f3a2b5f85cb2971ba77ad66e10c</td>\n",
       "      <td>Data Coordinator</td>\n",
       "    </tr>\n",
       "    <tr>\n",
       "      <th>2</th>\n",
       "      <td>f4b2fb1aa40f661488e2782b6d57ad2f</td>\n",
       "      <td>Database Developer</td>\n",
       "    </tr>\n",
       "    <tr>\n",
       "      <th>3</th>\n",
       "      <td>27af8700f5577cec835acee2cb90a2ff</td>\n",
       "      <td>Data Entry Specialist</td>\n",
       "    </tr>\n",
       "    <tr>\n",
       "      <th>4</th>\n",
       "      <td>c1b670eba9ccb65e7c99f7da116d5b9c</td>\n",
       "      <td>Database Architect</td>\n",
       "    </tr>\n",
       "  </tbody>\n",
       "</table>\n",
       "</div>"
      ],
      "text/plain": [
       "                           job_code                          job_title\n",
       "0  861a9b9151e11362eb3c77ca914172d0  Automatic Data Processing Planner\n",
       "1  049a3f3a2b5f85cb2971ba77ad66e10c                   Data Coordinator\n",
       "2  f4b2fb1aa40f661488e2782b6d57ad2f                 Database Developer\n",
       "3  27af8700f5577cec835acee2cb90a2ff              Data Entry Specialist\n",
       "4  c1b670eba9ccb65e7c99f7da116d5b9c                 Database Architect"
      ]
     },
     "execution_count": 6,
     "metadata": {},
     "output_type": "execute_result"
    }
   ],
   "source": [
    "titles_df = create_titles_df(career_df, \"normalized_job_code\")\n",
    "titles_df.head()"
   ]
  },
  {
   "cell_type": "markdown",
   "metadata": {},
   "source": [
    "#### Eurostat"
   ]
  },
  {
   "cell_type": "code",
   "execution_count": 7,
   "metadata": {},
   "outputs": [],
   "source": [
    "def fetch_country_codes(url):\n",
    "    \"\"\"\n",
    "    Retrive country names and codes from EuroStat web page.\n",
    "    \n",
    "    Parameters:\n",
    "        url: String. Eurostat web page to parse\n",
    "    \n",
    "    Returns:\n",
    "        Pandas dataframe comprised by two columns; \"country\" and \"code\"\n",
    "    \"\"\"\n",
    "    \n",
    "    # Retrieve raw html\n",
    "    r = requests.get(url)\n",
    "    soup = bs4.BeautifulSoup(r.content)\n",
    "    tables = soup.find_all(\"table\")\n",
    "    \n",
    "    # Parse raw html\n",
    "    country_codes = []\n",
    "    for table in tables:\n",
    "        trs = table.find_all(\"tr\")\n",
    "        for tr in trs:\n",
    "            tds = tr.find_all(\"td\")\n",
    "            for td in tds:\n",
    "                txt = td.text.rstrip(\"\\n\").lstrip()\n",
    "                if len(txt) > 0:\n",
    "                    if txt == \"(TW)\":\n",
    "                        country_codes.append(txt)\n",
    "                        #country_codes.append(\"Canada\")\n",
    "                    else:\n",
    "                        country_codes.append(txt)\n",
    "\n",
    "    # Split countries and codes into two different lists. \n",
    "    countries = [x for x in country_codes if country_codes.index(x) % 2 == 0]\n",
    "    codes = [x for x in country_codes if country_codes.index(x) % 2 > 0]\n",
    "    \n",
    "    # Adding Greece(GR) and Great Britain(GB) manually.\n",
    "    countries = countries + [\"Greece\", \"Great Britain\"]\n",
    "    codes = codes + [\"GR\", \"GB\"]\n",
    "\n",
    "    # Take previously split lists and create a single df\n",
    "    df = pd.DataFrame(zip(countries, codes), columns=[\"country\", \"code\"])\n",
    "    df.code = df.code.apply(lambda x: x.lstrip(\"(\").rstrip(\")\"))\n",
    "    return df"
   ]
  },
  {
   "cell_type": "code",
   "execution_count": 8,
   "metadata": {},
   "outputs": [
    {
     "data": {
      "text/html": [
       "<div>\n",
       "<style scoped>\n",
       "    .dataframe tbody tr th:only-of-type {\n",
       "        vertical-align: middle;\n",
       "    }\n",
       "\n",
       "    .dataframe tbody tr th {\n",
       "        vertical-align: top;\n",
       "    }\n",
       "\n",
       "    .dataframe thead th {\n",
       "        text-align: right;\n",
       "    }\n",
       "</style>\n",
       "<table border=\"1\" class=\"dataframe\">\n",
       "  <thead>\n",
       "    <tr style=\"text-align: right;\">\n",
       "      <th></th>\n",
       "      <th>country</th>\n",
       "      <th>code</th>\n",
       "    </tr>\n",
       "  </thead>\n",
       "  <tbody>\n",
       "    <tr>\n",
       "      <th>69</th>\n",
       "      <td>Japan</td>\n",
       "      <td>JP</td>\n",
       "    </tr>\n",
       "    <tr>\n",
       "      <th>70</th>\n",
       "      <td>Singapore</td>\n",
       "      <td>SG</td>\n",
       "    </tr>\n",
       "    <tr>\n",
       "      <th>71</th>\n",
       "      <td>United States</td>\n",
       "      <td>US</td>\n",
       "    </tr>\n",
       "    <tr>\n",
       "      <th>72</th>\n",
       "      <td>Greece</td>\n",
       "      <td>GR</td>\n",
       "    </tr>\n",
       "    <tr>\n",
       "      <th>73</th>\n",
       "      <td>Great Britain</td>\n",
       "      <td>GB</td>\n",
       "    </tr>\n",
       "  </tbody>\n",
       "</table>\n",
       "</div>"
      ],
      "text/plain": [
       "          country code\n",
       "69          Japan   JP\n",
       "70      Singapore   SG\n",
       "71  United States   US\n",
       "72         Greece   GR\n",
       "73  Great Britain   GB"
      ]
     },
     "execution_count": 8,
     "metadata": {},
     "output_type": "execute_result"
    }
   ],
   "source": [
    "url = \"https://ec.europa.eu/eurostat/statistics-explained/index.php/Glossary:Country_codes\"\n",
    "country_code_df = fetch_country_codes(url)\n",
    "country_code_df.tail()"
   ]
  },
  {
   "cell_type": "markdown",
   "metadata": {},
   "source": [
    "### Wrangling"
   ]
  },
  {
   "cell_type": "markdown",
   "metadata": {},
   "source": [
    "#### Personal, Country and Career DataFrames"
   ]
  },
  {
   "cell_type": "code",
   "execution_count": 9,
   "metadata": {},
   "outputs": [],
   "source": [
    "def personal_df_enhancement(df):\n",
    "    \"\"\"\n",
    "    Take personal_df data frame and clean its columns.\n",
    "    \n",
    "    Parameters:\n",
    "        df: Pandas DataFrame. Original personal_df coming from read_database function.\n",
    "        \n",
    "    Returns:\n",
    "        Enhanced personal_df Data frame.\n",
    "    \"\"\"\n",
    "    \n",
    "    # juvenile will be switched to '14_25' because it matches with the age column.\n",
    "    df.age_group = df.age_group.apply(lambda x: x.replace(\"juvenile\", \"14_25\").strip())\n",
    "\n",
    "    # Yes and No in the dem_has_children column will be capitalized.\n",
    "    df.dem_has_children = df.dem_has_children.apply(lambda x: x.capitalize().strip())\n",
    "\n",
    "    # Male and Female in the gender column will be capitalized, Fem will become Female as well. \n",
    "    df.gender = df.gender.apply(lambda x: x.replace(\"Fem\", \"FEMALE\"))\n",
    "    df.gender = df.gender.apply(lambda x: x.capitalize().strip())\n",
    "\n",
    "    # Remove ' years old' from the age column and compute the age of those who only show the birth year, i.e.: 1991\n",
    "    df.age = df.age.apply(lambda x: x.replace(\"years old\", \"\").strip())\n",
    "    df.age = df.age.apply(lambda x: 2016 - int(x) if len(x) > 3 else x)\n",
    "\n",
    "    # Setting specific data types for each column.\n",
    "    df.age = df.age.astype(\"int\")\n",
    "    df.gender = df.gender.astype(\"category\")\n",
    "    df.dem_has_children = df.dem_has_children.astype(\"category\")\n",
    "    df.age_group = df.age_group.astype(\"category\")\n",
    "    \n",
    "    return df"
   ]
  },
  {
   "cell_type": "code",
   "execution_count": 10,
   "metadata": {},
   "outputs": [],
   "source": [
    "def country_df_enhancement(df, country_codes_df):\n",
    "    \"\"\"\n",
    "    Enhance country_df data frame by cleaning its columns and merging it with the country codes data frame. \n",
    "    \n",
    "    Parameters:\n",
    "        df: Pandas DataFrame. Original country_df coming from read_database function.\n",
    "        country_codes_df: Pandas DataFrame comming from the fetch_country_codes function. \n",
    "        \n",
    "    Returns:\n",
    "        Enhanced country_df Data frame.\n",
    "    \"\"\"\n",
    "\n",
    "    # Capitalize all categories in the rural column\n",
    "    df.rural = df.rural.apply(lambda x: x.capitalize().strip())\n",
    "    \n",
    "    # Remove possible trailling spaces and turn into all caps all country codes.\n",
    "    df.country_code = df.country_code.apply(lambda x: x.upper().strip())\n",
    "    \n",
    "    # Merge country_df and country_code_df and drop Code column\n",
    "    df = pd.merge(df, country_codes_df, how=\"left\", left_on=\"country_code\", right_on=\"code\")\n",
    "    df.drop(columns=\"code\", inplace=True)\n",
    "    \n",
    "    # Setting specific data types for each column\n",
    "    df.rural = df.rural.astype(\"category\")\n",
    "    \n",
    "    return df"
   ]
  },
  {
   "cell_type": "code",
   "execution_count": 11,
   "metadata": {},
   "outputs": [],
   "source": [
    "def career_df_enhancement(df, job_titles_df):\n",
    "    \"\"\"\n",
    "    Enhance career_df data frame by cleaning its columns and merging it with the job titles data frame. \n",
    "    \n",
    "    Parameters:\n",
    "        df: Pandas DataFrame. Original career_df coming from read_database function.\n",
    "        job_titles_df: Pandas DataFrame comming from the create_titles_df function. \n",
    "        \n",
    "    Returns:\n",
    "        Enhanced career_df Data frame.\n",
    "    \"\"\"\n",
    "    \n",
    "    # Fills None in dem_education_level with \"no\"\n",
    "    df.dem_education_level.fillna(\"no\", inplace=True)\n",
    "    \n",
    "    # Capitalize column's values\n",
    "    df[[\"dem_education_level\", \"dem_full_time_job\"]] = df[[\"dem_education_level\", \"dem_full_time_job\"]].apply(lambda x :x.str.capitalize())\n",
    "\n",
    "    # Merge with titles_df\n",
    "    df = pd.merge(df, titles_df, how=\"left\", left_on=\"normalized_job_code\", right_on=\"job_code\")\n",
    "    \n",
    "    # Dropping job code columns\n",
    "    df.drop(columns=[\"normalized_job_code\", \"job_code\"], inplace=True)\n",
    "    \n",
    "    # Filling NaN in job title column with \"unemployed\"\n",
    "    df.job_title.fillna(\"Unemployed\", inplace=True)\n",
    "    \n",
    "    # Setting specific data types for each column\n",
    "    df.dem_education_level = df.dem_education_level.astype(\"category\")\n",
    "    df.dem_full_time_job = df.dem_full_time_job.astype(\"category\")\n",
    "    \n",
    "    return df"
   ]
  },
  {
   "cell_type": "code",
   "execution_count": 12,
   "metadata": {},
   "outputs": [],
   "source": [
    "def merge_it(list_of_dfs, column_on):\n",
    "    \"\"\"\n",
    "    Take a bunch of dfs and put them all together given a common column \n",
    "    \n",
    "    Parameters:\n",
    "        list_of_dfs: List of Pandas DataFrame to merge together\n",
    "        column_on: String. Column name common to all data frames. \n",
    "    \n",
    "    Returns:\n",
    "        Merged Pandas Data Frame\n",
    "    \"\"\"\n",
    "\n",
    "    full = reduce(lambda left, right: pd.merge(left, right, how=\"inner\", on=column_on), list_of_dfs)\n",
    "    \n",
    "    return full"
   ]
  },
  {
   "cell_type": "code",
   "execution_count": null,
   "metadata": {},
   "outputs": [],
   "source": [
    "personal_df = personal_df_enhancement(personal_df)\n",
    "country_df = country_df_enhancement(country_df, country_code_df)\n",
    "career_df = career_df_enhancement(career_df, titles_df)\n",
    "full = merge_it([personal_df, career_df, country_df], column_on=\"uuid\")"
   ]
  },
  {
   "cell_type": "markdown",
   "metadata": {},
   "source": [
    "### Analysis"
   ]
  },
  {
   "cell_type": "code",
   "execution_count": 30,
   "metadata": {},
   "outputs": [],
   "source": [
    "def create_final_df(df, groupby_columns, dropna=False):\n",
    "    \"\"\"\n",
    "    Given a dataframe and a subset of its columns, return a grouped dataframe along with the items count and percentage.\n",
    "\n",
    "    Paremeters:\n",
    "        df: Pandas Data Frame coming from the merge_it function.\n",
    "        groupby_columns: List. Subset of column names that are present in the data frame passed as df.\n",
    "            First element must be \"uuid\". Second and so on will be used to group the data frame.\n",
    "            Second element will be first grouping level, Third element second grouping level, etc. \n",
    "            i.e.: [\"uuid\", \"country\", \"job_title\", \"rural\"]\n",
    "        dropna: Boolean. Returns a data frame with 0 if there were no matches (default False).\n",
    "        \n",
    "    Returns:\n",
    "        Pandas data frame. I.e:\n",
    "            |  Country  |  Job Title  |  Gender  |  Quantity  |  Percentage  |\n",
    "            |  Croatia  | Data Miner  |  Female  |      5     |       1      |\n",
    "            |  Croatia  | Data Miner  |   Male   |      7     |       2      |\n",
    "        \n",
    "    \"\"\"\n",
    "    main_df = df[groupby_columns]\n",
    "    grouped_df = main_df.groupby(by=groupby_columns[1:]).count()\n",
    "    \n",
    "    # Computting percentage value and adding it to a new column \"percentage\".\n",
    "    grouped_df[\"percentage\"] = grouped_df.groupby(level=0).transform(lambda x : 100 * x/x.sum())\n",
    "    \n",
    "    # Turning multi-index dataframe into a single-index one.\n",
    "    grouped_df.reset_index(inplace=True)\n",
    "    \n",
    "    # Filling NaN values with 0\n",
    "    grouped_df[[\"uuid\", \"percentage\"]] = grouped_df[[\"uuid\", \"percentage\"]].fillna(0)\n",
    "    \n",
    "    # Rounding values to three decimal points\n",
    "    grouped_df[\"uuid\"] = grouped_df[\"uuid\"].apply(int)\n",
    "    grouped_df[\"percentage\"] = grouped_df[\"percentage\"].apply(round, args=(3,))\n",
    "    \n",
    "    # Renaming columns\n",
    "    grouped_df.columns = [\"Country\", \"Job Title\", \"Gender\", \"Quantity\", \"Percentage\"]\n",
    "    \n",
    "    if dropna:\n",
    "        grouped_df = grouped_df[grouped_df.Quantity > 0]\n",
    "        grouped_df.reset_index(drop=True, inplace=True)\n",
    "    \n",
    "    return grouped_df"
   ]
  },
  {
   "cell_type": "code",
   "execution_count": 31,
   "metadata": {},
   "outputs": [],
   "source": [
    "final_gender = create_final_df(full, [\"uuid\", \"country\", \"job_title\", \"gender\"], dropna=True)\n",
    "final_rural = create_final_df(full, [\"uuid\", \"country\", \"job_title\", \"rural\"], dropna=True)\n",
    "final_age = create_final_df(full, [\"uuid\", \"country\", \"job_title\", \"age_group\"], dropna=True)"
   ]
  },
  {
   "cell_type": "markdown",
   "metadata": {},
   "source": [
    "### Reporting"
   ]
  },
  {
   "cell_type": "code",
   "execution_count": 18,
   "metadata": {},
   "outputs": [],
   "source": [
    "def save_it(df, path, sep=\",\"):\n",
    "    \"\"\"\n",
    "    Save a pandas data frame as a csv file.\n",
    "    \n",
    "    Parameters:\n",
    "        df: Pandas DataFrame.\n",
    "        path: String. Filepath. I.e.: \"../data/final_gender.csv\"\n",
    "        sep: String. File delimiter, comma set as default.\n",
    "        \n",
    "    Returns:\n",
    "        None. Saves df as csv file. \n",
    "    \"\"\"\n",
    "    \n",
    "    df.to_csv(path, index=False)\n",
    "    print(\"DataFrame saved to:\", path)\n",
    "    return None"
   ]
  },
  {
   "cell_type": "code",
   "execution_count": 34,
   "metadata": {},
   "outputs": [
    {
     "name": "stdout",
     "output_type": "stream",
     "text": [
      "DataFrame saved to: ../data/processed/final_gender.csv\n",
      "DataFrame saved to: ../data/processed/final_rural.csv\n",
      "DataFrame saved to: ../data/processed/final_age.csv\n"
     ]
    }
   ],
   "source": [
    "save_it(final_gender, \"../data/processed/final_gender.csv\")\n",
    "save_it(final_rural, \"../data/processed/final_rural.csv\")\n",
    "save_it(final_age, \"../data/processed/final_age.csv\")"
   ]
  },
  {
   "cell_type": "code",
   "execution_count": null,
   "metadata": {},
   "outputs": [],
   "source": []
  },
  {
   "cell_type": "code",
   "execution_count": null,
   "metadata": {},
   "outputs": [],
   "source": []
  },
  {
   "cell_type": "code",
   "execution_count": null,
   "metadata": {},
   "outputs": [],
   "source": []
  },
  {
   "cell_type": "code",
   "execution_count": null,
   "metadata": {},
   "outputs": [],
   "source": []
  },
  {
   "cell_type": "code",
   "execution_count": null,
   "metadata": {},
   "outputs": [],
   "source": []
  }
 ],
 "metadata": {
  "kernelspec": {
   "display_name": "Python [conda env:labs_env]",
   "language": "python",
   "name": "conda-env-labs_env-py"
  },
  "language_info": {
   "codemirror_mode": {
    "name": "ipython",
    "version": 3
   },
   "file_extension": ".py",
   "mimetype": "text/x-python",
   "name": "python",
   "nbconvert_exporter": "python",
   "pygments_lexer": "ipython3",
   "version": "3.7.5"
  }
 },
 "nbformat": 4,
 "nbformat_minor": 2
}
