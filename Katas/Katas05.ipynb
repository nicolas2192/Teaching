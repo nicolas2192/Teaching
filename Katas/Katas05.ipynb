{
 "cells": [
  {
   "cell_type": "code",
   "execution_count": 102,
   "metadata": {},
   "outputs": [],
   "source": [
    "import re\n",
    "import time"
   ]
  },
  {
   "cell_type": "markdown",
   "metadata": {},
   "source": [
    "https://www.codewars.com/kata/514a024011ea4fb54200004b/train/python"
   ]
  },
  {
   "cell_type": "code",
   "execution_count": 164,
   "metadata": {},
   "outputs": [],
   "source": [
    "urls = [\"http://github.com/carbonfive/raygun\", \n",
    "        \"https://youtube.com\", \n",
    "        \"www.xakep.ru\", \n",
    "        \"http://www.zombie-bites.com\",\n",
    "        \"https://regex101.com/\"] * 10_000"
   ]
  },
  {
   "cell_type": "code",
   "execution_count": 165,
   "metadata": {},
   "outputs": [],
   "source": [
    "def domain_name(url):\n",
    "    url = url.replace(\"www.\", \"\").replace(\"ps:/\", \"p:/\").replace(\"http://\", \"\")\n",
    "    url = url[:url.find(\".\")]\n",
    "    return url"
   ]
  },
  {
   "cell_type": "code",
   "execution_count": 166,
   "metadata": {},
   "outputs": [],
   "source": [
    "def domain_name_regex(url):\n",
    "    res = re.search('(https?://)?(www\\d?\\.)?(?P<name>[\\w-]+)\\.', url).group(\"name\")\n",
    "    return res"
   ]
  },
  {
   "cell_type": "code",
   "execution_count": 167,
   "metadata": {},
   "outputs": [
    {
     "name": "stdout",
     "output_type": "stream",
     "text": [
      "Normal: 0.07352\n",
      "Regex: 0.11636\n"
     ]
    }
   ],
   "source": [
    "t1 = time.time()\n",
    "for url in urls:\n",
    "    res = domain_name(url)\n",
    "    \n",
    "print(\"Normal:\", round(time.time() - t1, 5))\n",
    "\n",
    "t1 = time.time()\n",
    "for url in urls:\n",
    "    res = domain_name_regex(url)\n",
    "    \n",
    "print(\"Regex:\", round(time.time() - t1, 5))"
   ]
  },
  {
   "cell_type": "code",
   "execution_count": null,
   "metadata": {},
   "outputs": [],
   "source": []
  },
  {
   "cell_type": "code",
   "execution_count": null,
   "metadata": {},
   "outputs": [],
   "source": []
  },
  {
   "cell_type": "code",
   "execution_count": null,
   "metadata": {},
   "outputs": [],
   "source": []
  },
  {
   "cell_type": "code",
   "execution_count": null,
   "metadata": {},
   "outputs": [],
   "source": [
    "for url in urls:\n",
    "    res = re.search('(https?://)?(www\\d?\\.)?(?P<name>[\\w-]+)\\.', url).group(\"name\")\n",
    "    print(res)\n",
    "    print(res)"
   ]
  },
  {
   "cell_type": "code",
   "execution_count": null,
   "metadata": {},
   "outputs": [],
   "source": [
    "url = findall(\"\"\"\\A(?: https?://)?         # matches http:// or https:// or nothing\n",
    "                        \n",
    "                        (?: www.)?    # matches www. or nothing\n",
    "                        \n",
    "                        ([- a-z]+)    # matches a sequence of letters and dashes\n",
    "                        \n",
    "                        (?: .com|.ru)     # matches either .com or .ru\n",
    "                        (?: [/ a-z]+)?    # matches a sequence or letters and slashes\n",
    "                        \\Z\"\"\", url, VERBOSE)"
   ]
  },
  {
   "cell_type": "code",
   "execution_count": null,
   "metadata": {},
   "outputs": [],
   "source": []
  },
  {
   "cell_type": "code",
   "execution_count": null,
   "metadata": {},
   "outputs": [],
   "source": []
  }
 ],
 "metadata": {
  "kernelspec": {
   "display_name": "Python [conda env:labs_env]",
   "language": "python",
   "name": "conda-env-labs_env-py"
  },
  "language_info": {
   "codemirror_mode": {
    "name": "ipython",
    "version": 3
   },
   "file_extension": ".py",
   "mimetype": "text/x-python",
   "name": "python",
   "nbconvert_exporter": "python",
   "pygments_lexer": "ipython3",
   "version": "3.7.5"
  }
 },
 "nbformat": 4,
 "nbformat_minor": 2
}
