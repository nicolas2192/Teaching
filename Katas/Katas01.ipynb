{
 "cells": [
  {
   "cell_type": "markdown",
   "metadata": {},
   "source": [
    "https://www.codewars.com/kata/5665d30b3ea3d84a2c000025/python"
   ]
  },
  {
   "cell_type": "code",
   "execution_count": 48,
   "metadata": {},
   "outputs": [],
   "source": [
    "GIFTS = {\n",
    "  1: 'Toy Soldier',\n",
    "  2: 'Wooden Train',\n",
    "  4: 'Hoop',\n",
    "  8: 'Chess Board',\n",
    "  16: 'Horse',\n",
    "  32: 'Teddy',\n",
    "  64: 'Lego',\n",
    "  128: 'Football',\n",
    "  256: 'Doll',\n",
    "  512: \"Rubik's Cube\"\n",
    "}"
   ]
  },
  {
   "cell_type": "code",
   "execution_count": 53,
   "metadata": {},
   "outputs": [],
   "source": [
    "number = 160"
   ]
  },
  {
   "cell_type": "code",
   "execution_count": 54,
   "metadata": {},
   "outputs": [],
   "source": [
    "def gifts(number):\n",
    "    \n",
    "    keys = list(GIFTS.keys())\n",
    "    \n",
    "    toys = []\n",
    "    while number != 0:\n",
    "        for i in keys[::-1]:\n",
    "            if i <= number:\n",
    "                toys.append(GIFTS[i])\n",
    "                keys.remove(i)\n",
    "                number -= i\n",
    "    toys.sort()\n",
    "    return toys "
   ]
  },
  {
   "cell_type": "code",
   "execution_count": 57,
   "metadata": {},
   "outputs": [
    {
     "data": {
      "text/plain": [
       "['Football', 'Teddy']"
      ]
     },
     "execution_count": 57,
     "metadata": {},
     "output_type": "execute_result"
    }
   ],
   "source": [
    "gifts(number)"
   ]
  },
  {
   "cell_type": "code",
   "execution_count": 56,
   "metadata": {},
   "outputs": [],
   "source": [
    "def gifts(number):\n",
    "    return sorted(v for k, v in GIFTS.items() if k & number)"
   ]
  },
  {
   "cell_type": "code",
   "execution_count": null,
   "metadata": {},
   "outputs": [],
   "source": []
  },
  {
   "cell_type": "markdown",
   "metadata": {},
   "source": [
    "### Function Composition"
   ]
  },
  {
   "cell_type": "markdown",
   "metadata": {},
   "source": [
    "https://mathieularose.com/function-composition-in-python/#:~:text=Composing%20two%20functions,f(g(x))%20."
   ]
  },
  {
   "cell_type": "markdown",
   "metadata": {},
   "source": [
    "https://www.codewars.com/kata/525f3eda17c7cd9f9e000b39/train/python"
   ]
  },
  {
   "cell_type": "code",
   "execution_count": 108,
   "metadata": {},
   "outputs": [],
   "source": [
    "def zero(e=None):\n",
    "    return 0 if e == None else eval(f\"{0}{e}\")\n",
    "\n",
    "def one(e=None):\n",
    "    return 1 if e == None else eval(f\"{1}{e}\")\n",
    "        \n",
    "def two(e=None):\n",
    "    return 2 if e == None else eval(f\"{2}{e}\")\n",
    "    \n",
    "def three(e=None):\n",
    "    return 3 if e == None else eval(f\"{3}{e}\")\n",
    "    \n",
    "def four(e=None):\n",
    "    return 4 if e == None else eval(f\"{4}{e}\")\n",
    "    \n",
    "def five(e=None):\n",
    "    return 5 if e == None else eval(f\"{5}{e}\")\n",
    "    \n",
    "def six(e=None):\n",
    "    return 6 if e == None else eval(f\"{6}{e}\")\n",
    "    \n",
    "def seven(e=None):\n",
    "    return 7 if e == None else eval(f\"{7}{e}\")\n",
    "    \n",
    "def eight(e=None):\n",
    "    return 8 if e == None else eval(f\"{8}{e}\")\n",
    "    \n",
    "def nine(e=None):\n",
    "    return 9 if e == None else eval(f\"{9}{e}\")\n",
    "\n",
    "def plus(num):\n",
    "    return f\" + {num}\"\n",
    "\n",
    "def minus(num):\n",
    "    return f\" - {num}\"\n",
    "\n",
    "def times(num):\n",
    "    return f\" * {num}\"\n",
    "\n",
    "def divided_by(num):\n",
    "    return f\" // {num}\""
   ]
  },
  {
   "cell_type": "code",
   "execution_count": 110,
   "metadata": {},
   "outputs": [
    {
     "data": {
      "text/plain": [
       "15"
      ]
     },
     "execution_count": 110,
     "metadata": {},
     "output_type": "execute_result"
    }
   ],
   "source": [
    "eight(plus(seven()))"
   ]
  },
  {
   "cell_type": "code",
   "execution_count": null,
   "metadata": {},
   "outputs": [],
   "source": [
    "def plus(y): \n",
    "    "
   ]
  }
 ],
 "metadata": {
  "kernelspec": {
   "display_name": "Python [conda env:labs_env]",
   "language": "python",
   "name": "conda-env-labs_env-py"
  },
  "language_info": {
   "codemirror_mode": {
    "name": "ipython",
    "version": 3
   },
   "file_extension": ".py",
   "mimetype": "text/x-python",
   "name": "python",
   "nbconvert_exporter": "python",
   "pygments_lexer": "ipython3",
   "version": "3.7.5"
  }
 },
 "nbformat": 4,
 "nbformat_minor": 2
}
