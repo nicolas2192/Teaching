{
 "cells": [
  {
   "cell_type": "markdown",
   "metadata": {},
   "source": [
    "# It's kata time!\n",
    "---"
   ]
  },
  {
   "cell_type": "markdown",
   "metadata": {},
   "source": [
    "link: https://www.codewars.com/kata/5700af83d1acef83fd000048/train/python"
   ]
  },
  {
   "cell_type": "code",
   "execution_count": 2,
   "metadata": {},
   "outputs": [],
   "source": [
    "def pinpoint_virus(apple):\n",
    "    \"\"\"\n",
    "    Retrieve virus coordinates.\n",
    "    \n",
    "    Parameters:\n",
    "        apple. List of lists. E.g.: \n",
    "          [[\"A\",\"A\",\"A\",\"A\",\"A\"],\n",
    "           [\"V\",\"A\",\"A\",\"A\",\"A\"],\n",
    "           [\"A\",\"A\",\"A\",\"A\",\"A\"],\n",
    "           [\"A\",\"A\",\"A\",\"A\",\"A\"],\n",
    "           [\"A\",\"A\",\"A\",\"A\",\"V\"]]\n",
    "           \n",
    "    Returns:\n",
    "        List of lists. Virus coordinates\n",
    "    \"\"\"\n",
    "    \n",
    "    ROWS = len(apple)\n",
    "    COLS = len(apple[0])\n",
    "    return [[row, col] for row in range(ROWS) for col in range(COLS) if apple[row][col] == \"V\"]"
   ]
  },
  {
   "cell_type": "code",
   "execution_count": 3,
   "metadata": {},
   "outputs": [],
   "source": [
    "def infection(o, max_row, max_col):\n",
    "    \"\"\"\n",
    "    Pinpoint adjacent cells.\n",
    "    \n",
    "    Parameters:\n",
    "        o: List. Center cell. E.g.: [2,3]\n",
    "        max_row: Integer. Apple's number of rows.\n",
    "        max_col: Integer. Apple's number of columns.\n",
    "        \n",
    "    Returns:\n",
    "        List of lists. Cells' coordinates that are next to the virus. \n",
    "    \"\"\"\n",
    "    \n",
    "    strain = [[o[0], o[1] -1], [o[0], o[1] +1], [o[0]-1, o[1]], [o[0]+1, o[1]]]\n",
    "    [strain.remove(i) for i in strain[::-1] if i[0] < 0 or i[0] > max_row-1 or i[1] < 0 or i[1] > max_col-1]\n",
    "    return strain"
   ]
  },
  {
   "cell_type": "code",
   "execution_count": 4,
   "metadata": {},
   "outputs": [],
   "source": [
    "def infect_apple(apple, n):\n",
    "    \"\"\"\n",
    "    Infect the apple.\n",
    "    \n",
    "    Parameters:\n",
    "        apple: List of lists. This is the apple. \n",
    "        n: Integer. Infection rate.\n",
    "    \n",
    "    Returns:\n",
    "        List of lists. Infected apple.\n",
    "    \"\"\"\n",
    "    \n",
    "    ROWS = len(apple)\n",
    "    COLS = len(apple[0])\n",
    "    \n",
    "    for i in range(n):\n",
    "    \n",
    "        # New strain\n",
    "        virus = pinpoint_virus(apple)\n",
    "        new_strain = [i for v in virus for i in infection(v, ROWS, COLS)]\n",
    "\n",
    "        # Apple modification\n",
    "        for row in range(ROWS):\n",
    "            for col in range(COLS):\n",
    "                if [row,col] in new_strain:\n",
    "                    apple[row][col] = \"V\"\n",
    "    \n",
    "    return apple"
   ]
  },
  {
   "cell_type": "code",
   "execution_count": 5,
   "metadata": {},
   "outputs": [
    {
     "data": {
      "text/plain": [
       "[['V', 'A', 'A', 'A', 'A'],\n",
       " ['V', 'V', 'A', 'A', 'A'],\n",
       " ['V', 'A', 'A', 'A', 'A'],\n",
       " ['A', 'A', 'A', 'A', 'A'],\n",
       " ['A', 'A', 'A', 'A', 'A']]"
      ]
     },
     "execution_count": 5,
     "metadata": {},
     "output_type": "execute_result"
    }
   ],
   "source": [
    "apple=[[\"A\",\"A\",\"A\",\"A\",\"A\"],\n",
    "       [\"V\",\"A\",\"A\",\"A\",\"A\"],\n",
    "       [\"A\",\"A\",\"A\",\"A\",\"A\"],\n",
    "       [\"A\",\"A\",\"A\",\"A\",\"A\"],\n",
    "       [\"A\",\"A\",\"A\",\"A\",\"A\"]]\n",
    "\n",
    "infect_apple(apple, 1)"
   ]
  },
  {
   "cell_type": "markdown",
   "metadata": {},
   "source": [
    "# Playing with classes\n",
    "---"
   ]
  },
  {
   "cell_type": "code",
   "execution_count": 23,
   "metadata": {},
   "outputs": [],
   "source": [
    "import random\n",
    "\n",
    "class Apple(object):\n",
    "    \"\"\"\n",
    "    It's a juicy and healthy apple!\n",
    "    \"\"\"\n",
    "    \n",
    "    def __init__(self, d=5, cell=\"·\"):\n",
    "        \"\"\"\n",
    "        Create an apple object.\n",
    "        \n",
    "        Parameters:\n",
    "            d: Integer. Apple's dimension.\n",
    "            cell = String. Individual cell graphic representation. \n",
    "            \n",
    "        Attributes:\n",
    "            rows, cols and apple set the apple's dimension. \n",
    "            For example, if d is set to 3 and cell's argument is \"·\", \n",
    "            your apple will look like this:\n",
    "            [['·', '·', '·'], \n",
    "             ['·', '·', '·'], \n",
    "             ['·', '·', '·']]\n",
    "        \"\"\"\n",
    "        \n",
    "        self.rows = d\n",
    "        self.cols = d\n",
    "        self.cell = cell\n",
    "        self.apple = [[cell]*d for x in range(d)]\n",
    "    \n",
    "    def infect(self, amount=1):\n",
    "        \"\"\"\n",
    "        Infect the apple randomnly.\n",
    "        \n",
    "        Parameters:\n",
    "            amount: Integer. Number of viruses to be added randomnly.\n",
    "        \n",
    "        Returns:\n",
    "            None. Infects the apple. \n",
    "        \"\"\"\n",
    "        \n",
    "        for a in range(amount):\n",
    "            # New virus.\n",
    "            virus = [random.randint(0,self.rows-1), random.randint(0,self.cols-1)]\n",
    "\n",
    "            # Infect apple.\n",
    "            self.apple[virus[0]][virus[1]] = \"V\"\n",
    "        \n",
    "    def __pinpoint_virus(self):\n",
    "        \"\"\"\n",
    "        Retrieve virus coordinates.\n",
    "        \"\"\"\n",
    "\n",
    "        return [[row, col] for row in range(self.rows) for col in range(self.cols) if self.apple[row][col] == \"V\"]\n",
    "    \n",
    "    def __infection(self, o, max_row, max_col):\n",
    "        \"\"\"\n",
    "        Pinpoint adjacent cells.\n",
    "        \n",
    "        Parameters:\n",
    "            o: List. Center cell. E.g.: [2,3]\n",
    "            max_row: Integer. Apple's number of rows.\n",
    "            max_col: Integer. Apple's number of columns.\n",
    "\n",
    "        Returns:\n",
    "            List of lists. Cells' coordinates that are next to the virus. \n",
    "            Given [2,3] as a center cell in an apple with a max_row and a max_col of 5,\n",
    "            this function returns as adjacent cells: [[2, 2], [2, 4], [1, 3], [3, 3]]\n",
    "        \"\"\"\n",
    "        \n",
    "        strain = [[o[0], o[1] -1], [o[0], o[1] +1], [o[0]-1, o[1]], [o[0]+1, o[1]]]\n",
    "        [strain.remove(i) for i in strain[::-1] if i[0] < 0 or i[0] > max_row-1 or i[1] < 0 or i[1] > max_col-1]\n",
    "        return strain\n",
    "    \n",
    "    def spread_infection(self, infection_rate=1):\n",
    "        \"\"\"\n",
    "        Spread current infection.\n",
    "        \n",
    "        Parameters:\n",
    "            infection_rate: Integer. Infection rate speed. Default 1.\n",
    "        \n",
    "        Returns:\n",
    "            None. Spreads infection.\n",
    "        \"\"\"\n",
    "        \n",
    "        for rate in range(infection_rate):\n",
    "            # New strain\n",
    "            virus = self.__pinpoint_virus()\n",
    "            new_strain = [i for v in virus for i in self.__infection(v, self.rows, self.cols)]\n",
    "\n",
    "            # Apple modification\n",
    "            for row in range(self.rows):\n",
    "                for col in range(self.cols):\n",
    "                    if [row,col] in new_strain:\n",
    "                        self.apple[row][col] = \"V\"\n",
    "    "
   ]
  },
  {
   "cell_type": "code",
   "execution_count": 24,
   "metadata": {},
   "outputs": [],
   "source": [
    "royal = Apple(d=8, cell=\"·\")"
   ]
  },
  {
   "cell_type": "code",
   "execution_count": 25,
   "metadata": {},
   "outputs": [],
   "source": [
    "royal.infect(2)"
   ]
  },
  {
   "cell_type": "code",
   "execution_count": 27,
   "metadata": {},
   "outputs": [
    {
     "data": {
      "text/plain": [
       "[['·', '·', '·', '·', '·', '·', '·', '·'],\n",
       " ['·', '·', '·', '·', '·', '·', '·', '·'],\n",
       " ['·', '·', 'V', '·', '·', '·', '·', '·'],\n",
       " ['·', '·', '·', '·', '·', '·', '·', '·'],\n",
       " ['·', '·', '·', '·', '·', '·', '·', '·'],\n",
       " ['·', '·', '·', 'V', '·', '·', '·', '·'],\n",
       " ['·', '·', '·', '·', '·', '·', '·', '·'],\n",
       " ['·', '·', '·', '·', '·', '·', '·', '·']]"
      ]
     },
     "execution_count": 27,
     "metadata": {},
     "output_type": "execute_result"
    }
   ],
   "source": [
    "royal.apple"
   ]
  },
  {
   "cell_type": "code",
   "execution_count": 28,
   "metadata": {},
   "outputs": [],
   "source": [
    "royal.spread_infection(infection_rate=1)"
   ]
  },
  {
   "cell_type": "code",
   "execution_count": 29,
   "metadata": {},
   "outputs": [
    {
     "data": {
      "text/plain": [
       "[['·', '·', '·', '·', '·', '·', '·', '·'],\n",
       " ['·', '·', 'V', '·', '·', '·', '·', '·'],\n",
       " ['·', 'V', 'V', 'V', '·', '·', '·', '·'],\n",
       " ['·', '·', 'V', '·', '·', '·', '·', '·'],\n",
       " ['·', '·', '·', 'V', '·', '·', '·', '·'],\n",
       " ['·', '·', 'V', 'V', 'V', '·', '·', '·'],\n",
       " ['·', '·', '·', 'V', '·', '·', '·', '·'],\n",
       " ['·', '·', '·', '·', '·', '·', '·', '·']]"
      ]
     },
     "execution_count": 29,
     "metadata": {},
     "output_type": "execute_result"
    }
   ],
   "source": [
    "royal.apple"
   ]
  },
  {
   "cell_type": "code",
   "execution_count": null,
   "metadata": {},
   "outputs": [],
   "source": []
  }
 ],
 "metadata": {
  "kernelspec": {
   "display_name": "Python 3",
   "language": "python",
   "name": "python3"
  },
  "language_info": {
   "codemirror_mode": {
    "name": "ipython",
    "version": 3
   },
   "file_extension": ".py",
   "mimetype": "text/x-python",
   "name": "python",
   "nbconvert_exporter": "python",
   "pygments_lexer": "ipython3",
   "version": "3.7.5"
  }
 },
 "nbformat": 4,
 "nbformat_minor": 4
}
