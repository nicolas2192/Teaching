{
 "cells": [
  {
   "cell_type": "markdown",
   "metadata": {},
   "source": [
    "# Saturday Katas"
   ]
  },
  {
   "cell_type": "markdown",
   "metadata": {},
   "source": [
    "### Kata 1\n",
    "\n",
    "https://www.codewars.com/kata/magic-the-gathering-number-1-creatures"
   ]
  },
  {
   "cell_type": "code",
   "execution_count": 19,
   "metadata": {},
   "outputs": [],
   "source": [
    "player1 = [[1, 1], [2, 1], [2, 2], [5, 5]]\n",
    "player2 = [[1, 2], [1, 2], [3, 3]]"
   ]
  },
  {
   "cell_type": "code",
   "execution_count": 20,
   "metadata": {},
   "outputs": [],
   "source": [
    "def pit_against(c1, c2):\n",
    "    if c1[0] >= c2[1] and c1[1] > c2[0]:\n",
    "        return c1, None\n",
    "    \n",
    "    elif c2[0] >= c1[1] and c2[1] > c1[0]:\n",
    "        return None, c2\n",
    "    \n",
    "    elif c1[0] < c2[1] and c1[1] > c2[0]:\n",
    "        return c1, c2\n",
    "    \n",
    "    else:\n",
    "        return None, None"
   ]
  },
  {
   "cell_type": "code",
   "execution_count": 21,
   "metadata": {},
   "outputs": [],
   "source": [
    "def battle(player1, player2):\n",
    "    matches = min(len(player1), len(player2))\n",
    "    \n",
    "    for match in range(matches):\n",
    "        player1[match], player2[match] = pit_against(player1[match], player2[match])\n",
    "        \n",
    "    player1 = list(filter(lambda x: x is not None, player1))\n",
    "    player2 = list(filter(lambda x: x is not None, player2))\n",
    "    \n",
    "    final_dict = {\"player1\": player1, \"player2\": player2}\n",
    "    \n",
    "    return final_dict"
   ]
  },
  {
   "cell_type": "code",
   "execution_count": 22,
   "metadata": {},
   "outputs": [
    {
     "data": {
      "text/plain": [
       "[None, None, None, [5, 5]]"
      ]
     },
     "metadata": {},
     "output_type": "display_data"
    },
    {
     "data": {
      "text/plain": [
       "[[1, 2], None, [3, 3]]"
      ]
     },
     "metadata": {},
     "output_type": "display_data"
    },
    {
     "data": {
      "text/plain": [
       "{'player1': [[5, 5]], 'player2': [[1, 2], [3, 3]]}"
      ]
     },
     "execution_count": 22,
     "metadata": {},
     "output_type": "execute_result"
    }
   ],
   "source": [
    "battle(player1, player2)"
   ]
  },
  {
   "cell_type": "markdown",
   "metadata": {},
   "source": [
    "### Kata 2\n",
    "\n",
    "https://www.codewars.com/kata/55c45be3b2079eccff00010f"
   ]
  },
  {
   "cell_type": "code",
   "execution_count": 7,
   "metadata": {},
   "outputs": [],
   "source": [
    "import re"
   ]
  },
  {
   "cell_type": "code",
   "execution_count": 23,
   "metadata": {},
   "outputs": [],
   "source": [
    "def order(sentence):\n",
    "    if len(sentence) == 0: return \"\"\n",
    "    words = sentence.split()\n",
    "    pos = list(filter(lambda x: x != \"\", re.findall(\"[0-9]*\", sentence)))\n",
    "    ordered_list = sorted(zip(words, pos), key=lambda x: x[1])\n",
    "    words, pos = zip(*ordered_list)\n",
    "    sentence = \" \".join(words)\n",
    "    return sentence"
   ]
  },
  {
   "cell_type": "code",
   "execution_count": 24,
   "metadata": {},
   "outputs": [],
   "source": [
    "text = \"4of Fo1r pe6ople g3ood th5e the2\""
   ]
  },
  {
   "cell_type": "code",
   "execution_count": 25,
   "metadata": {},
   "outputs": [
    {
     "data": {
      "text/plain": [
       "'Fo1r the2 g3ood 4of th5e pe6ople'"
      ]
     },
     "execution_count": 25,
     "metadata": {},
     "output_type": "execute_result"
    }
   ],
   "source": [
    "order(text)"
   ]
  }
 ],
 "metadata": {
  "kernelspec": {
   "display_name": "Python [conda env:labs_env]",
   "language": "python",
   "name": "conda-env-labs_env-py"
  },
  "language_info": {
   "codemirror_mode": {
    "name": "ipython",
    "version": 3
   },
   "file_extension": ".py",
   "mimetype": "text/x-python",
   "name": "python",
   "nbconvert_exporter": "python",
   "pygments_lexer": "ipython3",
   "version": "3.7.5"
  }
 },
 "nbformat": 4,
 "nbformat_minor": 2
}
