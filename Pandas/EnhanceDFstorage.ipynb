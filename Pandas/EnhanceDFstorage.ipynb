{
 "cells": [
  {
   "cell_type": "markdown",
   "id": "81e50d2d-8ce2-45b4-888f-9e6b246d3d4a",
   "metadata": {},
   "source": [
    "# Store data efficiently\n",
    "Decrease Pandas DataFrames size.\n",
    "---"
   ]
  },
  {
   "cell_type": "code",
   "execution_count": 4,
   "id": "4d6c5b13-8369-4499-9840-5302fb140814",
   "metadata": {},
   "outputs": [],
   "source": [
    "import pandas as pd\n",
    "import random"
   ]
  },
  {
   "cell_type": "markdown",
   "id": "a18a95b1-2ecb-4f57-946f-fd1e1772465c",
   "metadata": {},
   "source": [
    "### 1. Cast Categorical Variables\n",
    "\n",
    "Size goes down from 60kb to 1.6kb"
   ]
  },
  {
   "cell_type": "code",
   "execution_count": 17,
   "id": "3318ad36-fe40-44bc-970d-9b74a8014dd5",
   "metadata": {},
   "outputs": [
    {
     "name": "stdout",
     "output_type": "stream",
     "text": [
      "<class 'pandas.core.frame.DataFrame'>\n",
      "RangeIndex: 1000 entries, 0 to 999\n",
      "Data columns (total 1 columns):\n",
      " #   Column  Non-Null Count  Dtype \n",
      "---  ------  --------------  ----- \n",
      " 0   color   1000 non-null   object\n",
      "dtypes: object(1)\n",
      "memory usage: 60.4 KB\n",
      "None\n"
     ]
    }
   ],
   "source": [
    "colors = ['WHITE', 'BLACK','RED','YELLOW','BLUE','GREEN']\n",
    "colors_column = [random.choice(colors) for x in range(1000)]\n",
    "df = pd.DataFrame({'color':colors_column})\n",
    "print(df.info(memory_usage=\"deep\"))"
   ]
  },
  {
   "cell_type": "code",
   "execution_count": 19,
   "id": "ca5d1997-192c-43f3-850f-46bfcc062776",
   "metadata": {},
   "outputs": [
    {
     "name": "stdout",
     "output_type": "stream",
     "text": [
      "<class 'pandas.core.frame.DataFrame'>\n",
      "RangeIndex: 1000 entries, 0 to 999\n",
      "Data columns (total 1 columns):\n",
      " #   Column  Non-Null Count  Dtype   \n",
      "---  ------  --------------  -----   \n",
      " 0   color   1000 non-null   category\n",
      "dtypes: category(1)\n",
      "memory usage: 1.6 KB\n",
      "None\n"
     ]
    }
   ],
   "source": [
    "df['color'] =  df['color'].astype('category')\n",
    "print(df.info(memory_usage=\"deep\"))"
   ]
  },
  {
   "cell_type": "markdown",
   "id": "63c7e059-8dee-4f58-82e1-f6ee810cc60a",
   "metadata": {},
   "source": [
    "### 2. Cast Boolean Variables\n",
    "\n",
    "Size goes down from 60kb (strings) and 7.9kb (integers 1 and 0) to 1.1kb"
   ]
  },
  {
   "cell_type": "code",
   "execution_count": 45,
   "id": "0db5902f-85d9-40d3-8246-8234049e5938",
   "metadata": {},
   "outputs": [
    {
     "name": "stdout",
     "output_type": "stream",
     "text": [
      "<class 'pandas.core.frame.DataFrame'>\n",
      "RangeIndex: 1000 entries, 0 to 999\n",
      "Data columns (total 1 columns):\n",
      " #   Column  Non-Null Count  Dtype \n",
      "---  ------  --------------  ----- \n",
      " 0   toss    1000 non-null   object\n",
      "dtypes: object(1)\n",
      "memory usage: 60.7 KB\n",
      "None\n"
     ]
    }
   ],
   "source": [
    "toss = ['Heads', 'Tails']\n",
    "toss_col = [random.choice(toss) for x in range(1000)]\n",
    "df = pd.DataFrame({'toss':toss_col})\n",
    "print(df.info(memory_usage=\"deep\"))"
   ]
  },
  {
   "cell_type": "code",
   "execution_count": 46,
   "id": "8aa09dc9-5803-4a38-86de-9520d7ab7d6c",
   "metadata": {},
   "outputs": [
    {
     "name": "stdout",
     "output_type": "stream",
     "text": [
      "<class 'pandas.core.frame.DataFrame'>\n",
      "RangeIndex: 1000 entries, 0 to 999\n",
      "Data columns (total 1 columns):\n",
      " #   Column  Non-Null Count  Dtype\n",
      "---  ------  --------------  -----\n",
      " 0   toss    1000 non-null   bool \n",
      "dtypes: bool(1)\n",
      "memory usage: 1.1 KB\n",
      "None\n"
     ]
    }
   ],
   "source": [
    "df['toss'] =  df['toss'].map({'Heads': True, 'Tails': False})\n",
    "print(df.info(memory_usage=\"deep\"))"
   ]
  },
  {
   "cell_type": "code",
   "execution_count": 48,
   "id": "21d581b2-8737-4f1e-bd7a-f19109257bbd",
   "metadata": {},
   "outputs": [
    {
     "name": "stdout",
     "output_type": "stream",
     "text": [
      "<class 'pandas.core.frame.DataFrame'>\n",
      "RangeIndex: 1000 entries, 0 to 999\n",
      "Data columns (total 1 columns):\n",
      " #   Column  Non-Null Count  Dtype\n",
      "---  ------  --------------  -----\n",
      " 0   toss    1000 non-null   int64\n",
      "dtypes: int64(1)\n",
      "memory usage: 7.9 KB\n",
      "None\n"
     ]
    }
   ],
   "source": [
    "toss = [1, 0]\n",
    "toss_col = [random.choice(toss) for x in range(1000)]\n",
    "df = pd.DataFrame({'toss':toss_col})\n",
    "print(df.info(memory_usage=\"deep\"))"
   ]
  },
  {
   "cell_type": "code",
   "execution_count": 49,
   "id": "4c78b615-c0e5-41c8-92fe-2ecbf8a6fded",
   "metadata": {},
   "outputs": [
    {
     "name": "stdout",
     "output_type": "stream",
     "text": [
      "<class 'pandas.core.frame.DataFrame'>\n",
      "RangeIndex: 1000 entries, 0 to 999\n",
      "Data columns (total 1 columns):\n",
      " #   Column  Non-Null Count  Dtype\n",
      "---  ------  --------------  -----\n",
      " 0   toss    1000 non-null   bool \n",
      "dtypes: bool(1)\n",
      "memory usage: 1.1 KB\n",
      "None\n"
     ]
    }
   ],
   "source": [
    "df['toss'] =  df['toss'].astype('bool')\n",
    "print(df.info(memory_usage=\"deep\"))"
   ]
  },
  {
   "cell_type": "markdown",
   "id": "9b090325-5373-444a-b405-476e969f2648",
   "metadata": {},
   "source": [
    "### 3. Downcast Integers\n",
    "\n",
    "By default, Pandas creates int64 integer objects, consider downcasting it to int8 when not dealing with huge numbers.\n",
    "\n",
    "Size goes down from 7.9kb to 1.1kb"
   ]
  },
  {
   "cell_type": "code",
   "execution_count": 100,
   "id": "2a829a16-98f5-4502-8b5a-e374834d0b96",
   "metadata": {},
   "outputs": [
    {
     "name": "stdout",
     "output_type": "stream",
     "text": [
      "<class 'pandas.core.frame.DataFrame'>\n",
      "RangeIndex: 1000 entries, 0 to 999\n",
      "Data columns (total 1 columns):\n",
      " #   Column  Non-Null Count  Dtype\n",
      "---  ------  --------------  -----\n",
      " 0   years   1000 non-null   int64\n",
      "dtypes: int64(1)\n",
      "memory usage: 7.9 KB\n",
      "None\n"
     ]
    }
   ],
   "source": [
    "years = [2, 3, 4, 5, 6, 7, 8, 9, 1, 2]\n",
    "year_col = [random.choice(years) for x in range(1000)]\n",
    "df = pd.DataFrame({'years':year_col})\n",
    "print(df.info(memory_usage=\"deep\"))"
   ]
  },
  {
   "cell_type": "code",
   "execution_count": 101,
   "id": "9f5e65c3-597e-4fb2-8935-87e073479add",
   "metadata": {},
   "outputs": [
    {
     "name": "stdout",
     "output_type": "stream",
     "text": [
      "<class 'pandas.core.frame.DataFrame'>\n",
      "RangeIndex: 1000 entries, 0 to 999\n",
      "Data columns (total 1 columns):\n",
      " #   Column  Non-Null Count  Dtype\n",
      "---  ------  --------------  -----\n",
      " 0   years   1000 non-null   int8 \n",
      "dtypes: int8(1)\n",
      "memory usage: 1.1 KB\n",
      "None\n"
     ]
    }
   ],
   "source": [
    "df['years'] = df['years'].astype('int8')\n",
    "print(df.info(memory_usage=\"deep\"))"
   ]
  },
  {
   "cell_type": "markdown",
   "id": "313845ee-a542-4b8a-841c-6bee597982f6",
   "metadata": {},
   "source": [
    "### 4. Putting it all together\n",
    "Would the size decrease improve the cpu processing time? No."
   ]
  },
  {
   "cell_type": "code",
   "execution_count": 102,
   "id": "9929b7c3-7666-4414-a03a-20b6a4dd7bb4",
   "metadata": {},
   "outputs": [],
   "source": [
    "def super_conditional(row):\n",
    "    if row[0] in ['RED', 'YELLOW'] and row[1] == False and row[2] == True and row[3] <= 2005:\n",
    "        return 1\n",
    "    else:\n",
    "        return 0"
   ]
  },
  {
   "cell_type": "code",
   "execution_count": 103,
   "id": "9e7edb9d-e3fe-4ed4-9b4c-003c72ca9047",
   "metadata": {},
   "outputs": [
    {
     "name": "stdout",
     "output_type": "stream",
     "text": [
      "<class 'pandas.core.frame.DataFrame'>\n",
      "RangeIndex: 1000000 entries, 0 to 999999\n",
      "Data columns (total 4 columns):\n",
      " #   Column    Non-Null Count    Dtype \n",
      "---  ------    --------------    ----- \n",
      " 0   colors    1000000 non-null  object\n",
      " 1   toss      1000000 non-null  object\n",
      " 2   toss_int  1000000 non-null  int64 \n",
      " 3   years     1000000 non-null  int64 \n",
      "dtypes: int64(2), object(2)\n",
      "memory usage: 133.2 MB\n",
      "None\n"
     ]
    }
   ],
   "source": [
    "colors = ['WHITE', 'BLACK','RED','YELLOW','BLUE','GREEN']\n",
    "colors_col = [random.choice(colors) for x in range(1000000)]\n",
    "\n",
    "toss = ['Heads', 'Tails']\n",
    "toss_col = [random.choice(toss) for x in range(1000000)]\n",
    "\n",
    "toss_int = [1, 0]\n",
    "toss_col_int = [random.choice(toss_int) for x in range(1000000)]\n",
    "\n",
    "years = [2, 3, 4, 5, 6, 7, 8, 9, 1, 2]\n",
    "year_col = [random.choice(years) for x in range(1000000)]\n",
    "\n",
    "df = pd.DataFrame({'colors': colors_col, 'toss': toss_col, 'toss_int': toss_col_int, 'years': year_col})\n",
    "print(df.info(memory_usage=\"deep\"))"
   ]
  },
  {
   "cell_type": "code",
   "execution_count": 104,
   "id": "ffcba2d0-88a4-4f01-ad54-a7b1571105dc",
   "metadata": {},
   "outputs": [
    {
     "data": {
      "text/html": [
       "<div>\n",
       "<style scoped>\n",
       "    .dataframe tbody tr th:only-of-type {\n",
       "        vertical-align: middle;\n",
       "    }\n",
       "\n",
       "    .dataframe tbody tr th {\n",
       "        vertical-align: top;\n",
       "    }\n",
       "\n",
       "    .dataframe thead th {\n",
       "        text-align: right;\n",
       "    }\n",
       "</style>\n",
       "<table border=\"1\" class=\"dataframe\">\n",
       "  <thead>\n",
       "    <tr style=\"text-align: right;\">\n",
       "      <th></th>\n",
       "      <th>colors</th>\n",
       "      <th>toss</th>\n",
       "      <th>toss_int</th>\n",
       "      <th>years</th>\n",
       "    </tr>\n",
       "  </thead>\n",
       "  <tbody>\n",
       "    <tr>\n",
       "      <th>0</th>\n",
       "      <td>YELLOW</td>\n",
       "      <td>Tails</td>\n",
       "      <td>1</td>\n",
       "      <td>2</td>\n",
       "    </tr>\n",
       "    <tr>\n",
       "      <th>1</th>\n",
       "      <td>GREEN</td>\n",
       "      <td>Heads</td>\n",
       "      <td>0</td>\n",
       "      <td>8</td>\n",
       "    </tr>\n",
       "    <tr>\n",
       "      <th>2</th>\n",
       "      <td>BLACK</td>\n",
       "      <td>Tails</td>\n",
       "      <td>0</td>\n",
       "      <td>1</td>\n",
       "    </tr>\n",
       "    <tr>\n",
       "      <th>3</th>\n",
       "      <td>GREEN</td>\n",
       "      <td>Tails</td>\n",
       "      <td>1</td>\n",
       "      <td>6</td>\n",
       "    </tr>\n",
       "    <tr>\n",
       "      <th>4</th>\n",
       "      <td>BLUE</td>\n",
       "      <td>Tails</td>\n",
       "      <td>1</td>\n",
       "      <td>6</td>\n",
       "    </tr>\n",
       "  </tbody>\n",
       "</table>\n",
       "</div>"
      ],
      "text/plain": [
       "   colors   toss  toss_int  years\n",
       "0  YELLOW  Tails         1      2\n",
       "1   GREEN  Heads         0      8\n",
       "2   BLACK  Tails         0      1\n",
       "3   GREEN  Tails         1      6\n",
       "4    BLUE  Tails         1      6"
      ]
     },
     "execution_count": 104,
     "metadata": {},
     "output_type": "execute_result"
    }
   ],
   "source": [
    "df.head()"
   ]
  },
  {
   "cell_type": "code",
   "execution_count": 105,
   "id": "65d37099-b911-4ba3-b664-47842f6074f4",
   "metadata": {},
   "outputs": [
    {
     "name": "stdout",
     "output_type": "stream",
     "text": [
      "CPU times: user 2.62 s, sys: 31.2 ms, total: 2.65 s\n",
      "Wall time: 2.65 s\n"
     ]
    },
    {
     "data": {
      "text/plain": [
       "0         0\n",
       "1         0\n",
       "2         0\n",
       "3         0\n",
       "4         0\n",
       "         ..\n",
       "999995    0\n",
       "999996    0\n",
       "999997    0\n",
       "999998    0\n",
       "999999    0\n",
       "Length: 1000000, dtype: int64"
      ]
     },
     "execution_count": 105,
     "metadata": {},
     "output_type": "execute_result"
    }
   ],
   "source": [
    "%%time\n",
    "df.apply(super_conditional, axis=1)"
   ]
  },
  {
   "cell_type": "code",
   "execution_count": 106,
   "id": "5bcbfa07-c6be-4272-a9a8-13183594eb13",
   "metadata": {},
   "outputs": [
    {
     "name": "stdout",
     "output_type": "stream",
     "text": [
      "<class 'pandas.core.frame.DataFrame'>\n",
      "RangeIndex: 1000000 entries, 0 to 999999\n",
      "Data columns (total 4 columns):\n",
      " #   Column    Non-Null Count    Dtype   \n",
      "---  ------    --------------    -----   \n",
      " 0   colors    1000000 non-null  category\n",
      " 1   toss      1000000 non-null  bool    \n",
      " 2   toss_int  1000000 non-null  bool    \n",
      " 3   years     1000000 non-null  int8    \n",
      "dtypes: bool(2), category(1), int8(1)\n",
      "memory usage: 3.8 MB\n",
      "None\n"
     ]
    }
   ],
   "source": [
    "df['colors'] = df['colors'].astype('category')\n",
    "df['toss'] = df['toss'].map({'Heads': True, 'Tails': False})\n",
    "df['toss_int'] = df['toss_int'].astype('bool')\n",
    "df['years'] = df['years'].astype('int8')\n",
    "print(df.info(memory_usage=\"deep\"))"
   ]
  },
  {
   "cell_type": "code",
   "execution_count": 107,
   "id": "504caeb8-30d5-4f93-94bc-3dbb3bdc9af1",
   "metadata": {},
   "outputs": [
    {
     "data": {
      "text/html": [
       "<div>\n",
       "<style scoped>\n",
       "    .dataframe tbody tr th:only-of-type {\n",
       "        vertical-align: middle;\n",
       "    }\n",
       "\n",
       "    .dataframe tbody tr th {\n",
       "        vertical-align: top;\n",
       "    }\n",
       "\n",
       "    .dataframe thead th {\n",
       "        text-align: right;\n",
       "    }\n",
       "</style>\n",
       "<table border=\"1\" class=\"dataframe\">\n",
       "  <thead>\n",
       "    <tr style=\"text-align: right;\">\n",
       "      <th></th>\n",
       "      <th>colors</th>\n",
       "      <th>toss</th>\n",
       "      <th>toss_int</th>\n",
       "      <th>years</th>\n",
       "    </tr>\n",
       "  </thead>\n",
       "  <tbody>\n",
       "    <tr>\n",
       "      <th>0</th>\n",
       "      <td>YELLOW</td>\n",
       "      <td>False</td>\n",
       "      <td>True</td>\n",
       "      <td>2</td>\n",
       "    </tr>\n",
       "    <tr>\n",
       "      <th>1</th>\n",
       "      <td>GREEN</td>\n",
       "      <td>True</td>\n",
       "      <td>False</td>\n",
       "      <td>8</td>\n",
       "    </tr>\n",
       "    <tr>\n",
       "      <th>2</th>\n",
       "      <td>BLACK</td>\n",
       "      <td>False</td>\n",
       "      <td>False</td>\n",
       "      <td>1</td>\n",
       "    </tr>\n",
       "    <tr>\n",
       "      <th>3</th>\n",
       "      <td>GREEN</td>\n",
       "      <td>False</td>\n",
       "      <td>True</td>\n",
       "      <td>6</td>\n",
       "    </tr>\n",
       "    <tr>\n",
       "      <th>4</th>\n",
       "      <td>BLUE</td>\n",
       "      <td>False</td>\n",
       "      <td>True</td>\n",
       "      <td>6</td>\n",
       "    </tr>\n",
       "  </tbody>\n",
       "</table>\n",
       "</div>"
      ],
      "text/plain": [
       "   colors   toss  toss_int  years\n",
       "0  YELLOW  False      True      2\n",
       "1   GREEN   True     False      8\n",
       "2   BLACK  False     False      1\n",
       "3   GREEN  False      True      6\n",
       "4    BLUE  False      True      6"
      ]
     },
     "execution_count": 107,
     "metadata": {},
     "output_type": "execute_result"
    }
   ],
   "source": [
    "df.head()"
   ]
  },
  {
   "cell_type": "code",
   "execution_count": 108,
   "id": "f48df865-faea-47bd-a0c4-c2b2ce6ed62d",
   "metadata": {},
   "outputs": [
    {
     "name": "stdout",
     "output_type": "stream",
     "text": [
      "CPU times: user 2.81 s, sys: 31 ms, total: 2.84 s\n",
      "Wall time: 2.84 s\n"
     ]
    },
    {
     "data": {
      "text/plain": [
       "0         1\n",
       "1         0\n",
       "2         0\n",
       "3         0\n",
       "4         0\n",
       "         ..\n",
       "999995    1\n",
       "999996    0\n",
       "999997    0\n",
       "999998    0\n",
       "999999    0\n",
       "Length: 1000000, dtype: int64"
      ]
     },
     "execution_count": 108,
     "metadata": {},
     "output_type": "execute_result"
    }
   ],
   "source": [
    "%%time\n",
    "df.apply(super_conditional, axis=1)"
   ]
  }
 ],
 "metadata": {
  "kernelspec": {
   "display_name": "Python [conda env:snake]",
   "language": "python",
   "name": "conda-env-snake-py"
  },
  "language_info": {
   "codemirror_mode": {
    "name": "ipython",
    "version": 3
   },
   "file_extension": ".py",
   "mimetype": "text/x-python",
   "name": "python",
   "nbconvert_exporter": "python",
   "pygments_lexer": "ipython3",
   "version": "3.9.13"
  }
 },
 "nbformat": 4,
 "nbformat_minor": 5
}
